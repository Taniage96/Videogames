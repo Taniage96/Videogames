{
 "cells": [
  {
   "cell_type": "markdown",
   "metadata": {},
   "source": [
    "This project aims to analyze a set of video game sales data to identify patterns that can determine the success or failure of a game. The analysis will focus on factors such as platforms, genres, user and expert ratings, and historical sales. The results obtained will be used to develop strategies to identify promising projects and plan effective advertising campaigns."
   ]
  },
  {
   "cell_type": "code",
   "execution_count": 173,
   "metadata": {
    "tags": [
     "e5c1f0c2-db9f-43a0-99b9-4875c52427e8"
    ]
   },
   "outputs": [],
   "source": [
    "#Load all libraries\n",
    "import pandas as pd\n",
    "from scipy import stats as st\n",
    "import math as mt\n",
    "import numpy as np\n",
    "from math import factorial\n",
    "import matplotlib.pyplot as plt\n",
    "import plotly.express as px\n",
    "import numpy as np\n",
    "import seaborn as sns\n",
    "from scipy.stats import levene, ttest_ind"
   ]
  },
  {
   "cell_type": "markdown",
   "metadata": {},
   "source": [
    "# Step 1. Open the data file and study the general information"
   ]
  },
  {
   "cell_type": "code",
   "execution_count": 174,
   "metadata": {},
   "outputs": [],
   "source": [
    "#Load the data file\n",
    "df = pd.read_csv('games.csv')"
   ]
  },
  {
   "cell_type": "markdown",
   "metadata": {},
   "source": [
    "# Step 2. Prepare the data"
   ]
  },
  {
   "cell_type": "code",
   "execution_count": 175,
   "metadata": {},
   "outputs": [
    {
     "name": "stdout",
     "output_type": "stream",
     "text": [
      "<class 'pandas.core.frame.DataFrame'>\n",
      "RangeIndex: 16715 entries, 0 to 16714\n",
      "Data columns (total 11 columns):\n",
      " #   Column           Non-Null Count  Dtype  \n",
      "---  ------           --------------  -----  \n",
      " 0   Name             16713 non-null  object \n",
      " 1   Platform         16715 non-null  object \n",
      " 2   Year_of_Release  16446 non-null  float64\n",
      " 3   Genre            16713 non-null  object \n",
      " 4   NA_sales         16715 non-null  float64\n",
      " 5   EU_sales         16715 non-null  float64\n",
      " 6   JP_sales         16715 non-null  float64\n",
      " 7   Other_sales      16715 non-null  float64\n",
      " 8   Critic_Score     8137 non-null   float64\n",
      " 9   User_Score       10014 non-null  object \n",
      " 10  Rating           9949 non-null   object \n",
      "dtypes: float64(6), object(5)\n",
      "memory usage: 1.4+ MB\n"
     ]
    }
   ],
   "source": [
    "#Print the general/summarized information about the DataFrame\n",
    "df.info()"
   ]
  },
  {
   "cell_type": "code",
   "execution_count": 176,
   "metadata": {},
   "outputs": [
    {
     "data": {
      "text/html": [
       "<div>\n",
       "<style scoped>\n",
       "    .dataframe tbody tr th:only-of-type {\n",
       "        vertical-align: middle;\n",
       "    }\n",
       "\n",
       "    .dataframe tbody tr th {\n",
       "        vertical-align: top;\n",
       "    }\n",
       "\n",
       "    .dataframe thead th {\n",
       "        text-align: right;\n",
       "    }\n",
       "</style>\n",
       "<table border=\"1\" class=\"dataframe\">\n",
       "  <thead>\n",
       "    <tr style=\"text-align: right;\">\n",
       "      <th></th>\n",
       "      <th>Name</th>\n",
       "      <th>Platform</th>\n",
       "      <th>Year_of_Release</th>\n",
       "      <th>Genre</th>\n",
       "      <th>NA_sales</th>\n",
       "      <th>EU_sales</th>\n",
       "      <th>JP_sales</th>\n",
       "      <th>Other_sales</th>\n",
       "      <th>Critic_Score</th>\n",
       "      <th>User_Score</th>\n",
       "      <th>Rating</th>\n",
       "    </tr>\n",
       "  </thead>\n",
       "  <tbody>\n",
       "    <tr>\n",
       "      <th>0</th>\n",
       "      <td>Wii Sports</td>\n",
       "      <td>Wii</td>\n",
       "      <td>2006.0</td>\n",
       "      <td>Sports</td>\n",
       "      <td>41.36</td>\n",
       "      <td>28.96</td>\n",
       "      <td>3.77</td>\n",
       "      <td>8.45</td>\n",
       "      <td>76.0</td>\n",
       "      <td>8</td>\n",
       "      <td>E</td>\n",
       "    </tr>\n",
       "    <tr>\n",
       "      <th>1</th>\n",
       "      <td>Super Mario Bros.</td>\n",
       "      <td>NES</td>\n",
       "      <td>1985.0</td>\n",
       "      <td>Platform</td>\n",
       "      <td>29.08</td>\n",
       "      <td>3.58</td>\n",
       "      <td>6.81</td>\n",
       "      <td>0.77</td>\n",
       "      <td>NaN</td>\n",
       "      <td>NaN</td>\n",
       "      <td>NaN</td>\n",
       "    </tr>\n",
       "    <tr>\n",
       "      <th>2</th>\n",
       "      <td>Mario Kart Wii</td>\n",
       "      <td>Wii</td>\n",
       "      <td>2008.0</td>\n",
       "      <td>Racing</td>\n",
       "      <td>15.68</td>\n",
       "      <td>12.76</td>\n",
       "      <td>3.79</td>\n",
       "      <td>3.29</td>\n",
       "      <td>82.0</td>\n",
       "      <td>8.3</td>\n",
       "      <td>E</td>\n",
       "    </tr>\n",
       "    <tr>\n",
       "      <th>3</th>\n",
       "      <td>Wii Sports Resort</td>\n",
       "      <td>Wii</td>\n",
       "      <td>2009.0</td>\n",
       "      <td>Sports</td>\n",
       "      <td>15.61</td>\n",
       "      <td>10.93</td>\n",
       "      <td>3.28</td>\n",
       "      <td>2.95</td>\n",
       "      <td>80.0</td>\n",
       "      <td>8</td>\n",
       "      <td>E</td>\n",
       "    </tr>\n",
       "    <tr>\n",
       "      <th>4</th>\n",
       "      <td>Pokemon Red/Pokemon Blue</td>\n",
       "      <td>GB</td>\n",
       "      <td>1996.0</td>\n",
       "      <td>Role-Playing</td>\n",
       "      <td>11.27</td>\n",
       "      <td>8.89</td>\n",
       "      <td>10.22</td>\n",
       "      <td>1.00</td>\n",
       "      <td>NaN</td>\n",
       "      <td>NaN</td>\n",
       "      <td>NaN</td>\n",
       "    </tr>\n",
       "  </tbody>\n",
       "</table>\n",
       "</div>"
      ],
      "text/plain": [
       "                       Name Platform  Year_of_Release         Genre  NA_sales  \\\n",
       "0                Wii Sports      Wii           2006.0        Sports     41.36   \n",
       "1         Super Mario Bros.      NES           1985.0      Platform     29.08   \n",
       "2            Mario Kart Wii      Wii           2008.0        Racing     15.68   \n",
       "3         Wii Sports Resort      Wii           2009.0        Sports     15.61   \n",
       "4  Pokemon Red/Pokemon Blue       GB           1996.0  Role-Playing     11.27   \n",
       "\n",
       "   EU_sales  JP_sales  Other_sales  Critic_Score User_Score Rating  \n",
       "0     28.96      3.77         8.45          76.0          8      E  \n",
       "1      3.58      6.81         0.77           NaN        NaN    NaN  \n",
       "2     12.76      3.79         3.29          82.0        8.3      E  \n",
       "3     10.93      3.28         2.95          80.0          8      E  \n",
       "4      8.89     10.22         1.00           NaN        NaN    NaN  "
      ]
     },
     "execution_count": 176,
     "metadata": {},
     "output_type": "execute_result"
    }
   ],
   "source": [
    "#print the first rows of the Dataframe \n",
    "df.head()"
   ]
  },
  {
   "cell_type": "code",
   "execution_count": 177,
   "metadata": {},
   "outputs": [
    {
     "name": "stdout",
     "output_type": "stream",
     "text": [
      "Index(['name', 'platform', 'year_of_release', 'genre', 'na_sales', 'eu_sales',\n",
      "       'jp_sales', 'other_sales', 'critic_score', 'user_score', 'rating'],\n",
      "      dtype='object')\n"
     ]
    }
   ],
   "source": [
    "#Column correction\n",
    "df.columns = df.columns.str.lower()\n",
    "print(df.columns)"
   ]
  },
  {
   "cell_type": "code",
   "execution_count": 178,
   "metadata": {},
   "outputs": [
    {
     "name": "stdout",
     "output_type": "stream",
     "text": [
      "<class 'pandas.core.frame.DataFrame'>\n",
      "RangeIndex: 16715 entries, 0 to 16714\n",
      "Data columns (total 11 columns):\n",
      " #   Column           Non-Null Count  Dtype         \n",
      "---  ------           --------------  -----         \n",
      " 0   name             16713 non-null  object        \n",
      " 1   platform         16715 non-null  object        \n",
      " 2   year_of_release  16446 non-null  datetime64[ns]\n",
      " 3   genre            16713 non-null  object        \n",
      " 4   na_sales         16715 non-null  float64       \n",
      " 5   eu_sales         16715 non-null  float64       \n",
      " 6   jp_sales         16715 non-null  float64       \n",
      " 7   other_sales      16715 non-null  float64       \n",
      " 8   critic_score     8137 non-null   float64       \n",
      " 9   user_score       7590 non-null   float64       \n",
      " 10  rating           9949 non-null   object        \n",
      "dtypes: datetime64[ns](1), float64(6), object(4)\n",
      "memory usage: 1.4+ MB\n"
     ]
    }
   ],
   "source": [
    "#data type conversion\n",
    "df['year_of_release'] = pd.to_datetime(df['year_of_release'], format='%Y')\n",
    "df['user_score'] = pd.to_numeric(df['user_score'],errors='coerce')\n",
    "\n",
    "df.info()"
   ]
  },
  {
   "cell_type": "code",
   "execution_count": 179,
   "metadata": {},
   "outputs": [],
   "source": [
    "#data type conversion\n",
    "df['year_of_release'] = df['year_of_release'].dt.year"
   ]
  },
  {
   "cell_type": "code",
   "execution_count": 180,
   "metadata": {},
   "outputs": [
    {
     "name": "stdout",
     "output_type": "stream",
     "text": [
      "<class 'pandas.core.frame.DataFrame'>\n",
      "RangeIndex: 16715 entries, 0 to 16714\n",
      "Data columns (total 11 columns):\n",
      " #   Column           Non-Null Count  Dtype  \n",
      "---  ------           --------------  -----  \n",
      " 0   name             16713 non-null  object \n",
      " 1   platform         16715 non-null  object \n",
      " 2   year_of_release  16446 non-null  float64\n",
      " 3   genre            16713 non-null  object \n",
      " 4   na_sales         16715 non-null  float64\n",
      " 5   eu_sales         16715 non-null  float64\n",
      " 6   jp_sales         16715 non-null  float64\n",
      " 7   other_sales      16715 non-null  float64\n",
      " 8   critic_score     16715 non-null  float64\n",
      " 9   user_score       16715 non-null  float64\n",
      " 10  rating           9949 non-null   object \n",
      "dtypes: float64(7), object(4)\n",
      "memory usage: 1.4+ MB\n"
     ]
    }
   ],
   "source": [
    "#Treat empty values\n",
    "df['critic_score'] = df['critic_score'].fillna(df['critic_score'].mean())\n",
    "df['user_score'] = df['user_score'].fillna(df['user_score'].mean())\n",
    "df.info()"
   ]
  },
  {
   "cell_type": "markdown",
   "metadata": {},
   "source": [
    "The year of release column should be of type datetime and the user score column, since they are decimal numbers, should be of type float to facilitate later operations."
   ]
  },
  {
   "cell_type": "code",
   "execution_count": 181,
   "metadata": {},
   "outputs": [
    {
     "data": {
      "text/plain": [
       "659      True\n",
       "14244    True\n",
       "Name: name, dtype: bool"
      ]
     },
     "execution_count": 181,
     "metadata": {},
     "output_type": "execute_result"
    }
   ],
   "source": [
    "#Treat empty values\n",
    "missing = df['name'].isnull()\n",
    "missing_v = missing[missing == True]\n",
    "missing_v"
   ]
  },
  {
   "cell_type": "code",
   "execution_count": 182,
   "metadata": {},
   "outputs": [
    {
     "data": {
      "text/plain": [
       "name                     NaN\n",
       "platform                 GEN\n",
       "year_of_release       1993.0\n",
       "genre                    NaN\n",
       "na_sales                1.78\n",
       "eu_sales                0.53\n",
       "jp_sales                 0.0\n",
       "other_sales             0.08\n",
       "critic_score       68.967679\n",
       "user_score          7.125046\n",
       "rating                   NaN\n",
       "Name: 659, dtype: object"
      ]
     },
     "execution_count": 182,
     "metadata": {},
     "output_type": "execute_result"
    }
   ],
   "source": [
    "#Validate previous process\n",
    "df.loc[659]"
   ]
  },
  {
   "cell_type": "code",
   "execution_count": 183,
   "metadata": {},
   "outputs": [
    {
     "name": "stdout",
     "output_type": "stream",
     "text": [
      "<class 'pandas.core.frame.DataFrame'>\n",
      "Index: 16713 entries, 0 to 16714\n",
      "Data columns (total 11 columns):\n",
      " #   Column           Non-Null Count  Dtype  \n",
      "---  ------           --------------  -----  \n",
      " 0   name             16713 non-null  object \n",
      " 1   platform         16713 non-null  object \n",
      " 2   year_of_release  16444 non-null  float64\n",
      " 3   genre            16713 non-null  object \n",
      " 4   na_sales         16713 non-null  float64\n",
      " 5   eu_sales         16713 non-null  float64\n",
      " 6   jp_sales         16713 non-null  float64\n",
      " 7   other_sales      16713 non-null  float64\n",
      " 8   critic_score     16713 non-null  float64\n",
      " 9   user_score       16713 non-null  float64\n",
      " 10  rating           9949 non-null   object \n",
      "dtypes: float64(7), object(4)\n",
      "memory usage: 1.5+ MB\n"
     ]
    }
   ],
   "source": [
    "#Drop empty values for 'name'\n",
    "df = df.dropna(subset=['name'])\n",
    "df.info()\n"
   ]
  },
  {
   "cell_type": "markdown",
   "metadata": {},
   "source": [
    "The missing values ​​in this case are not worth replacing with 0 because that would affect the score of the game, it would seem that it has a score of 0, when in reality it is not known what the score is, since they have not been evaluated, do not eliminate the majority either. since the sales information is useful to us. Only eliminate the missing values ​​from the name column since if we do not have the name of the game and we do not have scores and genre in this case, it is not worth taking those rows into account."
   ]
  },
  {
   "cell_type": "code",
   "execution_count": 184,
   "metadata": {},
   "outputs": [],
   "source": [
    "#total sales column calculation\n",
    "df['total_sales'] = df['na_sales'] + df['eu_sales']+ df['jp_sales']+ df['other_sales']"
   ]
  },
  {
   "cell_type": "code",
   "execution_count": 185,
   "metadata": {},
   "outputs": [
    {
     "data": {
      "text/html": [
       "<div>\n",
       "<style scoped>\n",
       "    .dataframe tbody tr th:only-of-type {\n",
       "        vertical-align: middle;\n",
       "    }\n",
       "\n",
       "    .dataframe tbody tr th {\n",
       "        vertical-align: top;\n",
       "    }\n",
       "\n",
       "    .dataframe thead th {\n",
       "        text-align: right;\n",
       "    }\n",
       "</style>\n",
       "<table border=\"1\" class=\"dataframe\">\n",
       "  <thead>\n",
       "    <tr style=\"text-align: right;\">\n",
       "      <th></th>\n",
       "      <th>name</th>\n",
       "      <th>platform</th>\n",
       "      <th>year_of_release</th>\n",
       "      <th>genre</th>\n",
       "      <th>na_sales</th>\n",
       "      <th>eu_sales</th>\n",
       "      <th>jp_sales</th>\n",
       "      <th>other_sales</th>\n",
       "      <th>critic_score</th>\n",
       "      <th>user_score</th>\n",
       "      <th>rating</th>\n",
       "      <th>total_sales</th>\n",
       "    </tr>\n",
       "  </thead>\n",
       "  <tbody>\n",
       "    <tr>\n",
       "      <th>0</th>\n",
       "      <td>Wii Sports</td>\n",
       "      <td>Wii</td>\n",
       "      <td>2006.0</td>\n",
       "      <td>Sports</td>\n",
       "      <td>41.36</td>\n",
       "      <td>28.96</td>\n",
       "      <td>3.77</td>\n",
       "      <td>8.45</td>\n",
       "      <td>76.000000</td>\n",
       "      <td>8.000000</td>\n",
       "      <td>E</td>\n",
       "      <td>82.54</td>\n",
       "    </tr>\n",
       "    <tr>\n",
       "      <th>1</th>\n",
       "      <td>Super Mario Bros.</td>\n",
       "      <td>NES</td>\n",
       "      <td>1985.0</td>\n",
       "      <td>Platform</td>\n",
       "      <td>29.08</td>\n",
       "      <td>3.58</td>\n",
       "      <td>6.81</td>\n",
       "      <td>0.77</td>\n",
       "      <td>68.967679</td>\n",
       "      <td>7.125046</td>\n",
       "      <td>NaN</td>\n",
       "      <td>40.24</td>\n",
       "    </tr>\n",
       "    <tr>\n",
       "      <th>2</th>\n",
       "      <td>Mario Kart Wii</td>\n",
       "      <td>Wii</td>\n",
       "      <td>2008.0</td>\n",
       "      <td>Racing</td>\n",
       "      <td>15.68</td>\n",
       "      <td>12.76</td>\n",
       "      <td>3.79</td>\n",
       "      <td>3.29</td>\n",
       "      <td>82.000000</td>\n",
       "      <td>8.300000</td>\n",
       "      <td>E</td>\n",
       "      <td>35.52</td>\n",
       "    </tr>\n",
       "    <tr>\n",
       "      <th>3</th>\n",
       "      <td>Wii Sports Resort</td>\n",
       "      <td>Wii</td>\n",
       "      <td>2009.0</td>\n",
       "      <td>Sports</td>\n",
       "      <td>15.61</td>\n",
       "      <td>10.93</td>\n",
       "      <td>3.28</td>\n",
       "      <td>2.95</td>\n",
       "      <td>80.000000</td>\n",
       "      <td>8.000000</td>\n",
       "      <td>E</td>\n",
       "      <td>32.77</td>\n",
       "    </tr>\n",
       "    <tr>\n",
       "      <th>4</th>\n",
       "      <td>Pokemon Red/Pokemon Blue</td>\n",
       "      <td>GB</td>\n",
       "      <td>1996.0</td>\n",
       "      <td>Role-Playing</td>\n",
       "      <td>11.27</td>\n",
       "      <td>8.89</td>\n",
       "      <td>10.22</td>\n",
       "      <td>1.00</td>\n",
       "      <td>68.967679</td>\n",
       "      <td>7.125046</td>\n",
       "      <td>NaN</td>\n",
       "      <td>31.38</td>\n",
       "    </tr>\n",
       "  </tbody>\n",
       "</table>\n",
       "</div>"
      ],
      "text/plain": [
       "                       name platform  year_of_release         genre  na_sales  \\\n",
       "0                Wii Sports      Wii           2006.0        Sports     41.36   \n",
       "1         Super Mario Bros.      NES           1985.0      Platform     29.08   \n",
       "2            Mario Kart Wii      Wii           2008.0        Racing     15.68   \n",
       "3         Wii Sports Resort      Wii           2009.0        Sports     15.61   \n",
       "4  Pokemon Red/Pokemon Blue       GB           1996.0  Role-Playing     11.27   \n",
       "\n",
       "   eu_sales  jp_sales  other_sales  critic_score  user_score rating  \\\n",
       "0     28.96      3.77         8.45     76.000000    8.000000      E   \n",
       "1      3.58      6.81         0.77     68.967679    7.125046    NaN   \n",
       "2     12.76      3.79         3.29     82.000000    8.300000      E   \n",
       "3     10.93      3.28         2.95     80.000000    8.000000      E   \n",
       "4      8.89     10.22         1.00     68.967679    7.125046    NaN   \n",
       "\n",
       "   total_sales  \n",
       "0        82.54  \n",
       "1        40.24  \n",
       "2        35.52  \n",
       "3        32.77  \n",
       "4        31.38  "
      ]
     },
     "execution_count": 185,
     "metadata": {},
     "output_type": "execute_result"
    }
   ],
   "source": [
    "#print the first rows of the Dataframe \n",
    "df.head()"
   ]
  },
  {
   "cell_type": "markdown",
   "metadata": {},
   "source": [
    "# Step 3. Analyze the data"
   ]
  },
  {
   "cell_type": "code",
   "execution_count": 186,
   "metadata": {},
   "outputs": [
    {
     "name": "stdout",
     "output_type": "stream",
     "text": [
      "<class 'pandas.core.frame.DataFrame'>\n",
      "Index: 16713 entries, 0 to 16714\n",
      "Data columns (total 12 columns):\n",
      " #   Column           Non-Null Count  Dtype  \n",
      "---  ------           --------------  -----  \n",
      " 0   name             16713 non-null  object \n",
      " 1   platform         16713 non-null  object \n",
      " 2   year_of_release  16444 non-null  float64\n",
      " 3   genre            16713 non-null  object \n",
      " 4   na_sales         16713 non-null  float64\n",
      " 5   eu_sales         16713 non-null  float64\n",
      " 6   jp_sales         16713 non-null  float64\n",
      " 7   other_sales      16713 non-null  float64\n",
      " 8   critic_score     16713 non-null  float64\n",
      " 9   user_score       16713 non-null  float64\n",
      " 10  rating           9949 non-null   object \n",
      " 11  total_sales      16713 non-null  float64\n",
      "dtypes: float64(8), object(4)\n",
      "memory usage: 1.7+ MB\n"
     ]
    }
   ],
   "source": [
    "#Analyze general information\n",
    "df.info()"
   ]
  },
  {
   "cell_type": "code",
   "execution_count": 187,
   "metadata": {},
   "outputs": [
    {
     "data": {
      "image/png": "[encoded data removed]",
      "text/plain": [
       "<Figure size 640x480 with 1 Axes>"
      ]
     },
     "metadata": {},
     "output_type": "display_data"
    }
   ],
   "source": [
    "# Group the DataFrame by 'year_of_release' and count the number of games released in each year\n",
    "games_year = df.groupby('year_of_release')['name'].count() \n",
    "\n",
    "# Create a bar chart to visualize the number of games released per year\n",
    "games_year.plot(kind = 'bar', title='Games Released per Year', xlabel = 'Year', ylabel='Number of Games')\n",
    "\n",
    "# Display the chart\n",
    "plt.show()"
   ]
  },
  {
   "cell_type": "code",
   "execution_count": 188,
   "metadata": {},
   "outputs": [],
   "source": [
    "#Create dataframe for data from the year 2011\n",
    "df_from_2011 = df[df['year_of_release']>=2011]"
   ]
  },
  {
   "cell_type": "code",
   "execution_count": 189,
   "metadata": {},
   "outputs": [
    {
     "name": "stdout",
     "output_type": "stream",
     "text": [
      "  platform  total_sales\n",
      "0      PS3       445.57\n",
      "1     X360       380.38\n",
      "2      PS4       314.14\n",
      "3      3DS       257.81\n",
      "4     XOne       159.32\n",
      "5       PC        97.68\n"
     ]
    }
   ],
   "source": [
    "# Group the DataFrame by 'platform' and sum the 'total_sales' for each platform\n",
    "sales_platform = df_from_2011.groupby('platform')[['total_sales']].sum() \n",
    "\n",
    "# Sort the platforms by total sales in descending order\n",
    "sales_platform = sales_platform.sort_values('total_sales', ascending=False) \n",
    "\n",
    "# Reset the index to create a regular DataFrame with a column for 'platform'\n",
    "sales_platform = sales_platform.reset_index() \n",
    "\n",
    "# Select the top 6 platforms with the highest sales\n",
    "sales_platform_top = sales_platform.head(6) \n",
    "\n",
    "# Display the top 6 platforms and their total sales\n",
    "print(sales_platform_top)"
   ]
  },
  {
   "cell_type": "code",
   "execution_count": 190,
   "metadata": {},
   "outputs": [
    {
     "data": {
      "text/plain": [
       "array(['PS3', 'X360', 'PS4', '3DS', 'XOne', 'PC'], dtype=object)"
      ]
     },
     "execution_count": 190,
     "metadata": {},
     "output_type": "execute_result"
    }
   ],
   "source": [
    "# Display the top 6 unique values\n",
    "top = sales_platform_top['platform'].unique()\n",
    "top"
   ]
  },
  {
   "cell_type": "code",
   "execution_count": 191,
   "metadata": {},
   "outputs": [
    {
     "data": {
      "text/html": [
       "<div>\n",
       "<style scoped>\n",
       "    .dataframe tbody tr th:only-of-type {\n",
       "        vertical-align: middle;\n",
       "    }\n",
       "\n",
       "    .dataframe tbody tr th {\n",
       "        vertical-align: top;\n",
       "    }\n",
       "\n",
       "    .dataframe thead th {\n",
       "        text-align: right;\n",
       "    }\n",
       "</style>\n",
       "<table border=\"1\" class=\"dataframe\">\n",
       "  <thead>\n",
       "    <tr style=\"text-align: right;\">\n",
       "      <th></th>\n",
       "      <th>platform</th>\n",
       "      <th>year_of_release</th>\n",
       "      <th>total_sales</th>\n",
       "    </tr>\n",
       "  </thead>\n",
       "  <tbody>\n",
       "    <tr>\n",
       "      <th>0</th>\n",
       "      <td>3DS</td>\n",
       "      <td>2011.0</td>\n",
       "      <td>63.20</td>\n",
       "    </tr>\n",
       "    <tr>\n",
       "      <th>1</th>\n",
       "      <td>3DS</td>\n",
       "      <td>2012.0</td>\n",
       "      <td>51.36</td>\n",
       "    </tr>\n",
       "    <tr>\n",
       "      <th>2</th>\n",
       "      <td>3DS</td>\n",
       "      <td>2013.0</td>\n",
       "      <td>56.57</td>\n",
       "    </tr>\n",
       "    <tr>\n",
       "      <th>3</th>\n",
       "      <td>3DS</td>\n",
       "      <td>2014.0</td>\n",
       "      <td>43.76</td>\n",
       "    </tr>\n",
       "    <tr>\n",
       "      <th>4</th>\n",
       "      <td>3DS</td>\n",
       "      <td>2015.0</td>\n",
       "      <td>27.78</td>\n",
       "    </tr>\n",
       "    <tr>\n",
       "      <th>5</th>\n",
       "      <td>3DS</td>\n",
       "      <td>2016.0</td>\n",
       "      <td>15.14</td>\n",
       "    </tr>\n",
       "    <tr>\n",
       "      <th>6</th>\n",
       "      <td>DS</td>\n",
       "      <td>2011.0</td>\n",
       "      <td>26.18</td>\n",
       "    </tr>\n",
       "    <tr>\n",
       "      <th>7</th>\n",
       "      <td>DS</td>\n",
       "      <td>2012.0</td>\n",
       "      <td>11.01</td>\n",
       "    </tr>\n",
       "    <tr>\n",
       "      <th>8</th>\n",
       "      <td>DS</td>\n",
       "      <td>2013.0</td>\n",
       "      <td>1.54</td>\n",
       "    </tr>\n",
       "    <tr>\n",
       "      <th>9</th>\n",
       "      <td>PC</td>\n",
       "      <td>2011.0</td>\n",
       "      <td>35.03</td>\n",
       "    </tr>\n",
       "    <tr>\n",
       "      <th>10</th>\n",
       "      <td>PC</td>\n",
       "      <td>2012.0</td>\n",
       "      <td>23.22</td>\n",
       "    </tr>\n",
       "    <tr>\n",
       "      <th>11</th>\n",
       "      <td>PC</td>\n",
       "      <td>2013.0</td>\n",
       "      <td>12.38</td>\n",
       "    </tr>\n",
       "    <tr>\n",
       "      <th>12</th>\n",
       "      <td>PC</td>\n",
       "      <td>2014.0</td>\n",
       "      <td>13.28</td>\n",
       "    </tr>\n",
       "    <tr>\n",
       "      <th>13</th>\n",
       "      <td>PC</td>\n",
       "      <td>2015.0</td>\n",
       "      <td>8.52</td>\n",
       "    </tr>\n",
       "    <tr>\n",
       "      <th>14</th>\n",
       "      <td>PC</td>\n",
       "      <td>2016.0</td>\n",
       "      <td>5.25</td>\n",
       "    </tr>\n",
       "    <tr>\n",
       "      <th>15</th>\n",
       "      <td>PS2</td>\n",
       "      <td>2011.0</td>\n",
       "      <td>0.45</td>\n",
       "    </tr>\n",
       "    <tr>\n",
       "      <th>16</th>\n",
       "      <td>PS3</td>\n",
       "      <td>2011.0</td>\n",
       "      <td>156.78</td>\n",
       "    </tr>\n",
       "    <tr>\n",
       "      <th>17</th>\n",
       "      <td>PS3</td>\n",
       "      <td>2012.0</td>\n",
       "      <td>107.36</td>\n",
       "    </tr>\n",
       "    <tr>\n",
       "      <th>18</th>\n",
       "      <td>PS3</td>\n",
       "      <td>2013.0</td>\n",
       "      <td>113.25</td>\n",
       "    </tr>\n",
       "    <tr>\n",
       "      <th>19</th>\n",
       "      <td>PS3</td>\n",
       "      <td>2014.0</td>\n",
       "      <td>47.76</td>\n",
       "    </tr>\n",
       "    <tr>\n",
       "      <th>20</th>\n",
       "      <td>PS3</td>\n",
       "      <td>2015.0</td>\n",
       "      <td>16.82</td>\n",
       "    </tr>\n",
       "    <tr>\n",
       "      <th>21</th>\n",
       "      <td>PS3</td>\n",
       "      <td>2016.0</td>\n",
       "      <td>3.60</td>\n",
       "    </tr>\n",
       "    <tr>\n",
       "      <th>22</th>\n",
       "      <td>PS4</td>\n",
       "      <td>2013.0</td>\n",
       "      <td>25.99</td>\n",
       "    </tr>\n",
       "    <tr>\n",
       "      <th>23</th>\n",
       "      <td>PS4</td>\n",
       "      <td>2014.0</td>\n",
       "      <td>100.00</td>\n",
       "    </tr>\n",
       "    <tr>\n",
       "      <th>24</th>\n",
       "      <td>PS4</td>\n",
       "      <td>2015.0</td>\n",
       "      <td>118.90</td>\n",
       "    </tr>\n",
       "    <tr>\n",
       "      <th>25</th>\n",
       "      <td>PS4</td>\n",
       "      <td>2016.0</td>\n",
       "      <td>69.25</td>\n",
       "    </tr>\n",
       "    <tr>\n",
       "      <th>26</th>\n",
       "      <td>PSP</td>\n",
       "      <td>2011.0</td>\n",
       "      <td>17.82</td>\n",
       "    </tr>\n",
       "    <tr>\n",
       "      <th>27</th>\n",
       "      <td>PSP</td>\n",
       "      <td>2012.0</td>\n",
       "      <td>7.69</td>\n",
       "    </tr>\n",
       "    <tr>\n",
       "      <th>28</th>\n",
       "      <td>PSP</td>\n",
       "      <td>2013.0</td>\n",
       "      <td>3.14</td>\n",
       "    </tr>\n",
       "    <tr>\n",
       "      <th>29</th>\n",
       "      <td>PSP</td>\n",
       "      <td>2014.0</td>\n",
       "      <td>0.24</td>\n",
       "    </tr>\n",
       "    <tr>\n",
       "      <th>30</th>\n",
       "      <td>PSP</td>\n",
       "      <td>2015.0</td>\n",
       "      <td>0.12</td>\n",
       "    </tr>\n",
       "    <tr>\n",
       "      <th>31</th>\n",
       "      <td>PSV</td>\n",
       "      <td>2011.0</td>\n",
       "      <td>4.63</td>\n",
       "    </tr>\n",
       "    <tr>\n",
       "      <th>32</th>\n",
       "      <td>PSV</td>\n",
       "      <td>2012.0</td>\n",
       "      <td>16.19</td>\n",
       "    </tr>\n",
       "    <tr>\n",
       "      <th>33</th>\n",
       "      <td>PSV</td>\n",
       "      <td>2013.0</td>\n",
       "      <td>10.59</td>\n",
       "    </tr>\n",
       "    <tr>\n",
       "      <th>34</th>\n",
       "      <td>PSV</td>\n",
       "      <td>2014.0</td>\n",
       "      <td>11.90</td>\n",
       "    </tr>\n",
       "    <tr>\n",
       "      <th>35</th>\n",
       "      <td>PSV</td>\n",
       "      <td>2015.0</td>\n",
       "      <td>6.25</td>\n",
       "    </tr>\n",
       "    <tr>\n",
       "      <th>36</th>\n",
       "      <td>PSV</td>\n",
       "      <td>2016.0</td>\n",
       "      <td>4.25</td>\n",
       "    </tr>\n",
       "    <tr>\n",
       "      <th>37</th>\n",
       "      <td>Wii</td>\n",
       "      <td>2011.0</td>\n",
       "      <td>59.65</td>\n",
       "    </tr>\n",
       "    <tr>\n",
       "      <th>38</th>\n",
       "      <td>Wii</td>\n",
       "      <td>2012.0</td>\n",
       "      <td>21.71</td>\n",
       "    </tr>\n",
       "    <tr>\n",
       "      <th>39</th>\n",
       "      <td>Wii</td>\n",
       "      <td>2013.0</td>\n",
       "      <td>8.59</td>\n",
       "    </tr>\n",
       "    <tr>\n",
       "      <th>40</th>\n",
       "      <td>Wii</td>\n",
       "      <td>2014.0</td>\n",
       "      <td>3.75</td>\n",
       "    </tr>\n",
       "    <tr>\n",
       "      <th>41</th>\n",
       "      <td>Wii</td>\n",
       "      <td>2015.0</td>\n",
       "      <td>1.14</td>\n",
       "    </tr>\n",
       "    <tr>\n",
       "      <th>42</th>\n",
       "      <td>Wii</td>\n",
       "      <td>2016.0</td>\n",
       "      <td>0.18</td>\n",
       "    </tr>\n",
       "    <tr>\n",
       "      <th>43</th>\n",
       "      <td>WiiU</td>\n",
       "      <td>2012.0</td>\n",
       "      <td>17.56</td>\n",
       "    </tr>\n",
       "    <tr>\n",
       "      <th>44</th>\n",
       "      <td>WiiU</td>\n",
       "      <td>2013.0</td>\n",
       "      <td>21.65</td>\n",
       "    </tr>\n",
       "    <tr>\n",
       "      <th>45</th>\n",
       "      <td>WiiU</td>\n",
       "      <td>2014.0</td>\n",
       "      <td>22.03</td>\n",
       "    </tr>\n",
       "    <tr>\n",
       "      <th>46</th>\n",
       "      <td>WiiU</td>\n",
       "      <td>2015.0</td>\n",
       "      <td>16.35</td>\n",
       "    </tr>\n",
       "    <tr>\n",
       "      <th>47</th>\n",
       "      <td>WiiU</td>\n",
       "      <td>2016.0</td>\n",
       "      <td>4.60</td>\n",
       "    </tr>\n",
       "    <tr>\n",
       "      <th>48</th>\n",
       "      <td>X360</td>\n",
       "      <td>2011.0</td>\n",
       "      <td>143.84</td>\n",
       "    </tr>\n",
       "    <tr>\n",
       "      <th>49</th>\n",
       "      <td>X360</td>\n",
       "      <td>2012.0</td>\n",
       "      <td>99.74</td>\n",
       "    </tr>\n",
       "    <tr>\n",
       "      <th>50</th>\n",
       "      <td>X360</td>\n",
       "      <td>2013.0</td>\n",
       "      <td>88.58</td>\n",
       "    </tr>\n",
       "    <tr>\n",
       "      <th>51</th>\n",
       "      <td>X360</td>\n",
       "      <td>2014.0</td>\n",
       "      <td>34.74</td>\n",
       "    </tr>\n",
       "    <tr>\n",
       "      <th>52</th>\n",
       "      <td>X360</td>\n",
       "      <td>2015.0</td>\n",
       "      <td>11.96</td>\n",
       "    </tr>\n",
       "    <tr>\n",
       "      <th>53</th>\n",
       "      <td>X360</td>\n",
       "      <td>2016.0</td>\n",
       "      <td>1.52</td>\n",
       "    </tr>\n",
       "    <tr>\n",
       "      <th>54</th>\n",
       "      <td>XOne</td>\n",
       "      <td>2013.0</td>\n",
       "      <td>18.96</td>\n",
       "    </tr>\n",
       "    <tr>\n",
       "      <th>55</th>\n",
       "      <td>XOne</td>\n",
       "      <td>2014.0</td>\n",
       "      <td>54.07</td>\n",
       "    </tr>\n",
       "    <tr>\n",
       "      <th>56</th>\n",
       "      <td>XOne</td>\n",
       "      <td>2015.0</td>\n",
       "      <td>60.14</td>\n",
       "    </tr>\n",
       "    <tr>\n",
       "      <th>57</th>\n",
       "      <td>XOne</td>\n",
       "      <td>2016.0</td>\n",
       "      <td>26.15</td>\n",
       "    </tr>\n",
       "  </tbody>\n",
       "</table>\n",
       "</div>"
      ],
      "text/plain": [
       "   platform  year_of_release  total_sales\n",
       "0       3DS           2011.0        63.20\n",
       "1       3DS           2012.0        51.36\n",
       "2       3DS           2013.0        56.57\n",
       "3       3DS           2014.0        43.76\n",
       "4       3DS           2015.0        27.78\n",
       "5       3DS           2016.0        15.14\n",
       "6        DS           2011.0        26.18\n",
       "7        DS           2012.0        11.01\n",
       "8        DS           2013.0         1.54\n",
       "9        PC           2011.0        35.03\n",
       "10       PC           2012.0        23.22\n",
       "11       PC           2013.0        12.38\n",
       "12       PC           2014.0        13.28\n",
       "13       PC           2015.0         8.52\n",
       "14       PC           2016.0         5.25\n",
       "15      PS2           2011.0         0.45\n",
       "16      PS3           2011.0       156.78\n",
       "17      PS3           2012.0       107.36\n",
       "18      PS3           2013.0       113.25\n",
       "19      PS3           2014.0        47.76\n",
       "20      PS3           2015.0        16.82\n",
       "21      PS3           2016.0         3.60\n",
       "22      PS4           2013.0        25.99\n",
       "23      PS4           2014.0       100.00\n",
       "24      PS4           2015.0       118.90\n",
       "25      PS4           2016.0        69.25\n",
       "26      PSP           2011.0        17.82\n",
       "27      PSP           2012.0         7.69\n",
       "28      PSP           2013.0         3.14\n",
       "29      PSP           2014.0         0.24\n",
       "30      PSP           2015.0         0.12\n",
       "31      PSV           2011.0         4.63\n",
       "32      PSV           2012.0        16.19\n",
       "33      PSV           2013.0        10.59\n",
       "34      PSV           2014.0        11.90\n",
       "35      PSV           2015.0         6.25\n",
       "36      PSV           2016.0         4.25\n",
       "37      Wii           2011.0        59.65\n",
       "38      Wii           2012.0        21.71\n",
       "39      Wii           2013.0         8.59\n",
       "40      Wii           2014.0         3.75\n",
       "41      Wii           2015.0         1.14\n",
       "42      Wii           2016.0         0.18\n",
       "43     WiiU           2012.0        17.56\n",
       "44     WiiU           2013.0        21.65\n",
       "45     WiiU           2014.0        22.03\n",
       "46     WiiU           2015.0        16.35\n",
       "47     WiiU           2016.0         4.60\n",
       "48     X360           2011.0       143.84\n",
       "49     X360           2012.0        99.74\n",
       "50     X360           2013.0        88.58\n",
       "51     X360           2014.0        34.74\n",
       "52     X360           2015.0        11.96\n",
       "53     X360           2016.0         1.52\n",
       "54     XOne           2013.0        18.96\n",
       "55     XOne           2014.0        54.07\n",
       "56     XOne           2015.0        60.14\n",
       "57     XOne           2016.0        26.15"
      ]
     },
     "execution_count": 191,
     "metadata": {},
     "output_type": "execute_result"
    }
   ],
   "source": [
    "# Group the DataFrame by 'platform' and 'year_of_release' and calculate the sum of total sales for each combination\n",
    "platform_year = df_from_2011.groupby(['platform', 'year_of_release'])[['total_sales']].sum().reset_index() \n",
    "\n",
    "# Display the resulting DataFrame\n",
    "platform_year"
   ]
  },
  {
   "cell_type": "code",
   "execution_count": 209,
   "metadata": {},
   "outputs": [
    {
     "data": {
      "image/png": "[encoded data removed]",
      "text/plain": [
       "<Figure size 640x480 with 1 Axes>"
      ]
     },
     "metadata": {},
     "output_type": "display_data"
    },
    {
     "data": {
      "image/png": "[encoded data removed]",
      "text/plain": [
       "<Figure size 640x480 with 1 Axes>"
      ]
     },
     "metadata": {},
     "output_type": "display_data"
    },
    {
     "data": {
      "image/png": "[encoded data removed]",
      "text/plain": [
       "<Figure size 640x480 with 1 Axes>"
      ]
     },
     "metadata": {},
     "output_type": "display_data"
    },
    {
     "data": {
      "image/png": "[encoded data removed]",
      "text/plain": [
       "<Figure size 640x480 with 1 Axes>"
      ]
     },
     "metadata": {},
     "output_type": "display_data"
    },
    {
     "data": {
      "image/png": "[encoded data removed]",
      "text/plain": [
       "<Figure size 640x480 with 1 Axes>"
      ]
     },
     "metadata": {},
     "output_type": "display_data"
    },
    {
     "data": {
      "image/png": "[encoded data removed]",
      "text/plain": [
       "<Figure size 640x480 with 1 Axes>"
      ]
     },
     "metadata": {},
     "output_type": "display_data"
    }
   ],
   "source": [
    "# Iterate through each unique platform in the top selling platforms\n",
    "for platform in sales_platform_top['platform'].unique():\n",
    "    # Filter the platform_year DataFrame to select data for the current platform\n",
    "    platform_data = platform_year[platform_year['platform'] == platform] \n",
    "    \n",
    "    # Create a histogram for the year of release of games on the current platform\n",
    "    platform_data['year_of_release'].plot(kind='hist', \n",
    "                                       histtype='step', \n",
    "                                       stacked=True, \n",
    "                                       fill=False, \n",
    "                                       label=platform) \n",
    "    \n",
    "    # Set x-axis label\n",
    "    plt.xlabel('Release year') \n",
    "    \n",
    "    # Set x-axis limits\n",
    "    plt.xlim(2010,2017) \n",
    "    \n",
    "    # Set plot title\n",
    "    plt.title(''+platform+' platform histogram by release year') \n",
    "    \n",
    "    # Rotate x-axis labels for better readability\n",
    "    plt.xticks(rotation=0) \n",
    "    \n",
    "    \n",
    "    # Add gridlines to the y-axis\n",
    "    plt.grid(axis='y') \n",
    "    \n",
    "    # Display the plot (optional, as this will create multiple overlapping plots)\n",
    "    plt.show()"
   ]
  },
  {
   "cell_type": "code",
   "execution_count": null,
   "metadata": {},
   "outputs": [
    {
     "data": {
      "image/png": "[encoded data removed]",
      "text/plain": [
       "<Figure size 640x480 with 1 Axes>"
      ]
     },
     "metadata": {},
     "output_type": "display_data"
    }
   ],
   "source": [
    "# Iterate over each unique platform in the top-selling platforms\n",
    "for platform in sales_platform_top['platform'].unique():\n",
    "    # Filter the data for the current platform\n",
    "    platform_data = platform_year[platform_year['platform'] == platform]  \n",
    "    # Create a bar chart for the selected platform\n",
    "    plt.bar(platform_data['year_of_release'], platform_data['total_sales'], label=platform)\n",
    "\n",
    "# Add labels and title to the plot\n",
    "plt.xlabel('Year of release')\n",
    "plt.ylabel('Total Sales')\n",
    "plt.legend(loc='upper right')\n",
    "plt.title('Sales per Year for Each Platform')\n",
    "plt.xticks(rotation=0)\n",
    "plt.grid(axis='y')"
   ]
  },
  {
   "cell_type": "markdown",
   "metadata": {},
   "source": [
    "Of the 6 platforms with the most sales, those that have lost popularity are the PC platform, 3DS, X360 and PS3. It can be seen that reaching the year 2014 the sales are zero, while for XONE and PS4, the sales are still present in the year 2016."
   ]
  },
  {
   "cell_type": "code",
   "execution_count": null,
   "metadata": {
    "scrolled": true
   },
   "outputs": [
    {
     "data": {
      "image/png": "[encoded data removed]",
      "text/plain": [
       "<Figure size 640x480 with 1 Axes>"
      ]
     },
     "metadata": {},
     "output_type": "display_data"
    }
   ],
   "source": [
    "# Determine the relevant period for data analysis.\n",
    "for platform in sales_platform_top['platform'].unique():\n",
    "    # Filter the data for the specific platform\n",
    "    platform_data = platform_year[platform_year['platform'] == platform] \n",
    "    # Create a scatter plot of total sales vs. year of release for the platform\n",
    "    plt.scatter(platform_data['year_of_release'], platform_data['total_sales'], label=platform)\n",
    "\n",
    "# Set labels and title for the plot\n",
    "plt.xlabel('Year of release')\n",
    "plt.ylabel('Total Sales')\n",
    "plt.legend(loc='upper left')\n",
    "plt.title('Sales per Year of Release for Each Platform')\n",
    "plt.xticks(rotation=0)\n",
    "plt.grid(axis='y') \n",
    "\n",
    "# Display the plot\n",
    "plt.show()"
   ]
  },
  {
   "cell_type": "markdown",
   "metadata": {},
   "source": [
    "According to the distribution of the data, I take the information from the year 2011."
   ]
  },
  {
   "cell_type": "code",
   "execution_count": null,
   "metadata": {},
   "outputs": [
    {
     "data": {
      "text/html": [
       "<div>\n",
       "<style scoped>\n",
       "    .dataframe tbody tr th:only-of-type {\n",
       "        vertical-align: middle;\n",
       "    }\n",
       "\n",
       "    .dataframe tbody tr th {\n",
       "        vertical-align: top;\n",
       "    }\n",
       "\n",
       "    .dataframe thead th {\n",
       "        text-align: right;\n",
       "    }\n",
       "</style>\n",
       "<table border=\"1\" class=\"dataframe\">\n",
       "  <thead>\n",
       "    <tr style=\"text-align: right;\">\n",
       "      <th></th>\n",
       "      <th>total_sales</th>\n",
       "      <th>platform</th>\n",
       "      <th>year_of_release</th>\n",
       "    </tr>\n",
       "  </thead>\n",
       "  <tbody>\n",
       "    <tr>\n",
       "      <th>0</th>\n",
       "      <td>63.20</td>\n",
       "      <td>3DS</td>\n",
       "      <td>2011.0</td>\n",
       "    </tr>\n",
       "    <tr>\n",
       "      <th>1</th>\n",
       "      <td>51.36</td>\n",
       "      <td>3DS</td>\n",
       "      <td>2012.0</td>\n",
       "    </tr>\n",
       "    <tr>\n",
       "      <th>2</th>\n",
       "      <td>56.57</td>\n",
       "      <td>3DS</td>\n",
       "      <td>2013.0</td>\n",
       "    </tr>\n",
       "    <tr>\n",
       "      <th>3</th>\n",
       "      <td>43.76</td>\n",
       "      <td>3DS</td>\n",
       "      <td>2014.0</td>\n",
       "    </tr>\n",
       "    <tr>\n",
       "      <th>4</th>\n",
       "      <td>27.78</td>\n",
       "      <td>3DS</td>\n",
       "      <td>2015.0</td>\n",
       "    </tr>\n",
       "    <tr>\n",
       "      <th>5</th>\n",
       "      <td>15.14</td>\n",
       "      <td>3DS</td>\n",
       "      <td>2016.0</td>\n",
       "    </tr>\n",
       "    <tr>\n",
       "      <th>9</th>\n",
       "      <td>35.03</td>\n",
       "      <td>PC</td>\n",
       "      <td>2011.0</td>\n",
       "    </tr>\n",
       "    <tr>\n",
       "      <th>10</th>\n",
       "      <td>23.22</td>\n",
       "      <td>PC</td>\n",
       "      <td>2012.0</td>\n",
       "    </tr>\n",
       "    <tr>\n",
       "      <th>11</th>\n",
       "      <td>12.38</td>\n",
       "      <td>PC</td>\n",
       "      <td>2013.0</td>\n",
       "    </tr>\n",
       "    <tr>\n",
       "      <th>12</th>\n",
       "      <td>13.28</td>\n",
       "      <td>PC</td>\n",
       "      <td>2014.0</td>\n",
       "    </tr>\n",
       "    <tr>\n",
       "      <th>13</th>\n",
       "      <td>8.52</td>\n",
       "      <td>PC</td>\n",
       "      <td>2015.0</td>\n",
       "    </tr>\n",
       "    <tr>\n",
       "      <th>14</th>\n",
       "      <td>5.25</td>\n",
       "      <td>PC</td>\n",
       "      <td>2016.0</td>\n",
       "    </tr>\n",
       "    <tr>\n",
       "      <th>16</th>\n",
       "      <td>156.78</td>\n",
       "      <td>PS3</td>\n",
       "      <td>2011.0</td>\n",
       "    </tr>\n",
       "    <tr>\n",
       "      <th>17</th>\n",
       "      <td>107.36</td>\n",
       "      <td>PS3</td>\n",
       "      <td>2012.0</td>\n",
       "    </tr>\n",
       "    <tr>\n",
       "      <th>18</th>\n",
       "      <td>113.25</td>\n",
       "      <td>PS3</td>\n",
       "      <td>2013.0</td>\n",
       "    </tr>\n",
       "    <tr>\n",
       "      <th>19</th>\n",
       "      <td>47.76</td>\n",
       "      <td>PS3</td>\n",
       "      <td>2014.0</td>\n",
       "    </tr>\n",
       "    <tr>\n",
       "      <th>20</th>\n",
       "      <td>16.82</td>\n",
       "      <td>PS3</td>\n",
       "      <td>2015.0</td>\n",
       "    </tr>\n",
       "    <tr>\n",
       "      <th>21</th>\n",
       "      <td>3.60</td>\n",
       "      <td>PS3</td>\n",
       "      <td>2016.0</td>\n",
       "    </tr>\n",
       "    <tr>\n",
       "      <th>22</th>\n",
       "      <td>25.99</td>\n",
       "      <td>PS4</td>\n",
       "      <td>2013.0</td>\n",
       "    </tr>\n",
       "    <tr>\n",
       "      <th>23</th>\n",
       "      <td>100.00</td>\n",
       "      <td>PS4</td>\n",
       "      <td>2014.0</td>\n",
       "    </tr>\n",
       "    <tr>\n",
       "      <th>24</th>\n",
       "      <td>118.90</td>\n",
       "      <td>PS4</td>\n",
       "      <td>2015.0</td>\n",
       "    </tr>\n",
       "    <tr>\n",
       "      <th>25</th>\n",
       "      <td>69.25</td>\n",
       "      <td>PS4</td>\n",
       "      <td>2016.0</td>\n",
       "    </tr>\n",
       "    <tr>\n",
       "      <th>48</th>\n",
       "      <td>143.84</td>\n",
       "      <td>X360</td>\n",
       "      <td>2011.0</td>\n",
       "    </tr>\n",
       "    <tr>\n",
       "      <th>49</th>\n",
       "      <td>99.74</td>\n",
       "      <td>X360</td>\n",
       "      <td>2012.0</td>\n",
       "    </tr>\n",
       "    <tr>\n",
       "      <th>50</th>\n",
       "      <td>88.58</td>\n",
       "      <td>X360</td>\n",
       "      <td>2013.0</td>\n",
       "    </tr>\n",
       "    <tr>\n",
       "      <th>51</th>\n",
       "      <td>34.74</td>\n",
       "      <td>X360</td>\n",
       "      <td>2014.0</td>\n",
       "    </tr>\n",
       "    <tr>\n",
       "      <th>52</th>\n",
       "      <td>11.96</td>\n",
       "      <td>X360</td>\n",
       "      <td>2015.0</td>\n",
       "    </tr>\n",
       "    <tr>\n",
       "      <th>53</th>\n",
       "      <td>1.52</td>\n",
       "      <td>X360</td>\n",
       "      <td>2016.0</td>\n",
       "    </tr>\n",
       "    <tr>\n",
       "      <th>54</th>\n",
       "      <td>18.96</td>\n",
       "      <td>XOne</td>\n",
       "      <td>2013.0</td>\n",
       "    </tr>\n",
       "    <tr>\n",
       "      <th>55</th>\n",
       "      <td>54.07</td>\n",
       "      <td>XOne</td>\n",
       "      <td>2014.0</td>\n",
       "    </tr>\n",
       "    <tr>\n",
       "      <th>56</th>\n",
       "      <td>60.14</td>\n",
       "      <td>XOne</td>\n",
       "      <td>2015.0</td>\n",
       "    </tr>\n",
       "    <tr>\n",
       "      <th>57</th>\n",
       "      <td>26.15</td>\n",
       "      <td>XOne</td>\n",
       "      <td>2016.0</td>\n",
       "    </tr>\n",
       "  </tbody>\n",
       "</table>\n",
       "</div>"
      ],
      "text/plain": [
       "    total_sales platform  year_of_release\n",
       "0         63.20      3DS           2011.0\n",
       "1         51.36      3DS           2012.0\n",
       "2         56.57      3DS           2013.0\n",
       "3         43.76      3DS           2014.0\n",
       "4         27.78      3DS           2015.0\n",
       "5         15.14      3DS           2016.0\n",
       "9         35.03       PC           2011.0\n",
       "10        23.22       PC           2012.0\n",
       "11        12.38       PC           2013.0\n",
       "12        13.28       PC           2014.0\n",
       "13         8.52       PC           2015.0\n",
       "14         5.25       PC           2016.0\n",
       "16       156.78      PS3           2011.0\n",
       "17       107.36      PS3           2012.0\n",
       "18       113.25      PS3           2013.0\n",
       "19        47.76      PS3           2014.0\n",
       "20        16.82      PS3           2015.0\n",
       "21         3.60      PS3           2016.0\n",
       "22        25.99      PS4           2013.0\n",
       "23       100.00      PS4           2014.0\n",
       "24       118.90      PS4           2015.0\n",
       "25        69.25      PS4           2016.0\n",
       "48       143.84     X360           2011.0\n",
       "49        99.74     X360           2012.0\n",
       "50        88.58     X360           2013.0\n",
       "51        34.74     X360           2014.0\n",
       "52        11.96     X360           2015.0\n",
       "53         1.52     X360           2016.0\n",
       "54        18.96     XOne           2013.0\n",
       "55        54.07     XOne           2014.0\n",
       "56        60.14     XOne           2015.0\n",
       "57        26.15     XOne           2016.0"
      ]
     },
     "execution_count": 148,
     "metadata": {},
     "output_type": "execute_result"
    }
   ],
   "source": [
    "# Filter the data to include only the top 6 platforms \n",
    "platform_year_top6 = platform_year.query('platform in @top')[['total_sales','platform','year_of_release']] \n",
    "\n",
    "# Display the filtered DataFrame\n",
    "platform_year_top6"
   ]
  },
  {
   "cell_type": "code",
   "execution_count": null,
   "metadata": {},
   "outputs": [
    {
     "data": {
      "image/png": "[encoded data removed]",
      "text/plain": [
       "<Figure size 640x480 with 1 Axes>"
      ]
     },
     "metadata": {},
     "output_type": "display_data"
    }
   ],
   "source": [
    "# Create a bar chart to visualize total sales for the top 6 platforms\n",
    "plt.bar(platform_year_top6['platform'], platform_year_top6['total_sales'])\n",
    "\n",
    "# Add labels to the x and y axes\n",
    "plt.xlabel('Platform')\n",
    "plt.ylabel('Millions of dollars')\n",
    "\n",
    "# Set the chart title\n",
    "plt.title('Total Sales by Top Platforms')\n",
    "\n",
    "# Rotate x-axis labels for better readability\n",
    "plt.xticks(rotation=0)\n",
    "\n",
    "# Add a grid to the y-axis for easier visualization\n",
    "plt.grid(axis='y')\n",
    "\n",
    "# Display the chart\n",
    "plt.show()"
   ]
  },
  {
   "cell_type": "code",
   "execution_count": null,
   "metadata": {},
   "outputs": [
    {
     "data": {
      "image/png": "[encoded data removed]",
      "text/plain": [
       "<Figure size 640x480 with 1 Axes>"
      ]
     },
     "metadata": {},
     "output_type": "display_data"
    }
   ],
   "source": [
    "# This loop iterates through each unique platform in the 'platform_year_top6' DataFrame\n",
    "for platform in platform_year_top6['platform'].unique():\n",
    "\n",
    "  # Filter data for the current platform by selecting rows where 'platform' matches\n",
    "  platform_data1 = platform_year_top6[platform_year_top6['platform'] == platform]\n",
    "\n",
    "  # Create a bar chart to visualize sales per year of release for the current platform\n",
    "  plt.bar(platform_data1['year_of_release'], platform_data1['total_sales'], label=platform)\n",
    "\n",
    "# Set labels and title for the chart\n",
    "plt.xlabel('Year of release')\n",
    "plt.ylabel('Millions of dollars')\n",
    "plt.legend(loc='upper left')  # Place the legend in the upper left corner\n",
    "plt.title('Sales per Year of Release for Each Platform')\n",
    "plt.xticks(rotation=0)  # Rotate x-axis labels for better readability\n",
    "plt.grid(axis='y')  # Add gridlines on the y-axis\n",
    "\n",
    "# By analyzing the slopes of the lines in this chart, you can potentially identify \n",
    "# platforms that are experiencing growth (increasing sales over time) or decline \n",
    "# (decreasing sales over time). Platforms with consistently high sales across \n",
    "# different years might be considered strong contenders for profitability."
   ]
  },
  {
   "cell_type": "markdown",
   "metadata": {},
   "source": [
    "The leading platform in sales, in the last 3 years, is PS4 and XOne, while X360 and PS3 are decreasing."
   ]
  },
  {
   "cell_type": "markdown",
   "metadata": {},
   "source": []
  },
  {
   "cell_type": "code",
   "execution_count": null,
   "metadata": {},
   "outputs": [
    {
     "data": {
      "image/png": "[encoded data removed]",
      "text/plain": [
       "<Figure size 640x480 with 1 Axes>"
      ]
     },
     "metadata": {},
     "output_type": "display_data"
    }
   ],
   "source": [
    "# Create a boxplot to visualize the distribution of total sales for each platform\n",
    "sns.boxplot(x='platform', y='total_sales', data=platform_year_top6, showmeans=True)\n",
    "plt.show()"
   ]
  },
  {
   "cell_type": "markdown",
   "metadata": {},
   "source": [
    "The sales of the different platforms are significant since the average varies by approximately 20 million dollars for the DS and PS2 platforms. For the PS3, Wii and X360 platforms the average is similar. However, the distribution of the data is notably different for each platform, depending on the distances between Q1, 2 and 3."
   ]
  },
  {
   "cell_type": "code",
   "execution_count": null,
   "metadata": {},
   "outputs": [
    {
     "data": {
      "text/html": [
       "<div>\n",
       "<style scoped>\n",
       "    .dataframe tbody tr th:only-of-type {\n",
       "        vertical-align: middle;\n",
       "    }\n",
       "\n",
       "    .dataframe tbody tr th {\n",
       "        vertical-align: top;\n",
       "    }\n",
       "\n",
       "    .dataframe thead th {\n",
       "        text-align: right;\n",
       "    }\n",
       "</style>\n",
       "<table border=\"1\" class=\"dataframe\">\n",
       "  <thead>\n",
       "    <tr style=\"text-align: right;\">\n",
       "      <th></th>\n",
       "      <th>name</th>\n",
       "      <th>platform</th>\n",
       "      <th>year_of_release</th>\n",
       "      <th>genre</th>\n",
       "      <th>na_sales</th>\n",
       "      <th>eu_sales</th>\n",
       "      <th>jp_sales</th>\n",
       "      <th>other_sales</th>\n",
       "      <th>critic_score</th>\n",
       "      <th>user_score</th>\n",
       "      <th>rating</th>\n",
       "      <th>total_sales</th>\n",
       "    </tr>\n",
       "  </thead>\n",
       "  <tbody>\n",
       "    <tr>\n",
       "      <th>0</th>\n",
       "      <td>Wii Sports</td>\n",
       "      <td>Wii</td>\n",
       "      <td>2006.0</td>\n",
       "      <td>Sports</td>\n",
       "      <td>41.36</td>\n",
       "      <td>28.96</td>\n",
       "      <td>3.77</td>\n",
       "      <td>8.45</td>\n",
       "      <td>76.000000</td>\n",
       "      <td>8.000000</td>\n",
       "      <td>E</td>\n",
       "      <td>82.54</td>\n",
       "    </tr>\n",
       "    <tr>\n",
       "      <th>10414</th>\n",
       "      <td>Ennichi no Tatsujin</td>\n",
       "      <td>Wii</td>\n",
       "      <td>2006.0</td>\n",
       "      <td>Misc</td>\n",
       "      <td>0.00</td>\n",
       "      <td>0.00</td>\n",
       "      <td>0.10</td>\n",
       "      <td>0.00</td>\n",
       "      <td>68.967679</td>\n",
       "      <td>7.125046</td>\n",
       "      <td>NaN</td>\n",
       "      <td>0.10</td>\n",
       "    </tr>\n",
       "    <tr>\n",
       "      <th>6232</th>\n",
       "      <td>Avatar: The Last Airbender</td>\n",
       "      <td>Wii</td>\n",
       "      <td>2006.0</td>\n",
       "      <td>Adventure</td>\n",
       "      <td>0.23</td>\n",
       "      <td>0.02</td>\n",
       "      <td>0.00</td>\n",
       "      <td>0.02</td>\n",
       "      <td>56.000000</td>\n",
       "      <td>5.800000</td>\n",
       "      <td>E10+</td>\n",
       "      <td>0.27</td>\n",
       "    </tr>\n",
       "    <tr>\n",
       "      <th>4817</th>\n",
       "      <td>Marvel: Ultimate Alliance</td>\n",
       "      <td>Wii</td>\n",
       "      <td>2006.0</td>\n",
       "      <td>Role-Playing</td>\n",
       "      <td>0.36</td>\n",
       "      <td>0.00</td>\n",
       "      <td>0.00</td>\n",
       "      <td>0.03</td>\n",
       "      <td>73.000000</td>\n",
       "      <td>7.300000</td>\n",
       "      <td>T</td>\n",
       "      <td>0.39</td>\n",
       "    </tr>\n",
       "    <tr>\n",
       "      <th>7323</th>\n",
       "      <td>Rampage: Total Destruction</td>\n",
       "      <td>Wii</td>\n",
       "      <td>2006.0</td>\n",
       "      <td>Action</td>\n",
       "      <td>0.19</td>\n",
       "      <td>0.01</td>\n",
       "      <td>0.00</td>\n",
       "      <td>0.02</td>\n",
       "      <td>46.000000</td>\n",
       "      <td>5.600000</td>\n",
       "      <td>E10+</td>\n",
       "      <td>0.22</td>\n",
       "    </tr>\n",
       "    <tr>\n",
       "      <th>...</th>\n",
       "      <td>...</td>\n",
       "      <td>...</td>\n",
       "      <td>...</td>\n",
       "      <td>...</td>\n",
       "      <td>...</td>\n",
       "      <td>...</td>\n",
       "      <td>...</td>\n",
       "      <td>...</td>\n",
       "      <td>...</td>\n",
       "      <td>...</td>\n",
       "      <td>...</td>\n",
       "      <td>...</td>\n",
       "    </tr>\n",
       "    <tr>\n",
       "      <th>15081</th>\n",
       "      <td>Wii de Asobu: Metroid Prime</td>\n",
       "      <td>Wii</td>\n",
       "      <td>NaN</td>\n",
       "      <td>Shooter</td>\n",
       "      <td>0.00</td>\n",
       "      <td>0.00</td>\n",
       "      <td>0.02</td>\n",
       "      <td>0.00</td>\n",
       "      <td>68.967679</td>\n",
       "      <td>7.125046</td>\n",
       "      <td>NaN</td>\n",
       "      <td>0.02</td>\n",
       "    </tr>\n",
       "    <tr>\n",
       "      <th>15267</th>\n",
       "      <td>Saint</td>\n",
       "      <td>Wii</td>\n",
       "      <td>NaN</td>\n",
       "      <td>Shooter</td>\n",
       "      <td>0.02</td>\n",
       "      <td>0.00</td>\n",
       "      <td>0.00</td>\n",
       "      <td>0.00</td>\n",
       "      <td>68.967679</td>\n",
       "      <td>7.125046</td>\n",
       "      <td>E10+</td>\n",
       "      <td>0.02</td>\n",
       "    </tr>\n",
       "    <tr>\n",
       "      <th>15557</th>\n",
       "      <td>Yu-Gi-Oh! 5D's Wheelie Breakers (JP sales)</td>\n",
       "      <td>Wii</td>\n",
       "      <td>NaN</td>\n",
       "      <td>Racing</td>\n",
       "      <td>0.00</td>\n",
       "      <td>0.00</td>\n",
       "      <td>0.02</td>\n",
       "      <td>0.00</td>\n",
       "      <td>68.967679</td>\n",
       "      <td>7.125046</td>\n",
       "      <td>NaN</td>\n",
       "      <td>0.02</td>\n",
       "    </tr>\n",
       "    <tr>\n",
       "      <th>16059</th>\n",
       "      <td>Dance! It's Your Stage</td>\n",
       "      <td>Wii</td>\n",
       "      <td>NaN</td>\n",
       "      <td>Misc</td>\n",
       "      <td>0.00</td>\n",
       "      <td>0.01</td>\n",
       "      <td>0.00</td>\n",
       "      <td>0.00</td>\n",
       "      <td>68.967679</td>\n",
       "      <td>7.125046</td>\n",
       "      <td>NaN</td>\n",
       "      <td>0.01</td>\n",
       "    </tr>\n",
       "    <tr>\n",
       "      <th>16080</th>\n",
       "      <td>Ferrari: The Race Experience</td>\n",
       "      <td>Wii</td>\n",
       "      <td>NaN</td>\n",
       "      <td>Racing</td>\n",
       "      <td>0.00</td>\n",
       "      <td>0.01</td>\n",
       "      <td>0.00</td>\n",
       "      <td>0.00</td>\n",
       "      <td>54.000000</td>\n",
       "      <td>7.125046</td>\n",
       "      <td>E</td>\n",
       "      <td>0.01</td>\n",
       "    </tr>\n",
       "  </tbody>\n",
       "</table>\n",
       "<p>1320 rows × 12 columns</p>\n",
       "</div>"
      ],
      "text/plain": [
       "                                             name platform  year_of_release  \\\n",
       "0                                      Wii Sports      Wii           2006.0   \n",
       "10414                         Ennichi no Tatsujin      Wii           2006.0   \n",
       "6232                   Avatar: The Last Airbender      Wii           2006.0   \n",
       "4817                    Marvel: Ultimate Alliance      Wii           2006.0   \n",
       "7323                   Rampage: Total Destruction      Wii           2006.0   \n",
       "...                                           ...      ...              ...   \n",
       "15081                 Wii de Asobu: Metroid Prime      Wii              NaN   \n",
       "15267                                       Saint      Wii              NaN   \n",
       "15557  Yu-Gi-Oh! 5D's Wheelie Breakers (JP sales)      Wii              NaN   \n",
       "16059                      Dance! It's Your Stage      Wii              NaN   \n",
       "16080                Ferrari: The Race Experience      Wii              NaN   \n",
       "\n",
       "              genre  na_sales  eu_sales  jp_sales  other_sales  critic_score  \\\n",
       "0            Sports     41.36     28.96      3.77         8.45     76.000000   \n",
       "10414          Misc      0.00      0.00      0.10         0.00     68.967679   \n",
       "6232      Adventure      0.23      0.02      0.00         0.02     56.000000   \n",
       "4817   Role-Playing      0.36      0.00      0.00         0.03     73.000000   \n",
       "7323         Action      0.19      0.01      0.00         0.02     46.000000   \n",
       "...             ...       ...       ...       ...          ...           ...   \n",
       "15081       Shooter      0.00      0.00      0.02         0.00     68.967679   \n",
       "15267       Shooter      0.02      0.00      0.00         0.00     68.967679   \n",
       "15557        Racing      0.00      0.00      0.02         0.00     68.967679   \n",
       "16059          Misc      0.00      0.01      0.00         0.00     68.967679   \n",
       "16080        Racing      0.00      0.01      0.00         0.00     54.000000   \n",
       "\n",
       "       user_score rating  total_sales  \n",
       "0        8.000000      E        82.54  \n",
       "10414    7.125046    NaN         0.10  \n",
       "6232     5.800000   E10+         0.27  \n",
       "4817     7.300000      T         0.39  \n",
       "7323     5.600000   E10+         0.22  \n",
       "...           ...    ...          ...  \n",
       "15081    7.125046    NaN         0.02  \n",
       "15267    7.125046   E10+         0.02  \n",
       "15557    7.125046    NaN         0.02  \n",
       "16059    7.125046    NaN         0.01  \n",
       "16080    7.125046      E         0.01  \n",
       "\n",
       "[1320 rows x 12 columns]"
      ]
     },
     "execution_count": 152,
     "metadata": {},
     "output_type": "execute_result"
    }
   ],
   "source": [
    "# Filter the DataFrame to include only games on the Wii platform\n",
    "df_wii = df[df['platform']=='Wii'] \n",
    "\n",
    "# Sort the filtered DataFrame by year of release in ascending order\n",
    "df_wii.sort_values('year_of_release',ascending = True)"
   ]
  },
  {
   "cell_type": "code",
   "execution_count": null,
   "metadata": {},
   "outputs": [
    {
     "data": {
      "image/png": "[encoded data removed]",
      "text/plain": [
       "<Figure size 640x480 with 2 Axes>"
      ]
     },
     "metadata": {},
     "output_type": "display_data"
    }
   ],
   "source": [
    "# Define the color map for the scatter plot (viridis is a perceptually uniform colormap)\n",
    "cmap = 'viridis'\n",
    "\n",
    "# Create a scatter plot\n",
    "plt.scatter(\n",
    "    # X-axis: Total sales of Wii games\n",
    "    df_wii['total_sales'],\n",
    "    # Y-axis: Critic score of Wii games\n",
    "    df_wii['critic_score'],\n",
    "    # Color of each data point based on the user score of the Wii game\n",
    "    c=df_wii['user_score'],\n",
    "    # Use the defined colormap\n",
    "    cmap=cmap,\n",
    "    # Size of each data point\n",
    "    s=30\n",
    ")\n",
    "\n",
    "# Add a colorbar to the plot to represent the user score range\n",
    "plt.colorbar(label='User Score')\n",
    "\n",
    "# Label the axes\n",
    "plt.xlabel('Total Sales')\n",
    "plt.ylabel('Critic Score')\n",
    "\n",
    "# Set the plot title\n",
    "plt.title('Impact of User and Critic Reviews on Wii Sales')\n",
    "\n",
    "# Display the plot\n",
    "plt.show()"
   ]
  },
  {
   "cell_type": "markdown",
   "metadata": {},
   "source": [
    "It is notable that games that have scores between 8 -10 or 80 -100 have higher sales."
   ]
  },
  {
   "cell_type": "code",
   "execution_count": null,
   "metadata": {},
   "outputs": [],
   "source": [
    "# Filter the DataFrame to include only rows where the platform is NOT 'Wii'\n",
    "df_not_wii = df[df['platform'] != 'Wii']\n"
   ]
  },
  {
   "cell_type": "code",
   "execution_count": null,
   "metadata": {
    "scrolled": true
   },
   "outputs": [],
   "source": [
    "# Create a new DataFrame named df_wii_games\n",
    "df_wii_games = df_not_wii.query('name in @df_wii.name')\n",
    "\n",
    "# Filter df_not_wii based on the condition in the query\n",
    "df_wii_games = df_not_wii[df_not_wii['name'].isin(df_wii['name'])]"
   ]
  },
  {
   "cell_type": "code",
   "execution_count": null,
   "metadata": {},
   "outputs": [
    {
     "data": {
      "image/png": "[encoded data removed]",
      "text/plain": [
       "<Figure size 640x480 with 2 Axes>"
      ]
     },
     "metadata": {},
     "output_type": "display_data"
    }
   ],
   "source": [
    "# Define the colormap for the scatter plot (viridis represents green-yellow color gradient)\n",
    "cmap = 'viridis'\n",
    "\n",
    "# Create a scatter plot\n",
    "plt.scatter(\n",
    "    # X-axis: Total sales of Wii games from the filtered DataFrame\n",
    "    df_wii_games['total_sales'],\n",
    "    # Y-axis: Critic score of Wii games from the filtered DataFrame\n",
    "    df_wii_games['critic_score'],\n",
    "    # Color of each data point based on user score of Wii games\n",
    "    c=df_wii_games['user_score'],\n",
    "    # Use the defined colormap\n",
    "    cmap=cmap,\n",
    "    # Size of each data point\n",
    "    s=30\n",
    ")\n",
    "\n",
    "# Add a colorbar to the plot representing the user score range\n",
    "plt.colorbar(label='User Score')\n",
    "\n",
    "# Label for the X-axis\n",
    "plt.xlabel('Total Sales')\n",
    "\n",
    "# Label for the Y-axis\n",
    "plt.ylabel('Critic Score')\n",
    "\n",
    "# Title for the plot\n",
    "plt.title('Impacto de las reseñas sobre las ventas de los juegos con diferente plataforma a Wii')  # Impact of Reviews on Sales for Non-Wii Games)\n",
    "\n",
    "# Display the plot\n",
    "plt.show()"
   ]
  },
  {
   "cell_type": "code",
   "execution_count": null,
   "metadata": {},
   "outputs": [
    {
     "data": {
      "text/html": [
       "<div>\n",
       "<style scoped>\n",
       "    .dataframe tbody tr th:only-of-type {\n",
       "        vertical-align: middle;\n",
       "    }\n",
       "\n",
       "    .dataframe tbody tr th {\n",
       "        vertical-align: top;\n",
       "    }\n",
       "\n",
       "    .dataframe thead th {\n",
       "        text-align: right;\n",
       "    }\n",
       "</style>\n",
       "<table border=\"1\" class=\"dataframe\">\n",
       "  <thead>\n",
       "    <tr style=\"text-align: right;\">\n",
       "      <th></th>\n",
       "      <th>name</th>\n",
       "      <th>platform</th>\n",
       "      <th>year_of_release</th>\n",
       "      <th>genre</th>\n",
       "      <th>na_sales</th>\n",
       "      <th>eu_sales</th>\n",
       "      <th>jp_sales</th>\n",
       "      <th>other_sales</th>\n",
       "      <th>critic_score</th>\n",
       "      <th>user_score</th>\n",
       "      <th>rating</th>\n",
       "      <th>total_sales</th>\n",
       "    </tr>\n",
       "  </thead>\n",
       "  <tbody>\n",
       "    <tr>\n",
       "      <th>0</th>\n",
       "      <td>Wii Sports</td>\n",
       "      <td>Wii</td>\n",
       "      <td>2006.0</td>\n",
       "      <td>Sports</td>\n",
       "      <td>41.36</td>\n",
       "      <td>28.96</td>\n",
       "      <td>3.77</td>\n",
       "      <td>8.45</td>\n",
       "      <td>76.000000</td>\n",
       "      <td>8.000000</td>\n",
       "      <td>E</td>\n",
       "      <td>82.54</td>\n",
       "    </tr>\n",
       "    <tr>\n",
       "      <th>2</th>\n",
       "      <td>Mario Kart Wii</td>\n",
       "      <td>Wii</td>\n",
       "      <td>2008.0</td>\n",
       "      <td>Racing</td>\n",
       "      <td>15.68</td>\n",
       "      <td>12.76</td>\n",
       "      <td>3.79</td>\n",
       "      <td>3.29</td>\n",
       "      <td>82.000000</td>\n",
       "      <td>8.300000</td>\n",
       "      <td>E</td>\n",
       "      <td>35.52</td>\n",
       "    </tr>\n",
       "    <tr>\n",
       "      <th>3</th>\n",
       "      <td>Wii Sports Resort</td>\n",
       "      <td>Wii</td>\n",
       "      <td>2009.0</td>\n",
       "      <td>Sports</td>\n",
       "      <td>15.61</td>\n",
       "      <td>10.93</td>\n",
       "      <td>3.28</td>\n",
       "      <td>2.95</td>\n",
       "      <td>80.000000</td>\n",
       "      <td>8.000000</td>\n",
       "      <td>E</td>\n",
       "      <td>32.77</td>\n",
       "    </tr>\n",
       "    <tr>\n",
       "      <th>6</th>\n",
       "      <td>New Super Mario Bros.</td>\n",
       "      <td>DS</td>\n",
       "      <td>2006.0</td>\n",
       "      <td>Platform</td>\n",
       "      <td>11.28</td>\n",
       "      <td>9.14</td>\n",
       "      <td>6.50</td>\n",
       "      <td>2.88</td>\n",
       "      <td>89.000000</td>\n",
       "      <td>8.500000</td>\n",
       "      <td>E</td>\n",
       "      <td>29.80</td>\n",
       "    </tr>\n",
       "    <tr>\n",
       "      <th>7</th>\n",
       "      <td>Wii Play</td>\n",
       "      <td>Wii</td>\n",
       "      <td>2006.0</td>\n",
       "      <td>Misc</td>\n",
       "      <td>13.96</td>\n",
       "      <td>9.18</td>\n",
       "      <td>2.93</td>\n",
       "      <td>2.84</td>\n",
       "      <td>58.000000</td>\n",
       "      <td>6.600000</td>\n",
       "      <td>E</td>\n",
       "      <td>28.91</td>\n",
       "    </tr>\n",
       "    <tr>\n",
       "      <th>...</th>\n",
       "      <td>...</td>\n",
       "      <td>...</td>\n",
       "      <td>...</td>\n",
       "      <td>...</td>\n",
       "      <td>...</td>\n",
       "      <td>...</td>\n",
       "      <td>...</td>\n",
       "      <td>...</td>\n",
       "      <td>...</td>\n",
       "      <td>...</td>\n",
       "      <td>...</td>\n",
       "      <td>...</td>\n",
       "    </tr>\n",
       "    <tr>\n",
       "      <th>16709</th>\n",
       "      <td>SCORE International Baja 1000: The Official Game</td>\n",
       "      <td>PS2</td>\n",
       "      <td>2008.0</td>\n",
       "      <td>Racing</td>\n",
       "      <td>0.00</td>\n",
       "      <td>0.00</td>\n",
       "      <td>0.00</td>\n",
       "      <td>0.00</td>\n",
       "      <td>68.967679</td>\n",
       "      <td>7.125046</td>\n",
       "      <td>NaN</td>\n",
       "      <td>0.00</td>\n",
       "    </tr>\n",
       "    <tr>\n",
       "      <th>16710</th>\n",
       "      <td>Samurai Warriors: Sanada Maru</td>\n",
       "      <td>PS3</td>\n",
       "      <td>2016.0</td>\n",
       "      <td>Action</td>\n",
       "      <td>0.00</td>\n",
       "      <td>0.00</td>\n",
       "      <td>0.01</td>\n",
       "      <td>0.00</td>\n",
       "      <td>68.967679</td>\n",
       "      <td>7.125046</td>\n",
       "      <td>NaN</td>\n",
       "      <td>0.01</td>\n",
       "    </tr>\n",
       "    <tr>\n",
       "      <th>16711</th>\n",
       "      <td>LMA Manager 2007</td>\n",
       "      <td>X360</td>\n",
       "      <td>2006.0</td>\n",
       "      <td>Sports</td>\n",
       "      <td>0.00</td>\n",
       "      <td>0.01</td>\n",
       "      <td>0.00</td>\n",
       "      <td>0.00</td>\n",
       "      <td>68.967679</td>\n",
       "      <td>7.125046</td>\n",
       "      <td>NaN</td>\n",
       "      <td>0.01</td>\n",
       "    </tr>\n",
       "    <tr>\n",
       "      <th>16712</th>\n",
       "      <td>Haitaka no Psychedelica</td>\n",
       "      <td>PSV</td>\n",
       "      <td>2016.0</td>\n",
       "      <td>Adventure</td>\n",
       "      <td>0.00</td>\n",
       "      <td>0.00</td>\n",
       "      <td>0.01</td>\n",
       "      <td>0.00</td>\n",
       "      <td>68.967679</td>\n",
       "      <td>7.125046</td>\n",
       "      <td>NaN</td>\n",
       "      <td>0.01</td>\n",
       "    </tr>\n",
       "    <tr>\n",
       "      <th>16714</th>\n",
       "      <td>Winning Post 8 2016</td>\n",
       "      <td>PSV</td>\n",
       "      <td>2016.0</td>\n",
       "      <td>Simulation</td>\n",
       "      <td>0.00</td>\n",
       "      <td>0.00</td>\n",
       "      <td>0.01</td>\n",
       "      <td>0.00</td>\n",
       "      <td>68.967679</td>\n",
       "      <td>7.125046</td>\n",
       "      <td>NaN</td>\n",
       "      <td>0.01</td>\n",
       "    </tr>\n",
       "  </tbody>\n",
       "</table>\n",
       "<p>11272 rows × 12 columns</p>\n",
       "</div>"
      ],
      "text/plain": [
       "                                                   name platform  \\\n",
       "0                                            Wii Sports      Wii   \n",
       "2                                        Mario Kart Wii      Wii   \n",
       "3                                     Wii Sports Resort      Wii   \n",
       "6                                 New Super Mario Bros.       DS   \n",
       "7                                              Wii Play      Wii   \n",
       "...                                                 ...      ...   \n",
       "16709  SCORE International Baja 1000: The Official Game      PS2   \n",
       "16710                     Samurai Warriors: Sanada Maru      PS3   \n",
       "16711                                  LMA Manager 2007     X360   \n",
       "16712                           Haitaka no Psychedelica      PSV   \n",
       "16714                               Winning Post 8 2016      PSV   \n",
       "\n",
       "       year_of_release       genre  na_sales  eu_sales  jp_sales  other_sales  \\\n",
       "0               2006.0      Sports     41.36     28.96      3.77         8.45   \n",
       "2               2008.0      Racing     15.68     12.76      3.79         3.29   \n",
       "3               2009.0      Sports     15.61     10.93      3.28         2.95   \n",
       "6               2006.0    Platform     11.28      9.14      6.50         2.88   \n",
       "7               2006.0        Misc     13.96      9.18      2.93         2.84   \n",
       "...                ...         ...       ...       ...       ...          ...   \n",
       "16709           2008.0      Racing      0.00      0.00      0.00         0.00   \n",
       "16710           2016.0      Action      0.00      0.00      0.01         0.00   \n",
       "16711           2006.0      Sports      0.00      0.01      0.00         0.00   \n",
       "16712           2016.0   Adventure      0.00      0.00      0.01         0.00   \n",
       "16714           2016.0  Simulation      0.00      0.00      0.01         0.00   \n",
       "\n",
       "       critic_score  user_score rating  total_sales  \n",
       "0         76.000000    8.000000      E        82.54  \n",
       "2         82.000000    8.300000      E        35.52  \n",
       "3         80.000000    8.000000      E        32.77  \n",
       "6         89.000000    8.500000      E        29.80  \n",
       "7         58.000000    6.600000      E        28.91  \n",
       "...             ...         ...    ...          ...  \n",
       "16709     68.967679    7.125046    NaN         0.00  \n",
       "16710     68.967679    7.125046    NaN         0.01  \n",
       "16711     68.967679    7.125046    NaN         0.01  \n",
       "16712     68.967679    7.125046    NaN         0.01  \n",
       "16714     68.967679    7.125046    NaN         0.01  \n",
       "\n",
       "[11272 rows x 12 columns]"
      ]
     },
     "execution_count": 157,
     "metadata": {},
     "output_type": "execute_result"
    }
   ],
   "source": [
    "# Filter the DataFrame to include only games released from 2005 onwards\n",
    "df_from2005 = df[df['year_of_release'] >= 2005]\n",
    "\n",
    "# Display the filtered DataFrame\n",
    "df_from2005"
   ]
  },
  {
   "cell_type": "code",
   "execution_count": null,
   "metadata": {},
   "outputs": [
    {
     "data": {
      "text/plain": [
       "<Figure size 4000x1000 with 0 Axes>"
      ]
     },
     "execution_count": 158,
     "metadata": {},
     "output_type": "execute_result"
    },
    {
     "data": {
      "image/png": "[encoded data removed]",
      "text/plain": [
       "<Figure size 640x480 with 1 Axes>"
      ]
     },
     "metadata": {},
     "output_type": "display_data"
    },
    {
     "data": {
      "text/plain": [
       "<Figure size 4000x1000 with 0 Axes>"
      ]
     },
     "metadata": {},
     "output_type": "display_data"
    }
   ],
   "source": [
    "# Create a bar chart to visualize total sales per genre\n",
    "plt.bar(df_from2005['genre'], df_from2005['total_sales'], label='genre')\n",
    "\n",
    "# Set labels for the chart\n",
    "plt.xlabel('Genre')  # Label for the x-axis (horizontal)\n",
    "plt.ylabel('Millones de dolares (Millions of Dollars)')  # Label for the y-axis (vertical)\n",
    "plt.title('Ventas por genero de juego (Video Game Sales by Genre)')  # Chart title\n",
    "\n",
    "# Rotate x-axis labels for better readability with many genres\n",
    "plt.xticks(rotation=45)  # Rotate x-axis labels by 45 degrees\n",
    "\n",
    "# Add gridlines to the chart\n",
    "plt.grid(axis='y')  # Add gridlines on the y-axis\n",
    "\n",
    "# Increase figure size for better visualization with many genres\n",
    "plt.figure(figsize=(40, 10))  # Set figure width to 40 and height to 10"
   ]
  },
  {
   "cell_type": "markdown",
   "metadata": {},
   "source": [
    "Notably, the genre that generates the most sales is Sports, and those that generate the least sales are Strategy and Advendure. It could not be generalized since each game varies with respect to the others in sales."
   ]
  },
  {
   "cell_type": "markdown",
   "metadata": {},
   "source": [
    "# Step 4. Create a user profile for each region"
   ]
  },
  {
   "cell_type": "markdown",
   "metadata": {},
   "source": [
    "For each region (NA, EU, JP) determine:"
   ]
  },
  {
   "cell_type": "code",
   "execution_count": null,
   "metadata": {},
   "outputs": [
    {
     "name": "stdout",
     "output_type": "stream",
     "text": [
      "   platform  na_sales\n",
      "13     X360    595.74\n",
      "11      Wii    486.87\n",
      "7       PS3    390.13\n",
      "2        DS    371.98\n",
      "6       PS2    200.49\n",
      "   platform  eu_sales\n",
      "7       PS3    327.21\n",
      "13     X360    268.32\n",
      "11      Wii    258.32\n",
      "2        DS    184.48\n",
      "8       PS4    141.09\n",
      "   platform  jp_sales\n",
      "2        DS    171.35\n",
      "0       3DS    100.62\n",
      "7       PS3     79.41\n",
      "9       PSP     73.85\n",
      "11      Wii     68.28\n"
     ]
    }
   ],
   "source": [
    "# Calculate total sales for each platform in North America\n",
    "na_region = df_from2005.groupby(['platform'])['na_sales'].sum().reset_index() \n",
    "# Find the top 5 platforms with the highest sales in North America\n",
    "top5_na_sales = na_region.sort_values('na_sales', ascending=False).head(5)\n",
    "\n",
    "# Calculate total sales for each platform in Europe\n",
    "eu_region = df_from2005.groupby(['platform'])['eu_sales'].sum().reset_index() \n",
    "# Find the top 5 platforms with the highest sales in Europe\n",
    "top5_eu_sales = eu_region.sort_values('eu_sales', ascending=False).head(5)\n",
    "\n",
    "# Calculate total sales for each platform in Japan\n",
    "jp_region = df_from2005.groupby(['platform'])['jp_sales'].sum().reset_index()\n",
    "# Find the top 5 platforms with the highest sales in Japan\n",
    "top5_jp_sales = jp_region.sort_values('jp_sales', ascending=False).head(5)\n",
    "\n",
    "# Print the top 5 platforms for each region\n",
    "print(top5_na_sales)\n",
    "print(top5_eu_sales)\n",
    "print(top5_jp_sales)"
   ]
  },
  {
   "cell_type": "code",
   "execution_count": null,
   "metadata": {},
   "outputs": [
    {
     "data": {
      "image/png": "[encoded data removed]",
      "text/plain": [
       "<Figure size 640x480 with 1 Axes>"
      ]
     },
     "metadata": {},
     "output_type": "display_data"
    }
   ],
   "source": [
    "# Create three bar plots, one for each region (NA, EU, JP)\n",
    "plt.bar(top5_na_sales['platform'], top5_na_sales['na_sales'], label='na_sales')  # North America sales\n",
    "plt.bar(top5_eu_sales['platform'], top5_eu_sales['eu_sales'], label='eu_sales')  # Europe sales\n",
    "plt.bar(top5_jp_sales['platform'], top5_jp_sales['jp_sales'], label='jp_sales')  # Japan sales\n",
    "\n",
    "# Set labels for the chart\n",
    "plt.xlabel('Platform')\n",
    "plt.ylabel('Million Dollars')\n",
    "\n",
    "# Add a legend in the upper left corner to distinguish between the sales regions\n",
    "plt.legend(loc='upper left')\n",
    "plt.title('Sales by Platform for Top 5 in Each Region (NA, EU, JP)')\n",
    "\n",
    "# Rotate x-axis labels for better readability if there are many platforms\n",
    "plt.xticks(rotation=0)\n",
    "\n",
    "# Add grid lines on the y-axis for better visualization\n",
    "plt.grid(axis='y')"
   ]
  },
  {
   "cell_type": "markdown",
   "metadata": {},
   "source": [
    "It is notable that in the North American region, more games are sold, followed by Europe and finally Japan. The platform that has the most games is X360."
   ]
  },
  {
   "cell_type": "code",
   "execution_count": null,
   "metadata": {},
   "outputs": [
    {
     "name": "stdout",
     "output_type": "stream",
     "text": [
      "           genre  na_sales\n",
      "0         Action    580.04\n",
      "10        Sports    432.70\n",
      "8        Shooter    400.96\n",
      "3           Misc    311.82\n",
      "7   Role-Playing    211.85\n",
      "      genre  eu_sales\n",
      "0    Action    372.58\n",
      "10   Sports    265.61\n",
      "8   Shooter    248.07\n",
      "3      Misc    167.09\n",
      "6    Racing    129.05\n",
      "           genre  jp_sales\n",
      "7   Role-Playing    179.60\n",
      "0         Action    108.39\n",
      "3           Misc     72.49\n",
      "10        Sports     52.51\n",
      "4       Platform     36.32\n"
     ]
    }
   ],
   "source": [
    "# Calculate total sales for each genre in North America\n",
    "na_genre = df_from2005.groupby(['genre'])['na_sales'].sum().reset_index() \n",
    "# Select the top 5 genres with the highest sales in North America\n",
    "top5_na_genre = na_genre.sort_values('na_sales', ascending=False).head(5)\n",
    "\n",
    "# Calculate total sales for each genre in Europe\n",
    "eu_genre = df_from2005.groupby(['genre'])['eu_sales'].sum().reset_index() \n",
    "# Select the top 5 genres with the highest sales in Europe\n",
    "top5_eu_genre = eu_genre.sort_values('eu_sales', ascending=False).head(5)\n",
    "\n",
    "# Calculate total sales for each genre in Japan\n",
    "jp_genre = df_from2005.groupby(['genre'])['jp_sales'].sum().reset_index() \n",
    "# Select the top 5 genres with the highest sales in Japan\n",
    "top5_jp_genre = jp_genre.sort_values('jp_sales', ascending=False).head(5)\n",
    "\n",
    "# Print the top 5 genres for each region\n",
    "print(top5_na_genre)\n",
    "print(top5_eu_genre)\n",
    "print(top5_jp_genre)"
   ]
  },
  {
   "cell_type": "code",
   "execution_count": null,
   "metadata": {},
   "outputs": [
    {
     "data": {
      "image/png": "[encoded data removed]",
      "text/plain": [
       "<Figure size 640x480 with 1 Axes>"
      ]
     },
     "metadata": {},
     "output_type": "display_data"
    }
   ],
   "source": [
    "# Create three bar plots for NA, EU, and JP sales on the same chart\n",
    "plt.bar(top5_na_genre['genre'], top5_na_genre['na_sales'], label='NA Sales')  # Plot NA sales bar graph\n",
    "plt.bar(top5_eu_genre['genre'], top5_eu_genre['eu_sales'], label='EU Sales')  # Plot EU sales bar graph\n",
    "plt.bar(top5_jp_genre['genre'], top5_jp_genre['jp_sales'], label='JP Sales')  # Plot JP sales bar graph\n",
    "\n",
    "# Set labels for the chart\n",
    "plt.xlabel('Genre')  # Label for the x-axis (horizontal)\n",
    "plt.ylabel('Million Dollars')  # Label for the y-axis (vertical)\n",
    "\n",
    "# Add a legend to distinguish between the bars\n",
    "plt.legend(loc='upper left')  # Place the legend in the upper left corner\n",
    "\n",
    "# Set the chart title\n",
    "plt.title('Sales by Genre (NA, EU, JP)')  # Title for the chart\n",
    "\n",
    "# Rotate x-axis labels for better readability if there are many genres\n",
    "plt.xticks(rotation=0)\n",
    "\n",
    "# Add gridlines to the chart\n",
    "plt.grid(axis='y')  # Add gridlines on the y-axis"
   ]
  },
  {
   "cell_type": "code",
   "execution_count": null,
   "metadata": {},
   "outputs": [
    {
     "name": "stdout",
     "output_type": "stream",
     "text": [
      "  rating  na_sales\n",
      "1      E    873.10\n",
      "4      M    607.34\n",
      "6      T    479.08\n",
      "2   E10+    343.02\n",
      "3     EC      1.53\n",
      "  rating  eu_sales\n",
      "1      E    508.71\n",
      "4      M    414.11\n",
      "6      T    258.17\n",
      "2   E10+    181.92\n",
      "0     AO      0.61\n",
      "  rating  jp_sales\n",
      "1      E    147.33\n",
      "6      T     91.32\n",
      "4      M     46.23\n",
      "2   E10+     39.05\n",
      "0     AO      0.00\n"
     ]
    }
   ],
   "source": [
    "# Check if ESRB ratings affect sales in individual regions\n",
    "\n",
    "# Calculate total NA sales for each rating\n",
    "na_rating = df_from2005.groupby(['rating'])['na_sales'].sum().reset_index()\n",
    "top5_na_rating = na_rating.sort_values('na_sales', ascending=False).head(5) \n",
    "\n",
    "# Calculate total EU sales for each rating\n",
    "eu_rating = df_from2005.groupby(['rating'])['eu_sales'].sum().reset_index()\n",
    "top5_eu_rating = eu_rating.sort_values('eu_sales', ascending=False).head(5)\n",
    "\n",
    "# Calculate total JP sales for each rating\n",
    "jp_rating = df_from2005.groupby(['rating'])['jp_sales'].sum().reset_index()\n",
    "top5_jp_rating = jp_rating.sort_values('jp_sales', ascending=False).head(5)\n",
    "\n",
    "# Print the top 5 ratings by sales for each region\n",
    "print(top5_na_rating)\n",
    "print(top5_eu_rating)\n",
    "print(top5_jp_rating)"
   ]
  },
  {
   "cell_type": "code",
   "execution_count": null,
   "metadata": {},
   "outputs": [
    {
     "data": {
      "image/png": "[encoded data removed]",
      "text/plain": [
       "<Figure size 640x480 with 1 Axes>"
      ]
     },
     "metadata": {},
     "output_type": "display_data"
    }
   ],
   "source": [
    "# Create bar charts for NA, EU, and JP sales\n",
    "plt.bar(top5_na_rating['rating'], top5_na_rating['na_sales'], label='NA Sales')  # Plot NA sales on x-axis (rating) vs y-axis (sales)\n",
    "plt.bar(top5_eu_rating['rating'], top5_eu_rating['eu_sales'], label='EU Sales')  # Plot EU sales on same chart\n",
    "plt.bar(top5_jp_rating['rating'], top5_jp_rating['jp_sales'], label='JP Sales')  # Plot JP sales on same chart\n",
    "\n",
    "# Add labels and title for the chart\n",
    "plt.xlabel('Rating')  # Label for x-axis (rating)\n",
    "plt.ylabel('Million Dollars')  # Label for y-axis (sales in millions)\n",
    "plt.legend(loc='upper left')  # Add legend in upper left corner to distinguish between sales regions\n",
    "plt.title('Sales by Rating for Top 5 Games (NA, EU, JP)')  # Title for the chart\n",
    "\n",
    "# Rotate x-axis labels for better readability if many ratings\n",
    "plt.xticks(rotation=0)\n",
    "\n",
    "# Add gridlines for better visualization\n",
    "plt.grid(axis='y')"
   ]
  },
  {
   "cell_type": "markdown",
   "metadata": {},
   "source": [
    "The rating does affect, games with rating E sell more, games with rating EC, AO, RP almost do not generate sales."
   ]
  },
  {
   "cell_type": "markdown",
   "metadata": {},
   "source": [
    "# Step 5. Test the following hypotheses:"
   ]
  },
  {
   "cell_type": "code",
   "execution_count": null,
   "metadata": {},
   "outputs": [
    {
     "data": {
      "text/html": [
       "<div>\n",
       "<style scoped>\n",
       "    .dataframe tbody tr th:only-of-type {\n",
       "        vertical-align: middle;\n",
       "    }\n",
       "\n",
       "    .dataframe tbody tr th {\n",
       "        vertical-align: top;\n",
       "    }\n",
       "\n",
       "    .dataframe thead th {\n",
       "        text-align: right;\n",
       "    }\n",
       "</style>\n",
       "<table border=\"1\" class=\"dataframe\">\n",
       "  <thead>\n",
       "    <tr style=\"text-align: right;\">\n",
       "      <th></th>\n",
       "      <th>name</th>\n",
       "      <th>platform</th>\n",
       "      <th>year_of_release</th>\n",
       "      <th>genre</th>\n",
       "      <th>na_sales</th>\n",
       "      <th>eu_sales</th>\n",
       "      <th>jp_sales</th>\n",
       "      <th>other_sales</th>\n",
       "      <th>critic_score</th>\n",
       "      <th>user_score</th>\n",
       "      <th>rating</th>\n",
       "      <th>total_sales</th>\n",
       "    </tr>\n",
       "  </thead>\n",
       "  <tbody>\n",
       "    <tr>\n",
       "      <th>0</th>\n",
       "      <td>Wii Sports</td>\n",
       "      <td>Wii</td>\n",
       "      <td>2006.0</td>\n",
       "      <td>Sports</td>\n",
       "      <td>41.36</td>\n",
       "      <td>28.96</td>\n",
       "      <td>3.77</td>\n",
       "      <td>8.45</td>\n",
       "      <td>76.000000</td>\n",
       "      <td>8.000000</td>\n",
       "      <td>E</td>\n",
       "      <td>82.54</td>\n",
       "    </tr>\n",
       "    <tr>\n",
       "      <th>2</th>\n",
       "      <td>Mario Kart Wii</td>\n",
       "      <td>Wii</td>\n",
       "      <td>2008.0</td>\n",
       "      <td>Racing</td>\n",
       "      <td>15.68</td>\n",
       "      <td>12.76</td>\n",
       "      <td>3.79</td>\n",
       "      <td>3.29</td>\n",
       "      <td>82.000000</td>\n",
       "      <td>8.300000</td>\n",
       "      <td>E</td>\n",
       "      <td>35.52</td>\n",
       "    </tr>\n",
       "    <tr>\n",
       "      <th>3</th>\n",
       "      <td>Wii Sports Resort</td>\n",
       "      <td>Wii</td>\n",
       "      <td>2009.0</td>\n",
       "      <td>Sports</td>\n",
       "      <td>15.61</td>\n",
       "      <td>10.93</td>\n",
       "      <td>3.28</td>\n",
       "      <td>2.95</td>\n",
       "      <td>80.000000</td>\n",
       "      <td>8.000000</td>\n",
       "      <td>E</td>\n",
       "      <td>32.77</td>\n",
       "    </tr>\n",
       "    <tr>\n",
       "      <th>6</th>\n",
       "      <td>New Super Mario Bros.</td>\n",
       "      <td>DS</td>\n",
       "      <td>2006.0</td>\n",
       "      <td>Platform</td>\n",
       "      <td>11.28</td>\n",
       "      <td>9.14</td>\n",
       "      <td>6.50</td>\n",
       "      <td>2.88</td>\n",
       "      <td>89.000000</td>\n",
       "      <td>8.500000</td>\n",
       "      <td>E</td>\n",
       "      <td>29.80</td>\n",
       "    </tr>\n",
       "    <tr>\n",
       "      <th>7</th>\n",
       "      <td>Wii Play</td>\n",
       "      <td>Wii</td>\n",
       "      <td>2006.0</td>\n",
       "      <td>Misc</td>\n",
       "      <td>13.96</td>\n",
       "      <td>9.18</td>\n",
       "      <td>2.93</td>\n",
       "      <td>2.84</td>\n",
       "      <td>58.000000</td>\n",
       "      <td>6.600000</td>\n",
       "      <td>E</td>\n",
       "      <td>28.91</td>\n",
       "    </tr>\n",
       "    <tr>\n",
       "      <th>...</th>\n",
       "      <td>...</td>\n",
       "      <td>...</td>\n",
       "      <td>...</td>\n",
       "      <td>...</td>\n",
       "      <td>...</td>\n",
       "      <td>...</td>\n",
       "      <td>...</td>\n",
       "      <td>...</td>\n",
       "      <td>...</td>\n",
       "      <td>...</td>\n",
       "      <td>...</td>\n",
       "      <td>...</td>\n",
       "    </tr>\n",
       "    <tr>\n",
       "      <th>16709</th>\n",
       "      <td>SCORE International Baja 1000: The Official Game</td>\n",
       "      <td>PS2</td>\n",
       "      <td>2008.0</td>\n",
       "      <td>Racing</td>\n",
       "      <td>0.00</td>\n",
       "      <td>0.00</td>\n",
       "      <td>0.00</td>\n",
       "      <td>0.00</td>\n",
       "      <td>68.967679</td>\n",
       "      <td>7.125046</td>\n",
       "      <td>NaN</td>\n",
       "      <td>0.00</td>\n",
       "    </tr>\n",
       "    <tr>\n",
       "      <th>16710</th>\n",
       "      <td>Samurai Warriors: Sanada Maru</td>\n",
       "      <td>PS3</td>\n",
       "      <td>2016.0</td>\n",
       "      <td>Action</td>\n",
       "      <td>0.00</td>\n",
       "      <td>0.00</td>\n",
       "      <td>0.01</td>\n",
       "      <td>0.00</td>\n",
       "      <td>68.967679</td>\n",
       "      <td>7.125046</td>\n",
       "      <td>NaN</td>\n",
       "      <td>0.01</td>\n",
       "    </tr>\n",
       "    <tr>\n",
       "      <th>16711</th>\n",
       "      <td>LMA Manager 2007</td>\n",
       "      <td>X360</td>\n",
       "      <td>2006.0</td>\n",
       "      <td>Sports</td>\n",
       "      <td>0.00</td>\n",
       "      <td>0.01</td>\n",
       "      <td>0.00</td>\n",
       "      <td>0.00</td>\n",
       "      <td>68.967679</td>\n",
       "      <td>7.125046</td>\n",
       "      <td>NaN</td>\n",
       "      <td>0.01</td>\n",
       "    </tr>\n",
       "    <tr>\n",
       "      <th>16712</th>\n",
       "      <td>Haitaka no Psychedelica</td>\n",
       "      <td>PSV</td>\n",
       "      <td>2016.0</td>\n",
       "      <td>Adventure</td>\n",
       "      <td>0.00</td>\n",
       "      <td>0.00</td>\n",
       "      <td>0.01</td>\n",
       "      <td>0.00</td>\n",
       "      <td>68.967679</td>\n",
       "      <td>7.125046</td>\n",
       "      <td>NaN</td>\n",
       "      <td>0.01</td>\n",
       "    </tr>\n",
       "    <tr>\n",
       "      <th>16714</th>\n",
       "      <td>Winning Post 8 2016</td>\n",
       "      <td>PSV</td>\n",
       "      <td>2016.0</td>\n",
       "      <td>Simulation</td>\n",
       "      <td>0.00</td>\n",
       "      <td>0.00</td>\n",
       "      <td>0.01</td>\n",
       "      <td>0.00</td>\n",
       "      <td>68.967679</td>\n",
       "      <td>7.125046</td>\n",
       "      <td>NaN</td>\n",
       "      <td>0.01</td>\n",
       "    </tr>\n",
       "  </tbody>\n",
       "</table>\n",
       "<p>11272 rows × 12 columns</p>\n",
       "</div>"
      ],
      "text/plain": [
       "                                                   name platform  \\\n",
       "0                                            Wii Sports      Wii   \n",
       "2                                        Mario Kart Wii      Wii   \n",
       "3                                     Wii Sports Resort      Wii   \n",
       "6                                 New Super Mario Bros.       DS   \n",
       "7                                              Wii Play      Wii   \n",
       "...                                                 ...      ...   \n",
       "16709  SCORE International Baja 1000: The Official Game      PS2   \n",
       "16710                     Samurai Warriors: Sanada Maru      PS3   \n",
       "16711                                  LMA Manager 2007     X360   \n",
       "16712                           Haitaka no Psychedelica      PSV   \n",
       "16714                               Winning Post 8 2016      PSV   \n",
       "\n",
       "       year_of_release       genre  na_sales  eu_sales  jp_sales  other_sales  \\\n",
       "0               2006.0      Sports     41.36     28.96      3.77         8.45   \n",
       "2               2008.0      Racing     15.68     12.76      3.79         3.29   \n",
       "3               2009.0      Sports     15.61     10.93      3.28         2.95   \n",
       "6               2006.0    Platform     11.28      9.14      6.50         2.88   \n",
       "7               2006.0        Misc     13.96      9.18      2.93         2.84   \n",
       "...                ...         ...       ...       ...       ...          ...   \n",
       "16709           2008.0      Racing      0.00      0.00      0.00         0.00   \n",
       "16710           2016.0      Action      0.00      0.00      0.01         0.00   \n",
       "16711           2006.0      Sports      0.00      0.01      0.00         0.00   \n",
       "16712           2016.0   Adventure      0.00      0.00      0.01         0.00   \n",
       "16714           2016.0  Simulation      0.00      0.00      0.01         0.00   \n",
       "\n",
       "       critic_score  user_score rating  total_sales  \n",
       "0         76.000000    8.000000      E        82.54  \n",
       "2         82.000000    8.300000      E        35.52  \n",
       "3         80.000000    8.000000      E        32.77  \n",
       "6         89.000000    8.500000      E        29.80  \n",
       "7         58.000000    6.600000      E        28.91  \n",
       "...             ...         ...    ...          ...  \n",
       "16709     68.967679    7.125046    NaN         0.00  \n",
       "16710     68.967679    7.125046    NaN         0.01  \n",
       "16711     68.967679    7.125046    NaN         0.01  \n",
       "16712     68.967679    7.125046    NaN         0.01  \n",
       "16714     68.967679    7.125046    NaN         0.01  \n",
       "\n",
       "[11272 rows x 12 columns]"
      ]
     },
     "execution_count": 165,
     "metadata": {},
     "output_type": "execute_result"
    }
   ],
   "source": [
    "df_from2005"
   ]
  },
  {
   "cell_type": "code",
   "execution_count": null,
   "metadata": {},
   "outputs": [
    {
     "data": {
      "text/html": [
       "<div>\n",
       "<style scoped>\n",
       "    .dataframe tbody tr th:only-of-type {\n",
       "        vertical-align: middle;\n",
       "    }\n",
       "\n",
       "    .dataframe tbody tr th {\n",
       "        vertical-align: top;\n",
       "    }\n",
       "\n",
       "    .dataframe thead th {\n",
       "        text-align: right;\n",
       "    }\n",
       "</style>\n",
       "<table border=\"1\" class=\"dataframe\">\n",
       "  <thead>\n",
       "    <tr style=\"text-align: right;\">\n",
       "      <th></th>\n",
       "      <th>user_score</th>\n",
       "    </tr>\n",
       "  </thead>\n",
       "  <tbody>\n",
       "    <tr>\n",
       "      <th>99</th>\n",
       "      <td>7.125046</td>\n",
       "    </tr>\n",
       "    <tr>\n",
       "      <th>165</th>\n",
       "      <td>7.900000</td>\n",
       "    </tr>\n",
       "    <tr>\n",
       "      <th>179</th>\n",
       "      <td>5.400000</td>\n",
       "    </tr>\n",
       "    <tr>\n",
       "      <th>242</th>\n",
       "      <td>6.400000</td>\n",
       "    </tr>\n",
       "    <tr>\n",
       "      <th>270</th>\n",
       "      <td>6.200000</td>\n",
       "    </tr>\n",
       "    <tr>\n",
       "      <th>...</th>\n",
       "      <td>...</td>\n",
       "    </tr>\n",
       "    <tr>\n",
       "      <th>16630</th>\n",
       "      <td>8.200000</td>\n",
       "    </tr>\n",
       "    <tr>\n",
       "      <th>16643</th>\n",
       "      <td>6.600000</td>\n",
       "    </tr>\n",
       "    <tr>\n",
       "      <th>16645</th>\n",
       "      <td>7.125046</td>\n",
       "    </tr>\n",
       "    <tr>\n",
       "      <th>16660</th>\n",
       "      <td>6.700000</td>\n",
       "    </tr>\n",
       "    <tr>\n",
       "      <th>16672</th>\n",
       "      <td>7.125046</td>\n",
       "    </tr>\n",
       "  </tbody>\n",
       "</table>\n",
       "<p>247 rows × 1 columns</p>\n",
       "</div>"
      ],
      "text/plain": [
       "       user_score\n",
       "99       7.125046\n",
       "165      7.900000\n",
       "179      5.400000\n",
       "242      6.400000\n",
       "270      6.200000\n",
       "...           ...\n",
       "16630    8.200000\n",
       "16643    6.600000\n",
       "16645    7.125046\n",
       "16660    6.700000\n",
       "16672    7.125046\n",
       "\n",
       "[247 rows x 1 columns]"
      ]
     },
     "execution_count": 166,
     "metadata": {},
     "output_type": "execute_result"
    }
   ],
   "source": [
    "# Filter the DataFrame to include only games for the 'XOne' platform\n",
    "score_xone = df_from2005[df_from2005['platform'] == 'XOne'][['user_score']] \n",
    "\n",
    "# Drop rows with missing values in the 'user_score' column\n",
    "score_xone = score_xone.dropna(subset=['user_score']) \n",
    "\n",
    "# Display the resulting DataFrame containing user scores for XOne games \n",
    "score_xone"
   ]
  },
  {
   "cell_type": "code",
   "execution_count": null,
   "metadata": {},
   "outputs": [
    {
     "data": {
      "text/html": [
       "<div>\n",
       "<style scoped>\n",
       "    .dataframe tbody tr th:only-of-type {\n",
       "        vertical-align: middle;\n",
       "    }\n",
       "\n",
       "    .dataframe tbody tr th {\n",
       "        vertical-align: top;\n",
       "    }\n",
       "\n",
       "    .dataframe thead th {\n",
       "        text-align: right;\n",
       "    }\n",
       "</style>\n",
       "<table border=\"1\" class=\"dataframe\">\n",
       "  <thead>\n",
       "    <tr style=\"text-align: right;\">\n",
       "      <th></th>\n",
       "      <th>user_score</th>\n",
       "    </tr>\n",
       "  </thead>\n",
       "  <tbody>\n",
       "    <tr>\n",
       "      <th>85</th>\n",
       "      <td>7.600000</td>\n",
       "    </tr>\n",
       "    <tr>\n",
       "      <th>192</th>\n",
       "      <td>4.000000</td>\n",
       "    </tr>\n",
       "    <tr>\n",
       "      <th>218</th>\n",
       "      <td>8.200000</td>\n",
       "    </tr>\n",
       "    <tr>\n",
       "      <th>288</th>\n",
       "      <td>7.900000</td>\n",
       "    </tr>\n",
       "    <tr>\n",
       "      <th>313</th>\n",
       "      <td>8.100000</td>\n",
       "    </tr>\n",
       "    <tr>\n",
       "      <th>...</th>\n",
       "      <td>...</td>\n",
       "    </tr>\n",
       "    <tr>\n",
       "      <th>16690</th>\n",
       "      <td>7.125046</td>\n",
       "    </tr>\n",
       "    <tr>\n",
       "      <th>16692</th>\n",
       "      <td>7.600000</td>\n",
       "    </tr>\n",
       "    <tr>\n",
       "      <th>16696</th>\n",
       "      <td>5.800000</td>\n",
       "    </tr>\n",
       "    <tr>\n",
       "      <th>16702</th>\n",
       "      <td>7.200000</td>\n",
       "    </tr>\n",
       "    <tr>\n",
       "      <th>16705</th>\n",
       "      <td>5.800000</td>\n",
       "    </tr>\n",
       "  </tbody>\n",
       "</table>\n",
       "<p>813 rows × 1 columns</p>\n",
       "</div>"
      ],
      "text/plain": [
       "       user_score\n",
       "85       7.600000\n",
       "192      4.000000\n",
       "218      8.200000\n",
       "288      7.900000\n",
       "313      8.100000\n",
       "...           ...\n",
       "16690    7.125046\n",
       "16692    7.600000\n",
       "16696    5.800000\n",
       "16702    7.200000\n",
       "16705    5.800000\n",
       "\n",
       "[813 rows x 1 columns]"
      ]
     },
     "execution_count": 167,
     "metadata": {},
     "output_type": "execute_result"
    }
   ],
   "source": [
    "# Filter the DataFrame to include only games released on PC after 2005\n",
    "score_PC = df_from2005[df_from2005['platform'] == 'PC'][['user_score']] \n",
    "\n",
    "# Remove rows with missing values in the 'user_score' column\n",
    "score_PC = score_PC.dropna(subset=['user_score']) \n",
    "\n",
    "# Display the resulting DataFrame containing user scores for PC games\n",
    "score_PC"
   ]
  },
  {
   "cell_type": "code",
   "execution_count": null,
   "metadata": {},
   "outputs": [
    {
     "name": "stdout",
     "output_type": "stream",
     "text": [
      "p-value: [0.0081339]\n",
      "Reject the null hypothesis.\n"
     ]
    }
   ],
   "source": [
    "# Define the null and alternative hypotheses\n",
    "# H0: The average user score for Xbox One is equal to the average user score for PC.\n",
    "# H1: The average user score for Xbox One is not equal to the average user score for PC.\n",
    "\n",
    "# Set the significance level (alpha)\n",
    "alpha = 0.05 \n",
    "\n",
    "# Perform an independent two-sample t-test \n",
    "results = st.ttest_ind(score_xone, score_PC) \n",
    "\n",
    "# Print the p-value\n",
    "print('p-value:', results.pvalue)\n",
    "\n",
    "# Make a decision based on the p-value\n",
    "if results.pvalue < alpha:\n",
    "    print('Reject the null hypothesis.') \n",
    "else:\n",
    "    print('Fail to reject the null hypothesis.')"
   ]
  },
  {
   "cell_type": "code",
   "execution_count": null,
   "metadata": {},
   "outputs": [
    {
     "data": {
      "text/html": [
       "<div>\n",
       "<style scoped>\n",
       "    .dataframe tbody tr th:only-of-type {\n",
       "        vertical-align: middle;\n",
       "    }\n",
       "\n",
       "    .dataframe tbody tr th {\n",
       "        vertical-align: top;\n",
       "    }\n",
       "\n",
       "    .dataframe thead th {\n",
       "        text-align: right;\n",
       "    }\n",
       "</style>\n",
       "<table border=\"1\" class=\"dataframe\">\n",
       "  <thead>\n",
       "    <tr style=\"text-align: right;\">\n",
       "      <th></th>\n",
       "      <th>user_score</th>\n",
       "    </tr>\n",
       "  </thead>\n",
       "  <tbody>\n",
       "    <tr>\n",
       "      <th>16</th>\n",
       "      <td>8.200000</td>\n",
       "    </tr>\n",
       "    <tr>\n",
       "      <th>23</th>\n",
       "      <td>8.100000</td>\n",
       "    </tr>\n",
       "    <tr>\n",
       "      <th>42</th>\n",
       "      <td>8.300000</td>\n",
       "    </tr>\n",
       "    <tr>\n",
       "      <th>46</th>\n",
       "      <td>7.125046</td>\n",
       "    </tr>\n",
       "    <tr>\n",
       "      <th>51</th>\n",
       "      <td>7.900000</td>\n",
       "    </tr>\n",
       "    <tr>\n",
       "      <th>...</th>\n",
       "      <td>...</td>\n",
       "    </tr>\n",
       "    <tr>\n",
       "      <th>16680</th>\n",
       "      <td>7.125046</td>\n",
       "    </tr>\n",
       "    <tr>\n",
       "      <th>16691</th>\n",
       "      <td>7.125046</td>\n",
       "    </tr>\n",
       "    <tr>\n",
       "      <th>16692</th>\n",
       "      <td>7.600000</td>\n",
       "    </tr>\n",
       "    <tr>\n",
       "      <th>16699</th>\n",
       "      <td>7.125046</td>\n",
       "    </tr>\n",
       "    <tr>\n",
       "      <th>16710</th>\n",
       "      <td>7.125046</td>\n",
       "    </tr>\n",
       "  </tbody>\n",
       "</table>\n",
       "<p>2574 rows × 1 columns</p>\n",
       "</div>"
      ],
      "text/plain": [
       "       user_score\n",
       "16       8.200000\n",
       "23       8.100000\n",
       "42       8.300000\n",
       "46       7.125046\n",
       "51       7.900000\n",
       "...           ...\n",
       "16680    7.125046\n",
       "16691    7.125046\n",
       "16692    7.600000\n",
       "16699    7.125046\n",
       "16710    7.125046\n",
       "\n",
       "[2574 rows x 1 columns]"
      ]
     },
     "execution_count": 169,
     "metadata": {},
     "output_type": "execute_result"
    }
   ],
   "source": [
    "# Filter the DataFrame to include only games with the 'Action' genre\n",
    "score_action = df_from2005[df_from2005['genre'] == 'Action'][['user_score']] \n",
    "\n",
    "# Remove rows with missing values in the 'user_score' column\n",
    "score_action = score_accion.dropna(subset=['user_score']) \n",
    "\n",
    "# Display the resulting DataFrame \n",
    "score_action"
   ]
  },
  {
   "cell_type": "code",
   "execution_count": null,
   "metadata": {},
   "outputs": [
    {
     "data": {
      "text/html": [
       "<div>\n",
       "<style scoped>\n",
       "    .dataframe tbody tr th:only-of-type {\n",
       "        vertical-align: middle;\n",
       "    }\n",
       "\n",
       "    .dataframe tbody tr th {\n",
       "        vertical-align: top;\n",
       "    }\n",
       "\n",
       "    .dataframe thead th {\n",
       "        text-align: right;\n",
       "    }\n",
       "</style>\n",
       "<table border=\"1\" class=\"dataframe\">\n",
       "  <thead>\n",
       "    <tr style=\"text-align: right;\">\n",
       "      <th></th>\n",
       "      <th>user_score</th>\n",
       "    </tr>\n",
       "  </thead>\n",
       "  <tbody>\n",
       "    <tr>\n",
       "      <th>0</th>\n",
       "      <td>8.000000</td>\n",
       "    </tr>\n",
       "    <tr>\n",
       "      <th>3</th>\n",
       "      <td>8.000000</td>\n",
       "    </tr>\n",
       "    <tr>\n",
       "      <th>13</th>\n",
       "      <td>7.700000</td>\n",
       "    </tr>\n",
       "    <tr>\n",
       "      <th>15</th>\n",
       "      <td>7.400000</td>\n",
       "    </tr>\n",
       "    <tr>\n",
       "      <th>77</th>\n",
       "      <td>4.300000</td>\n",
       "    </tr>\n",
       "    <tr>\n",
       "      <th>...</th>\n",
       "      <td>...</td>\n",
       "    </tr>\n",
       "    <tr>\n",
       "      <th>16656</th>\n",
       "      <td>7.125046</td>\n",
       "    </tr>\n",
       "    <tr>\n",
       "      <th>16676</th>\n",
       "      <td>7.125046</td>\n",
       "    </tr>\n",
       "    <tr>\n",
       "      <th>16688</th>\n",
       "      <td>7.125046</td>\n",
       "    </tr>\n",
       "    <tr>\n",
       "      <th>16700</th>\n",
       "      <td>7.125046</td>\n",
       "    </tr>\n",
       "    <tr>\n",
       "      <th>16711</th>\n",
       "      <td>7.125046</td>\n",
       "    </tr>\n",
       "  </tbody>\n",
       "</table>\n",
       "<p>1383 rows × 1 columns</p>\n",
       "</div>"
      ],
      "text/plain": [
       "       user_score\n",
       "0        8.000000\n",
       "3        8.000000\n",
       "13       7.700000\n",
       "15       7.400000\n",
       "77       4.300000\n",
       "...           ...\n",
       "16656    7.125046\n",
       "16676    7.125046\n",
       "16688    7.125046\n",
       "16700    7.125046\n",
       "16711    7.125046\n",
       "\n",
       "[1383 rows x 1 columns]"
      ]
     },
     "execution_count": 170,
     "metadata": {},
     "output_type": "execute_result"
    }
   ],
   "source": [
    "# Filter the DataFrame to include only games with the 'Sports' genre\n",
    "score_sports = df_from2005[df_from2005['genre'] == 'Sports'][['user_score']] \n",
    "\n",
    "# Remove rows with missing values in the 'user_score' column\n",
    "score_sports = score_sports.dropna(subset = ['user_score']) \n",
    "\n",
    "# Display the resulting DataFrame \n",
    "score_sports"
   ]
  },
  {
   "cell_type": "code",
   "execution_count": null,
   "metadata": {},
   "outputs": [
    {
     "name": "stdout",
     "output_type": "stream",
     "text": [
      "p-value: 0.0005540850206234054\n",
      "Reject the null hypothesis. The variances of user scores for Action and Sports genres are significantly different.\n"
     ]
    }
   ],
   "source": [
    "# H0: The variance of user scores for Action and Sports genres is equal.\n",
    "# H1: The variance of user scores for Action and Sports genres is not equal.\n",
    "\n",
    "alpha = 0.05  # Significance level\n",
    "result = levene(score_action['user_score'], score_sports['user_score'])  # Levene's test for equality of variances\n",
    "\n",
    "print('p-value:', result.pvalue)\n",
    "\n",
    "if result.pvalue < alpha:\n",
    "    print('Reject the null hypothesis. The variances of user scores for Action and Sports genres are significantly different.')\n",
    "else:\n",
    "    print('Fail to reject the null hypothesis. There is not enough evidence to conclude that the variances of user scores for Action and Sports genres are different.')"
   ]
  },
  {
   "cell_type": "code",
   "execution_count": null,
   "metadata": {},
   "outputs": [
    {
     "name": "stdout",
     "output_type": "stream",
     "text": [
      "p-value: [2.56208842e-08]\n",
      "Reject the null hypothesis. The average user scores for Action and Sports genres are significantly different.\n"
     ]
    }
   ],
   "source": [
    "# Hypothesis testing: Are the average user scores for Action and Sports genres different?\n",
    "\n",
    "# Null hypothesis (H0): The mean user score for the Action genre is equal to the mean user score for the Sports genre.\n",
    "# Alternative hypothesis (H1): The mean user score for the Action genre is not equal to the mean user score for the Sports genre.\n",
    "\n",
    "alpha = 0.05  # Significance level\n",
    "\n",
    "# Perform an independent two-sample t-test, assuming unequal variances\n",
    "results = st.ttest_ind(score_accion, score_sports, equal_var=False)\n",
    "\n",
    "# Print the p-value\n",
    "print('p-value:', results.pvalue)\n",
    "\n",
    "# Compare the p-value to the significance level\n",
    "if results.pvalue < alpha:\n",
    "    print('Reject the null hypothesis. The average user scores for Action and Sports genres are significantly different.')\n",
    "else:\n",
    "    print('Fail to reject the null hypothesis. There is not enough evidence to conclude that the average user scores for Action and Sports genres are different.')"
   ]
  },
  {
   "cell_type": "markdown",
   "metadata": {},
   "source": [
    "The null hypothesis is always an equality, in both cases the null hypothesis is the equality between the averages of the user_score of both datasets, in this case we create two df with the specified conditions and then compare them using the st.ttest_ind function that is It is used to test the hypothesis that the means of two statistical populations are equal according to the samples taken, taking into account the test of equal variances previously carried out."
   ]
  },
  {
   "cell_type": "markdown",
   "metadata": {},
   "source": [
    "# Conclusion"
   ]
  },
  {
   "cell_type": "markdown",
   "metadata": {},
   "source": [
    "It was analyzed that the game platforms that generate the most sales are Wii and X360, taking relevant data since 2005; The distributions of the 6 most popular video game platforms were analyzed through box plots, histograms and bar charts. It is determined that the most sold genre is the sports genre. Video game sales are affected by the game's rating and by critical and user reviews.\n",
    "We reject the hypothesis that the averages of user reviews are the same for action and sports genres and for Xbox One and PC platforms, through the scipy.stats.ttest_ind function."
   ]
  },
  {
   "cell_type": "markdown",
   "metadata": {},
   "source": []
  }
 ],
 "metadata": {
  "ExecuteTimeLog": [
   {
    "duration": 4945,
    "start_time": "2024-06-24T18:22:42.592Z"
   },
   {
    "duration": 1324,
    "start_time": "2024-06-24T18:23:20.855Z"
   },
   {
    "duration": 122,
    "start_time": "2024-06-24T18:23:33.485Z"
   },
   {
    "duration": 129,
    "start_time": "2024-06-24T18:23:39.891Z"
   },
   {
    "duration": 122,
    "start_time": "2024-06-24T18:23:44.121Z"
   },
   {
    "duration": 59,
    "start_time": "2024-06-24T18:24:21.747Z"
   },
   {
    "duration": 25,
    "start_time": "2024-06-24T18:24:24.996Z"
   },
   {
    "duration": 21,
    "start_time": "2024-06-24T18:24:48.237Z"
   },
   {
    "duration": 27,
    "start_time": "2024-06-24T18:25:10.223Z"
   },
   {
    "duration": 21,
    "start_time": "2024-06-24T18:27:03.247Z"
   },
   {
    "duration": 21,
    "start_time": "2024-06-24T18:28:37.197Z"
   },
   {
    "duration": 20,
    "start_time": "2024-06-24T18:28:40.018Z"
   },
   {
    "duration": 4,
    "start_time": "2024-06-24T18:28:43.783Z"
   },
   {
    "duration": 38,
    "start_time": "2024-06-24T18:28:44.939Z"
   },
   {
    "duration": 24,
    "start_time": "2024-06-24T18:29:28.135Z"
   },
   {
    "duration": 24,
    "start_time": "2024-06-24T18:30:13.395Z"
   },
   {
    "duration": 23,
    "start_time": "2024-06-24T18:32:39.406Z"
   },
   {
    "duration": 29,
    "start_time": "2024-06-24T18:32:51.586Z"
   },
   {
    "duration": 20,
    "start_time": "2024-06-24T18:32:54.769Z"
   },
   {
    "duration": 26,
    "start_time": "2024-06-24T18:33:27.765Z"
   },
   {
    "duration": 29,
    "start_time": "2024-06-24T18:34:35.956Z"
   },
   {
    "duration": 4,
    "start_time": "2024-06-24T18:34:48.479Z"
   },
   {
    "duration": 23,
    "start_time": "2024-06-24T18:35:08.929Z"
   },
   {
    "duration": 5,
    "start_time": "2024-06-24T18:35:59.517Z"
   },
   {
    "duration": 46,
    "start_time": "2024-06-24T18:37:45.068Z"
   },
   {
    "duration": 24,
    "start_time": "2024-06-24T18:37:56.482Z"
   },
   {
    "duration": 30,
    "start_time": "2024-06-24T18:38:02.462Z"
   },
   {
    "duration": 1275,
    "start_time": "2024-06-24T18:40:05.516Z"
   },
   {
    "duration": 226,
    "start_time": "2024-06-24T18:40:44.932Z"
   },
   {
    "duration": 53,
    "start_time": "2024-06-24T18:41:03.105Z"
   },
   {
    "duration": 9,
    "start_time": "2024-06-24T18:45:02.555Z"
   },
   {
    "duration": 23,
    "start_time": "2024-06-24T18:45:34.411Z"
   },
   {
    "duration": 10,
    "start_time": "2024-06-24T18:45:39.134Z"
   },
   {
    "duration": 7,
    "start_time": "2024-06-24T18:45:50.442Z"
   },
   {
    "duration": 7,
    "start_time": "2024-06-24T18:47:07.265Z"
   },
   {
    "duration": 28,
    "start_time": "2024-06-24T18:47:47.279Z"
   },
   {
    "duration": 24,
    "start_time": "2024-06-24T18:47:58.597Z"
   },
   {
    "duration": 9,
    "start_time": "2024-06-24T18:49:28.776Z"
   },
   {
    "duration": 15,
    "start_time": "2024-06-24T18:50:58.356Z"
   },
   {
    "duration": 10,
    "start_time": "2024-06-24T18:51:09.436Z"
   },
   {
    "duration": 9,
    "start_time": "2024-06-24T18:51:49.028Z"
   },
   {
    "duration": 35,
    "start_time": "2024-06-24T18:53:51.451Z"
   },
   {
    "duration": 362,
    "start_time": "2024-06-24T18:54:09.801Z"
   },
   {
    "duration": 31,
    "start_time": "2024-06-24T18:54:35.608Z"
   },
   {
    "duration": 667,
    "start_time": "2024-06-24T18:55:14.337Z"
   },
   {
    "duration": 22,
    "start_time": "2024-06-24T18:55:21.545Z"
   },
   {
    "duration": 5,
    "start_time": "2024-06-24T19:25:07.473Z"
   },
   {
    "duration": 20,
    "start_time": "2024-06-24T19:25:27.010Z"
   },
   {
    "duration": 6,
    "start_time": "2024-06-24T19:26:08.430Z"
   },
   {
    "duration": 20,
    "start_time": "2024-06-24T19:26:10.753Z"
   },
   {
    "duration": 8,
    "start_time": "2024-06-24T19:29:00.376Z"
   },
   {
    "duration": 20,
    "start_time": "2024-06-24T19:29:02.538Z"
   },
   {
    "duration": 134,
    "start_time": "2024-06-24T19:34:52.183Z"
   },
   {
    "duration": 10,
    "start_time": "2024-06-24T19:36:05.137Z"
   },
   {
    "duration": 504,
    "start_time": "2024-06-24T19:37:21.683Z"
   },
   {
    "duration": 5,
    "start_time": "2024-06-24T19:42:06.262Z"
   },
   {
    "duration": 147,
    "start_time": "2024-06-24T19:42:27.337Z"
   },
   {
    "duration": 70,
    "start_time": "2024-06-24T19:42:30.490Z"
   },
   {
    "duration": 5,
    "start_time": "2024-06-24T19:42:36.087Z"
   },
   {
    "duration": 43,
    "start_time": "2024-06-24T19:42:36.096Z"
   },
   {
    "duration": 19,
    "start_time": "2024-06-24T19:42:36.141Z"
   },
   {
    "duration": 47,
    "start_time": "2024-06-24T19:42:36.162Z"
   },
   {
    "duration": 6,
    "start_time": "2024-06-24T19:42:36.213Z"
   },
   {
    "duration": 28,
    "start_time": "2024-06-24T19:42:36.222Z"
   },
   {
    "duration": 51,
    "start_time": "2024-06-24T19:42:36.253Z"
   },
   {
    "duration": 10,
    "start_time": "2024-06-24T19:42:36.309Z"
   },
   {
    "duration": 22,
    "start_time": "2024-06-24T19:42:36.322Z"
   },
   {
    "duration": 6,
    "start_time": "2024-06-24T19:42:36.347Z"
   },
   {
    "duration": 60,
    "start_time": "2024-06-24T19:42:36.356Z"
   },
   {
    "duration": 8,
    "start_time": "2024-06-24T19:42:36.419Z"
   },
   {
    "duration": 47,
    "start_time": "2024-06-24T19:42:40.993Z"
   },
   {
    "duration": 39,
    "start_time": "2024-06-24T19:43:14.065Z"
   },
   {
    "duration": 5,
    "start_time": "2024-06-24T19:43:24.143Z"
   },
   {
    "duration": 56,
    "start_time": "2024-06-24T19:43:24.154Z"
   },
   {
    "duration": 25,
    "start_time": "2024-06-24T19:43:24.217Z"
   },
   {
    "duration": 28,
    "start_time": "2024-06-24T19:43:24.248Z"
   },
   {
    "duration": 7,
    "start_time": "2024-06-24T19:43:24.303Z"
   },
   {
    "duration": 33,
    "start_time": "2024-06-24T19:43:24.315Z"
   },
   {
    "duration": 12,
    "start_time": "2024-06-24T19:43:24.352Z"
   },
   {
    "duration": 21,
    "start_time": "2024-06-24T19:43:24.407Z"
   },
   {
    "duration": 30,
    "start_time": "2024-06-24T19:43:24.431Z"
   },
   {
    "duration": 7,
    "start_time": "2024-06-24T19:43:24.467Z"
   },
   {
    "duration": 29,
    "start_time": "2024-06-24T19:43:24.501Z"
   },
   {
    "duration": 25,
    "start_time": "2024-06-24T19:43:24.533Z"
   },
   {
    "duration": 5,
    "start_time": "2024-06-24T19:43:28.996Z"
   },
   {
    "duration": 468,
    "start_time": "2024-06-24T19:43:32.603Z"
   },
   {
    "duration": 3,
    "start_time": "2024-06-24T19:44:13.469Z"
   },
   {
    "duration": 37,
    "start_time": "2024-06-24T19:44:13.477Z"
   },
   {
    "duration": 17,
    "start_time": "2024-06-24T19:44:13.517Z"
   },
   {
    "duration": 19,
    "start_time": "2024-06-24T19:44:13.537Z"
   },
   {
    "duration": 5,
    "start_time": "2024-06-24T19:44:13.561Z"
   },
   {
    "duration": 28,
    "start_time": "2024-06-24T19:44:18.749Z"
   },
   {
    "duration": 4,
    "start_time": "2024-06-24T19:44:35.186Z"
   },
   {
    "duration": 38,
    "start_time": "2024-06-24T19:44:35.195Z"
   },
   {
    "duration": 19,
    "start_time": "2024-06-24T19:44:35.236Z"
   },
   {
    "duration": 18,
    "start_time": "2024-06-24T19:44:35.258Z"
   },
   {
    "duration": 5,
    "start_time": "2024-06-24T19:44:35.305Z"
   },
   {
    "duration": 28,
    "start_time": "2024-06-24T19:44:35.313Z"
   },
   {
    "duration": 10,
    "start_time": "2024-06-24T19:44:35.344Z"
   },
   {
    "duration": 50,
    "start_time": "2024-06-24T19:44:35.357Z"
   },
   {
    "duration": 22,
    "start_time": "2024-06-24T19:44:35.409Z"
   },
   {
    "duration": 6,
    "start_time": "2024-06-24T19:44:35.434Z"
   },
   {
    "duration": 58,
    "start_time": "2024-06-24T19:44:35.443Z"
   },
   {
    "duration": 4,
    "start_time": "2024-06-24T19:44:50.699Z"
   },
   {
    "duration": 37,
    "start_time": "2024-06-24T19:44:50.710Z"
   },
   {
    "duration": 17,
    "start_time": "2024-06-24T19:44:50.751Z"
   },
   {
    "duration": 45,
    "start_time": "2024-06-24T19:44:50.771Z"
   },
   {
    "duration": 5,
    "start_time": "2024-06-24T19:44:50.821Z"
   },
   {
    "duration": 29,
    "start_time": "2024-06-24T19:44:53.701Z"
   },
   {
    "duration": 5,
    "start_time": "2024-06-24T19:47:49.441Z"
   },
   {
    "duration": 38,
    "start_time": "2024-06-24T19:47:49.450Z"
   },
   {
    "duration": 18,
    "start_time": "2024-06-24T19:47:49.491Z"
   },
   {
    "duration": 18,
    "start_time": "2024-06-24T19:47:49.512Z"
   },
   {
    "duration": 5,
    "start_time": "2024-06-24T19:47:49.536Z"
   },
   {
    "duration": 56,
    "start_time": "2024-06-24T19:47:49.545Z"
   },
   {
    "duration": 9,
    "start_time": "2024-06-24T19:47:49.604Z"
   },
   {
    "duration": 9,
    "start_time": "2024-06-24T19:47:49.617Z"
   },
   {
    "duration": 22,
    "start_time": "2024-06-24T19:47:49.629Z"
   },
   {
    "duration": 49,
    "start_time": "2024-06-24T19:47:49.654Z"
   },
   {
    "duration": 21,
    "start_time": "2024-06-24T19:47:49.706Z"
   },
   {
    "duration": 19,
    "start_time": "2024-06-24T19:47:49.730Z"
   },
   {
    "duration": 521,
    "start_time": "2024-06-24T19:47:49.755Z"
   },
   {
    "duration": 38,
    "start_time": "2024-06-24T19:56:25.415Z"
   },
   {
    "duration": 40,
    "start_time": "2024-06-24T19:56:43.344Z"
   },
   {
    "duration": 4,
    "start_time": "2024-06-24T19:57:02.449Z"
   },
   {
    "duration": 36,
    "start_time": "2024-06-24T19:57:02.457Z"
   },
   {
    "duration": 18,
    "start_time": "2024-06-24T19:57:02.496Z"
   },
   {
    "duration": 18,
    "start_time": "2024-06-24T19:57:02.518Z"
   },
   {
    "duration": 5,
    "start_time": "2024-06-24T19:57:02.540Z"
   },
   {
    "duration": 28,
    "start_time": "2024-06-24T19:57:05.282Z"
   },
   {
    "duration": 37,
    "start_time": "2024-06-24T19:57:51.590Z"
   },
   {
    "duration": 6,
    "start_time": "2024-06-24T19:57:59.861Z"
   },
   {
    "duration": 4,
    "start_time": "2024-06-24T19:58:08.845Z"
   },
   {
    "duration": 38,
    "start_time": "2024-06-24T19:58:08.853Z"
   },
   {
    "duration": 20,
    "start_time": "2024-06-24T19:58:08.894Z"
   },
   {
    "duration": 18,
    "start_time": "2024-06-24T19:58:08.918Z"
   },
   {
    "duration": 6,
    "start_time": "2024-06-24T19:58:08.939Z"
   },
   {
    "duration": 60,
    "start_time": "2024-06-24T19:58:08.948Z"
   },
   {
    "duration": 6,
    "start_time": "2024-06-24T19:58:09.011Z"
   },
   {
    "duration": 9,
    "start_time": "2024-06-24T19:58:09.020Z"
   },
   {
    "duration": 9,
    "start_time": "2024-06-24T19:58:09.031Z"
   },
   {
    "duration": 66,
    "start_time": "2024-06-24T19:58:09.045Z"
   },
   {
    "duration": 7,
    "start_time": "2024-06-24T19:58:09.114Z"
   },
   {
    "duration": 19,
    "start_time": "2024-06-24T19:58:09.124Z"
   },
   {
    "duration": 18,
    "start_time": "2024-06-24T19:58:09.147Z"
   },
   {
    "duration": 422,
    "start_time": "2024-06-24T19:58:15.297Z"
   },
   {
    "duration": 431,
    "start_time": "2024-06-24T19:58:50.321Z"
   },
   {
    "duration": 434,
    "start_time": "2024-06-24T19:59:33.369Z"
   },
   {
    "duration": 367,
    "start_time": "2024-06-24T20:12:05.007Z"
   },
   {
    "duration": 523,
    "start_time": "2024-06-24T20:13:20.565Z"
   },
   {
    "duration": 365,
    "start_time": "2024-06-24T20:13:32.402Z"
   },
   {
    "duration": 5075,
    "start_time": "2024-06-24T22:14:34.329Z"
   },
   {
    "duration": 5,
    "start_time": "2024-06-24T22:14:46.187Z"
   },
   {
    "duration": 51,
    "start_time": "2024-06-24T22:14:46.200Z"
   },
   {
    "duration": 19,
    "start_time": "2024-06-24T22:14:46.255Z"
   },
   {
    "duration": 24,
    "start_time": "2024-06-24T22:14:46.277Z"
   },
   {
    "duration": 6,
    "start_time": "2024-06-24T22:14:46.326Z"
   },
   {
    "duration": 28,
    "start_time": "2024-06-24T22:14:46.335Z"
   },
   {
    "duration": 5,
    "start_time": "2024-06-24T22:14:46.366Z"
   },
   {
    "duration": 50,
    "start_time": "2024-06-24T22:14:46.375Z"
   },
   {
    "duration": 9,
    "start_time": "2024-06-24T22:14:46.428Z"
   },
   {
    "duration": 22,
    "start_time": "2024-06-24T22:14:46.440Z"
   },
   {
    "duration": 6,
    "start_time": "2024-06-24T22:14:46.468Z"
   },
   {
    "duration": 24,
    "start_time": "2024-06-24T22:14:46.523Z"
   },
   {
    "duration": 19,
    "start_time": "2024-06-24T22:14:46.550Z"
   },
   {
    "duration": 513,
    "start_time": "2024-06-24T22:14:46.573Z"
   },
   {
    "duration": 383,
    "start_time": "2024-06-24T22:14:50.230Z"
   },
   {
    "duration": 198,
    "start_time": "2024-06-24T22:18:18.268Z"
   },
   {
    "duration": 5,
    "start_time": "2024-06-24T22:18:26.939Z"
   },
   {
    "duration": 401,
    "start_time": "2024-06-24T22:19:33.991Z"
   },
   {
    "duration": 6,
    "start_time": "2024-06-24T22:19:40.030Z"
   },
   {
    "duration": 11,
    "start_time": "2024-06-24T22:19:42.927Z"
   },
   {
    "duration": 299,
    "start_time": "2024-06-24T22:20:23.291Z"
   },
   {
    "duration": 395,
    "start_time": "2024-06-24T22:20:59.169Z"
   },
   {
    "duration": 6,
    "start_time": "2024-06-24T22:21:03.221Z"
   },
   {
    "duration": 12,
    "start_time": "2024-06-24T22:21:10.978Z"
   },
   {
    "duration": 393,
    "start_time": "2024-06-24T22:21:21.204Z"
   },
   {
    "duration": 14,
    "start_time": "2024-06-24T22:21:23.597Z"
   },
   {
    "duration": 10,
    "start_time": "2024-06-24T22:24:35.510Z"
   },
   {
    "duration": 23,
    "start_time": "2024-06-24T22:24:52.156Z"
   },
   {
    "duration": 174,
    "start_time": "2024-06-24T22:34:32.991Z"
   },
   {
    "duration": 19,
    "start_time": "2024-06-24T22:35:17.466Z"
   },
   {
    "duration": 36,
    "start_time": "2024-06-24T22:35:29.735Z"
   },
   {
    "duration": 28,
    "start_time": "2024-06-24T22:36:05.784Z"
   },
   {
    "duration": 19,
    "start_time": "2024-06-24T22:36:32.801Z"
   },
   {
    "duration": 30,
    "start_time": "2024-06-24T22:36:50.406Z"
   },
   {
    "duration": 31,
    "start_time": "2024-06-24T22:37:14.271Z"
   },
   {
    "duration": 30,
    "start_time": "2024-06-24T22:37:30.059Z"
   },
   {
    "duration": 20,
    "start_time": "2024-06-24T22:37:55.853Z"
   },
   {
    "duration": 28,
    "start_time": "2024-06-24T22:38:21.442Z"
   },
   {
    "duration": 27,
    "start_time": "2024-06-24T22:43:47.176Z"
   },
   {
    "duration": 5,
    "start_time": "2024-06-24T22:48:18.259Z"
   },
   {
    "duration": 48,
    "start_time": "2024-06-24T22:48:18.268Z"
   },
   {
    "duration": 18,
    "start_time": "2024-06-24T22:48:18.319Z"
   },
   {
    "duration": 20,
    "start_time": "2024-06-24T22:48:18.341Z"
   },
   {
    "duration": 7,
    "start_time": "2024-06-24T22:48:18.364Z"
   },
   {
    "duration": 64,
    "start_time": "2024-06-24T22:48:18.375Z"
   },
   {
    "duration": 6,
    "start_time": "2024-06-24T22:48:18.442Z"
   },
   {
    "duration": 10,
    "start_time": "2024-06-24T22:48:18.453Z"
   },
   {
    "duration": 11,
    "start_time": "2024-06-24T22:48:18.468Z"
   },
   {
    "duration": 60,
    "start_time": "2024-06-24T22:48:18.484Z"
   },
   {
    "duration": 6,
    "start_time": "2024-06-24T22:48:18.548Z"
   },
   {
    "duration": 21,
    "start_time": "2024-06-24T22:48:18.557Z"
   },
   {
    "duration": 51,
    "start_time": "2024-06-24T22:48:18.581Z"
   },
   {
    "duration": 473,
    "start_time": "2024-06-24T22:48:18.636Z"
   },
   {
    "duration": 412,
    "start_time": "2024-06-24T22:48:19.123Z"
   },
   {
    "duration": 24,
    "start_time": "2024-06-24T22:48:23.338Z"
   },
   {
    "duration": 126,
    "start_time": "2024-06-24T22:50:14.296Z"
   },
   {
    "duration": 27,
    "start_time": "2024-06-24T22:51:14.366Z"
   },
   {
    "duration": 24,
    "start_time": "2024-06-24T22:51:40.734Z"
   },
   {
    "duration": 36,
    "start_time": "2024-06-24T22:53:18.849Z"
   },
   {
    "duration": 7,
    "start_time": "2024-06-24T22:53:30.505Z"
   },
   {
    "duration": 713,
    "start_time": "2024-06-24T23:04:04.860Z"
   },
   {
    "duration": 123,
    "start_time": "2024-06-24T23:04:41.508Z"
   },
   {
    "duration": 42,
    "start_time": "2024-06-24T23:07:08.219Z"
   },
   {
    "duration": 29,
    "start_time": "2024-06-24T23:22:27.721Z"
   },
   {
    "duration": 27,
    "start_time": "2024-06-24T23:22:55.004Z"
   },
   {
    "duration": 21,
    "start_time": "2024-06-24T23:23:44.413Z"
   },
   {
    "duration": 17,
    "start_time": "2024-06-24T23:23:58.891Z"
   },
   {
    "duration": 25,
    "start_time": "2024-06-24T23:24:08.826Z"
   },
   {
    "duration": 8,
    "start_time": "2024-06-24T23:24:54.750Z"
   },
   {
    "duration": 4993,
    "start_time": "2024-06-24T23:26:13.594Z"
   },
   {
    "duration": 23,
    "start_time": "2024-06-24T23:43:31.390Z"
   },
   {
    "duration": 36,
    "start_time": "2024-06-24T23:43:52.923Z"
   },
   {
    "duration": 21,
    "start_time": "2024-06-24T23:44:05.519Z"
   },
   {
    "duration": 482,
    "start_time": "2024-06-24T23:46:46.491Z"
   },
   {
    "duration": 86,
    "start_time": "2024-06-24T23:53:57.184Z"
   },
   {
    "duration": 24,
    "start_time": "2024-06-24T23:54:39.203Z"
   },
   {
    "duration": 85,
    "start_time": "2024-06-25T00:03:15.830Z"
   },
   {
    "duration": 25,
    "start_time": "2024-06-25T00:03:32.012Z"
   },
   {
    "duration": 234,
    "start_time": "2024-06-25T00:03:49.422Z"
   },
   {
    "duration": 275,
    "start_time": "2024-06-25T00:10:06.204Z"
   },
   {
    "duration": 259,
    "start_time": "2024-06-25T12:36:39.573Z"
   },
   {
    "duration": 274,
    "start_time": "2024-06-25T12:36:47.930Z"
   },
   {
    "duration": 1064,
    "start_time": "2024-06-25T12:38:47.355Z"
   },
   {
    "duration": 23,
    "start_time": "2024-06-25T12:41:08.993Z"
   },
   {
    "duration": 28,
    "start_time": "2024-06-25T12:41:25.791Z"
   },
   {
    "duration": 27,
    "start_time": "2024-06-25T12:42:09.369Z"
   },
   {
    "duration": 36,
    "start_time": "2024-06-25T12:42:12.874Z"
   },
   {
    "duration": 405,
    "start_time": "2024-06-25T12:43:25.271Z"
   },
   {
    "duration": 19,
    "start_time": "2024-06-25T12:44:11.472Z"
   },
   {
    "duration": 4,
    "start_time": "2024-06-25T12:44:25.937Z"
   },
   {
    "duration": 38,
    "start_time": "2024-06-25T12:44:25.949Z"
   },
   {
    "duration": 43,
    "start_time": "2024-06-25T12:44:25.991Z"
   },
   {
    "duration": 18,
    "start_time": "2024-06-25T12:44:26.037Z"
   },
   {
    "duration": 6,
    "start_time": "2024-06-25T12:44:26.058Z"
   },
   {
    "duration": 26,
    "start_time": "2024-06-25T12:44:26.069Z"
   },
   {
    "duration": 5,
    "start_time": "2024-06-25T12:44:26.132Z"
   },
   {
    "duration": 9,
    "start_time": "2024-06-25T12:44:26.140Z"
   },
   {
    "duration": 8,
    "start_time": "2024-06-25T12:44:26.153Z"
   },
   {
    "duration": 22,
    "start_time": "2024-06-25T12:44:26.164Z"
   },
   {
    "duration": 6,
    "start_time": "2024-06-25T12:44:26.234Z"
   },
   {
    "duration": 24,
    "start_time": "2024-06-25T12:44:26.243Z"
   },
   {
    "duration": 21,
    "start_time": "2024-06-25T12:44:26.271Z"
   },
   {
    "duration": 480,
    "start_time": "2024-06-25T12:44:26.296Z"
   },
   {
    "duration": 22,
    "start_time": "2024-06-25T12:44:26.782Z"
   },
   {
    "duration": 29,
    "start_time": "2024-06-25T12:44:26.807Z"
   },
   {
    "duration": 23,
    "start_time": "2024-06-25T12:44:26.840Z"
   },
   {
    "duration": 23,
    "start_time": "2024-06-25T12:44:32.359Z"
   },
   {
    "duration": 86,
    "start_time": "2024-06-25T12:44:37.707Z"
   },
   {
    "duration": 4,
    "start_time": "2024-06-25T12:49:52.025Z"
   },
   {
    "duration": 38,
    "start_time": "2024-06-25T12:49:52.038Z"
   },
   {
    "duration": 18,
    "start_time": "2024-06-25T12:49:52.079Z"
   },
   {
    "duration": 44,
    "start_time": "2024-06-25T12:49:52.101Z"
   },
   {
    "duration": 6,
    "start_time": "2024-06-25T12:49:52.148Z"
   },
   {
    "duration": 27,
    "start_time": "2024-06-25T12:49:52.159Z"
   },
   {
    "duration": 7,
    "start_time": "2024-06-25T12:49:52.189Z"
   },
   {
    "duration": 11,
    "start_time": "2024-06-25T12:49:52.235Z"
   },
   {
    "duration": 10,
    "start_time": "2024-06-25T12:49:52.249Z"
   },
   {
    "duration": 22,
    "start_time": "2024-06-25T12:49:52.262Z"
   },
   {
    "duration": 48,
    "start_time": "2024-06-25T12:49:52.287Z"
   },
   {
    "duration": 22,
    "start_time": "2024-06-25T12:49:52.339Z"
   },
   {
    "duration": 17,
    "start_time": "2024-06-25T12:49:52.364Z"
   },
   {
    "duration": 486,
    "start_time": "2024-06-25T12:49:52.384Z"
   },
   {
    "duration": 20,
    "start_time": "2024-06-25T12:49:52.875Z"
   },
   {
    "duration": 36,
    "start_time": "2024-06-25T12:49:52.897Z"
   },
   {
    "duration": 22,
    "start_time": "2024-06-25T12:49:52.936Z"
   },
   {
    "duration": 4220,
    "start_time": "2024-06-25T12:50:05.755Z"
   },
   {
    "duration": 275,
    "start_time": "2024-06-25T12:51:57.992Z"
   },
   {
    "duration": 587,
    "start_time": "2024-06-25T12:52:27.954Z"
   },
   {
    "duration": 706,
    "start_time": "2024-06-25T12:54:40.489Z"
   },
   {
    "duration": 330,
    "start_time": "2024-06-25T12:54:59.027Z"
   },
   {
    "duration": 1048,
    "start_time": "2024-06-25T12:56:49.389Z"
   },
   {
    "duration": 10,
    "start_time": "2024-06-25T12:57:59.876Z"
   },
   {
    "duration": 1694,
    "start_time": "2024-06-25T12:58:08.883Z"
   },
   {
    "duration": 1585,
    "start_time": "2024-06-25T12:58:40.380Z"
   },
   {
    "duration": 2096,
    "start_time": "2024-06-25T12:59:00.773Z"
   },
   {
    "duration": 9,
    "start_time": "2024-06-25T12:59:59.456Z"
   },
   {
    "duration": 258,
    "start_time": "2024-06-25T13:00:39.618Z"
   },
   {
    "duration": 314,
    "start_time": "2024-06-25T13:01:33.647Z"
   },
   {
    "duration": 396,
    "start_time": "2024-06-25T13:02:08.039Z"
   },
   {
    "duration": 13,
    "start_time": "2024-06-25T13:03:07.058Z"
   },
   {
    "duration": 9,
    "start_time": "2024-06-25T13:03:10.871Z"
   },
   {
    "duration": 16,
    "start_time": "2024-06-25T13:03:18.142Z"
   },
   {
    "duration": 9,
    "start_time": "2024-06-25T13:03:31.841Z"
   },
   {
    "duration": 6,
    "start_time": "2024-06-25T13:03:44.573Z"
   },
   {
    "duration": 577,
    "start_time": "2024-06-25T13:03:52.220Z"
   },
   {
    "duration": 16,
    "start_time": "2024-06-25T13:04:38.707Z"
   },
   {
    "duration": 6,
    "start_time": "2024-06-25T13:04:40.981Z"
   },
   {
    "duration": 22,
    "start_time": "2024-06-25T13:04:42.899Z"
   },
   {
    "duration": 6,
    "start_time": "2024-06-25T13:04:46.185Z"
   },
   {
    "duration": 514,
    "start_time": "2024-06-25T13:04:48.779Z"
   },
   {
    "duration": 475,
    "start_time": "2024-06-25T13:16:56.095Z"
   },
   {
    "duration": 564,
    "start_time": "2024-06-25T13:17:23.823Z"
   },
   {
    "duration": 435,
    "start_time": "2024-06-25T13:17:32.588Z"
   },
   {
    "duration": 540,
    "start_time": "2024-06-25T13:17:59.609Z"
   },
   {
    "duration": 471,
    "start_time": "2024-06-25T13:18:18.664Z"
   },
   {
    "duration": 17,
    "start_time": "2024-06-25T13:26:00.685Z"
   },
   {
    "duration": 56,
    "start_time": "2024-06-25T13:26:08.613Z"
   },
   {
    "duration": 997,
    "start_time": "2024-06-25T13:26:38.669Z"
   },
   {
    "duration": 82,
    "start_time": "2024-06-25T13:28:07.141Z"
   },
   {
    "duration": 186,
    "start_time": "2024-06-25T13:29:54.721Z"
   },
   {
    "duration": 21,
    "start_time": "2024-06-25T13:31:24.601Z"
   },
   {
    "duration": 197,
    "start_time": "2024-06-25T13:31:50.681Z"
   },
   {
    "duration": 58,
    "start_time": "2024-06-25T13:32:04.475Z"
   },
   {
    "duration": 309,
    "start_time": "2024-06-25T13:32:16.239Z"
   },
   {
    "duration": 49,
    "start_time": "2024-06-25T13:32:41.092Z"
   },
   {
    "duration": 442,
    "start_time": "2024-06-25T13:34:07.609Z"
   },
   {
    "duration": 564,
    "start_time": "2024-06-25T13:36:53.256Z"
   },
   {
    "duration": 352,
    "start_time": "2024-06-25T13:37:27.772Z"
   },
   {
    "duration": 341,
    "start_time": "2024-06-25T13:40:17.462Z"
   },
   {
    "duration": 350,
    "start_time": "2024-06-25T13:41:14.214Z"
   },
   {
    "duration": 371,
    "start_time": "2024-06-25T13:41:30.526Z"
   },
   {
    "duration": 1204,
    "start_time": "2024-06-25T13:42:06.917Z"
   },
   {
    "duration": 490,
    "start_time": "2024-06-25T13:42:15.907Z"
   },
   {
    "duration": 240,
    "start_time": "2024-06-25T13:49:43.571Z"
   },
   {
    "duration": 85,
    "start_time": "2024-06-25T13:49:56.159Z"
   },
   {
    "duration": 323,
    "start_time": "2024-06-25T13:52:31.923Z"
   },
   {
    "duration": 425,
    "start_time": "2024-06-25T13:54:40.646Z"
   },
   {
    "duration": 621,
    "start_time": "2024-06-25T13:54:51.548Z"
   },
   {
    "duration": 393,
    "start_time": "2024-06-25T13:56:49.111Z"
   },
   {
    "duration": 297,
    "start_time": "2024-06-25T14:01:06.942Z"
   },
   {
    "duration": 399,
    "start_time": "2024-06-25T14:01:14.810Z"
   },
   {
    "duration": 418,
    "start_time": "2024-06-25T14:01:23.214Z"
   },
   {
    "duration": 385,
    "start_time": "2024-06-25T14:01:29.200Z"
   },
   {
    "duration": 387,
    "start_time": "2024-06-25T14:01:40.490Z"
   },
   {
    "duration": 386,
    "start_time": "2024-06-25T16:53:01.682Z"
   },
   {
    "duration": 6747,
    "start_time": "2024-06-25T16:53:08.226Z"
   },
   {
    "duration": 68,
    "start_time": "2024-06-25T16:53:14.978Z"
   },
   {
    "duration": 28,
    "start_time": "2024-06-25T16:53:15.053Z"
   },
   {
    "duration": 34,
    "start_time": "2024-06-25T16:53:15.087Z"
   },
   {
    "duration": 7,
    "start_time": "2024-06-25T16:53:15.127Z"
   },
   {
    "duration": 68,
    "start_time": "2024-06-25T16:53:15.138Z"
   },
   {
    "duration": 13,
    "start_time": "2024-06-25T16:53:15.209Z"
   },
   {
    "duration": 20,
    "start_time": "2024-06-25T16:53:15.226Z"
   },
   {
    "duration": 11,
    "start_time": "2024-06-25T16:53:15.249Z"
   },
   {
    "duration": 62,
    "start_time": "2024-06-25T16:53:15.264Z"
   },
   {
    "duration": 10,
    "start_time": "2024-06-25T16:53:15.330Z"
   },
   {
    "duration": 29,
    "start_time": "2024-06-25T16:53:15.345Z"
   },
   {
    "duration": 22,
    "start_time": "2024-06-25T16:53:15.402Z"
   },
   {
    "duration": 549,
    "start_time": "2024-06-25T16:53:15.431Z"
   },
   {
    "duration": 36,
    "start_time": "2024-06-25T16:53:15.983Z"
   },
   {
    "duration": 12,
    "start_time": "2024-06-25T16:53:16.022Z"
   },
   {
    "duration": 31,
    "start_time": "2024-06-25T16:53:16.037Z"
   },
   {
    "duration": 526,
    "start_time": "2024-06-25T16:53:16.072Z"
   },
   {
    "duration": 579,
    "start_time": "2024-06-25T16:53:16.607Z"
   },
   {
    "duration": 408,
    "start_time": "2024-06-25T16:53:21.723Z"
   },
   {
    "duration": 4834,
    "start_time": "2024-06-25T20:36:05.669Z"
   },
   {
    "duration": 68,
    "start_time": "2024-06-25T20:36:10.507Z"
   },
   {
    "duration": 85,
    "start_time": "2024-06-25T20:36:10.578Z"
   },
   {
    "duration": 39,
    "start_time": "2024-06-25T20:36:10.667Z"
   },
   {
    "duration": 5,
    "start_time": "2024-06-25T20:36:10.711Z"
   },
   {
    "duration": 28,
    "start_time": "2024-06-25T20:36:10.719Z"
   },
   {
    "duration": 6,
    "start_time": "2024-06-25T20:36:10.750Z"
   },
   {
    "duration": 11,
    "start_time": "2024-06-25T20:36:10.792Z"
   },
   {
    "duration": 9,
    "start_time": "2024-06-25T20:36:10.806Z"
   },
   {
    "duration": 22,
    "start_time": "2024-06-25T20:36:10.818Z"
   },
   {
    "duration": 50,
    "start_time": "2024-06-25T20:36:10.844Z"
   },
   {
    "duration": 23,
    "start_time": "2024-06-25T20:36:10.897Z"
   },
   {
    "duration": 16,
    "start_time": "2024-06-25T20:36:10.923Z"
   },
   {
    "duration": 503,
    "start_time": "2024-06-25T20:36:10.947Z"
   },
   {
    "duration": 17,
    "start_time": "2024-06-25T20:36:11.454Z"
   },
   {
    "duration": 7,
    "start_time": "2024-06-25T20:36:11.489Z"
   },
   {
    "duration": 24,
    "start_time": "2024-06-25T20:36:11.499Z"
   },
   {
    "duration": 392,
    "start_time": "2024-06-25T20:36:11.525Z"
   },
   {
    "duration": 399,
    "start_time": "2024-06-25T20:36:11.921Z"
   },
   {
    "duration": 5705,
    "start_time": "2024-06-25T22:32:05.988Z"
   },
   {
    "duration": 70,
    "start_time": "2024-06-25T22:32:11.699Z"
   },
   {
    "duration": 28,
    "start_time": "2024-06-25T22:32:11.774Z"
   },
   {
    "duration": 41,
    "start_time": "2024-06-25T22:32:11.808Z"
   },
   {
    "duration": 6,
    "start_time": "2024-06-25T22:32:11.852Z"
   },
   {
    "duration": 28,
    "start_time": "2024-06-25T22:32:11.863Z"
   },
   {
    "duration": 37,
    "start_time": "2024-06-25T22:32:11.894Z"
   },
   {
    "duration": 12,
    "start_time": "2024-06-25T22:32:11.933Z"
   },
   {
    "duration": 9,
    "start_time": "2024-06-25T22:32:11.949Z"
   },
   {
    "duration": 22,
    "start_time": "2024-06-25T22:32:11.964Z"
   },
   {
    "duration": 7,
    "start_time": "2024-06-25T22:32:12.032Z"
   },
   {
    "duration": 24,
    "start_time": "2024-06-25T22:32:12.045Z"
   },
   {
    "duration": 17,
    "start_time": "2024-06-25T22:32:12.073Z"
   },
   {
    "duration": 559,
    "start_time": "2024-06-25T22:32:12.093Z"
   },
   {
    "duration": 22,
    "start_time": "2024-06-25T22:32:12.658Z"
   },
   {
    "duration": 8,
    "start_time": "2024-06-25T22:32:12.684Z"
   },
   {
    "duration": 61,
    "start_time": "2024-06-25T22:32:12.696Z"
   },
   {
    "duration": 410,
    "start_time": "2024-06-25T22:32:12.760Z"
   },
   {
    "duration": 433,
    "start_time": "2024-06-25T22:32:13.178Z"
   },
   {
    "duration": 21,
    "start_time": "2024-06-25T22:32:13.615Z"
   },
   {
    "duration": 411,
    "start_time": "2024-06-25T22:32:18.307Z"
   },
   {
    "duration": 1419,
    "start_time": "2024-06-25T22:36:21.128Z"
   },
   {
    "duration": 85,
    "start_time": "2024-06-25T22:36:32.492Z"
   },
   {
    "duration": 19,
    "start_time": "2024-06-25T22:36:53.086Z"
   },
   {
    "duration": 467,
    "start_time": "2024-06-25T22:38:37.131Z"
   },
   {
    "duration": 109,
    "start_time": "2024-06-25T22:41:07.830Z"
   },
   {
    "duration": 8,
    "start_time": "2024-06-25T22:57:17.520Z"
   },
   {
    "duration": 29,
    "start_time": "2024-06-25T22:57:30.461Z"
   },
   {
    "duration": 6,
    "start_time": "2024-06-25T22:57:58.983Z"
   },
   {
    "duration": 4,
    "start_time": "2024-06-25T23:00:45.591Z"
   },
   {
    "duration": 7,
    "start_time": "2024-06-25T23:01:06.626Z"
   },
   {
    "duration": 10,
    "start_time": "2024-06-25T23:02:59.399Z"
   },
   {
    "duration": 8,
    "start_time": "2024-06-25T23:03:20.874Z"
   },
   {
    "duration": 4,
    "start_time": "2024-06-25T23:03:43.566Z"
   },
   {
    "duration": 38,
    "start_time": "2024-06-25T23:03:43.685Z"
   },
   {
    "duration": 19,
    "start_time": "2024-06-25T23:03:43.727Z"
   },
   {
    "duration": 19,
    "start_time": "2024-06-25T23:03:43.750Z"
   },
   {
    "duration": 7,
    "start_time": "2024-06-25T23:03:43.773Z"
   },
   {
    "duration": 65,
    "start_time": "2024-06-25T23:03:43.785Z"
   },
   {
    "duration": 6,
    "start_time": "2024-06-25T23:03:43.853Z"
   },
   {
    "duration": 10,
    "start_time": "2024-06-25T23:03:43.862Z"
   },
   {
    "duration": 9,
    "start_time": "2024-06-25T23:03:43.876Z"
   },
   {
    "duration": 67,
    "start_time": "2024-06-25T23:03:43.887Z"
   },
   {
    "duration": 6,
    "start_time": "2024-06-25T23:03:43.957Z"
   },
   {
    "duration": 23,
    "start_time": "2024-06-25T23:03:43.966Z"
   },
   {
    "duration": 53,
    "start_time": "2024-06-25T23:03:43.992Z"
   },
   {
    "duration": 490,
    "start_time": "2024-06-25T23:03:44.049Z"
   },
   {
    "duration": 19,
    "start_time": "2024-06-25T23:03:44.545Z"
   },
   {
    "duration": 11,
    "start_time": "2024-06-25T23:03:44.567Z"
   },
   {
    "duration": 17,
    "start_time": "2024-06-25T23:03:46.965Z"
   },
   {
    "duration": 9,
    "start_time": "2024-06-25T23:03:49.779Z"
   },
   {
    "duration": 11,
    "start_time": "2024-06-25T23:10:30.578Z"
   },
   {
    "duration": 21,
    "start_time": "2024-06-25T23:10:40.744Z"
   },
   {
    "duration": 27,
    "start_time": "2024-06-25T23:11:45.064Z"
   },
   {
    "duration": 28,
    "start_time": "2024-06-25T23:11:58.521Z"
   },
   {
    "duration": 5,
    "start_time": "2024-06-25T23:12:09.110Z"
   },
   {
    "duration": 51,
    "start_time": "2024-06-25T23:12:09.125Z"
   },
   {
    "duration": 28,
    "start_time": "2024-06-25T23:12:09.180Z"
   },
   {
    "duration": 36,
    "start_time": "2024-06-25T23:12:09.212Z"
   },
   {
    "duration": 6,
    "start_time": "2024-06-25T23:12:09.252Z"
   },
   {
    "duration": 67,
    "start_time": "2024-06-25T23:12:09.264Z"
   },
   {
    "duration": 5,
    "start_time": "2024-06-25T23:12:09.335Z"
   },
   {
    "duration": 10,
    "start_time": "2024-06-25T23:12:09.345Z"
   },
   {
    "duration": 10,
    "start_time": "2024-06-25T23:12:09.358Z"
   },
   {
    "duration": 72,
    "start_time": "2024-06-25T23:12:09.372Z"
   },
   {
    "duration": 6,
    "start_time": "2024-06-25T23:12:09.451Z"
   },
   {
    "duration": 24,
    "start_time": "2024-06-25T23:12:09.461Z"
   },
   {
    "duration": 52,
    "start_time": "2024-06-25T23:12:09.489Z"
   },
   {
    "duration": 490,
    "start_time": "2024-06-25T23:12:09.545Z"
   },
   {
    "duration": 21,
    "start_time": "2024-06-25T23:12:10.041Z"
   },
   {
    "duration": 9,
    "start_time": "2024-06-25T23:12:10.065Z"
   },
   {
    "duration": 52,
    "start_time": "2024-06-25T23:12:10.078Z"
   },
   {
    "duration": 437,
    "start_time": "2024-06-25T23:12:10.134Z"
   },
   {
    "duration": 420,
    "start_time": "2024-06-25T23:12:10.575Z"
   },
   {
    "duration": 541,
    "start_time": "2024-06-25T23:12:10.999Z"
   },
   {
    "duration": 366,
    "start_time": "2024-06-25T23:54:29.695Z"
   },
   {
    "duration": 265,
    "start_time": "2024-06-26T00:00:53.180Z"
   },
   {
    "duration": 282,
    "start_time": "2024-06-26T00:01:03.204Z"
   },
   {
    "duration": 332,
    "start_time": "2024-06-26T00:04:51.052Z"
   },
   {
    "duration": 348,
    "start_time": "2024-06-26T00:06:08.129Z"
   },
   {
    "duration": 7,
    "start_time": "2024-06-26T00:07:42.809Z"
   },
   {
    "duration": 26,
    "start_time": "2024-06-26T00:08:57.322Z"
   },
   {
    "duration": 5315,
    "start_time": "2024-06-26T13:43:37.221Z"
   },
   {
    "duration": 62,
    "start_time": "2024-06-26T13:43:42.539Z"
   },
   {
    "duration": 20,
    "start_time": "2024-06-26T13:43:42.605Z"
   },
   {
    "duration": 24,
    "start_time": "2024-06-26T13:43:42.630Z"
   },
   {
    "duration": 36,
    "start_time": "2024-06-26T13:43:42.656Z"
   },
   {
    "duration": 33,
    "start_time": "2024-06-26T13:43:42.696Z"
   },
   {
    "duration": 6,
    "start_time": "2024-06-26T13:43:42.733Z"
   },
   {
    "duration": 52,
    "start_time": "2024-06-26T13:43:42.744Z"
   },
   {
    "duration": 11,
    "start_time": "2024-06-26T13:43:42.800Z"
   },
   {
    "duration": 27,
    "start_time": "2024-06-26T13:43:42.817Z"
   },
   {
    "duration": 45,
    "start_time": "2024-06-26T13:43:42.847Z"
   },
   {
    "duration": 25,
    "start_time": "2024-06-26T13:43:42.896Z"
   },
   {
    "duration": 18,
    "start_time": "2024-06-26T13:43:42.925Z"
   },
   {
    "duration": 540,
    "start_time": "2024-06-26T13:43:42.946Z"
   },
   {
    "duration": 23,
    "start_time": "2024-06-26T13:43:43.491Z"
   },
   {
    "duration": 9,
    "start_time": "2024-06-26T13:43:43.518Z"
   },
   {
    "duration": 61,
    "start_time": "2024-06-26T13:43:43.530Z"
   },
   {
    "duration": 434,
    "start_time": "2024-06-26T13:43:43.594Z"
   },
   {
    "duration": 429,
    "start_time": "2024-06-26T13:43:44.031Z"
   },
   {
    "duration": 513,
    "start_time": "2024-06-26T13:43:44.463Z"
   },
   {
    "duration": 38,
    "start_time": "2024-06-26T13:43:44.979Z"
   },
   {
    "duration": 312,
    "start_time": "2024-06-26T13:43:45.022Z"
   },
   {
    "duration": 386,
    "start_time": "2024-06-26T13:43:45.338Z"
   },
   {
    "duration": 890,
    "start_time": "2024-06-26T13:47:02.841Z"
   },
   {
    "duration": 17,
    "start_time": "2024-06-26T13:47:20.703Z"
   },
   {
    "duration": 13,
    "start_time": "2024-06-26T13:48:09.076Z"
   },
   {
    "duration": 10,
    "start_time": "2024-06-26T13:48:31.406Z"
   },
   {
    "duration": 83,
    "start_time": "2024-06-26T13:48:36.139Z"
   },
   {
    "duration": 13,
    "start_time": "2024-06-26T13:49:23.430Z"
   },
   {
    "duration": 86,
    "start_time": "2024-06-26T13:49:34.552Z"
   },
   {
    "duration": 81,
    "start_time": "2024-06-26T13:49:49.494Z"
   },
   {
    "duration": 232,
    "start_time": "2024-06-26T13:51:54.942Z"
   },
   {
    "duration": 216,
    "start_time": "2024-06-26T13:54:21.958Z"
   },
   {
    "duration": 259,
    "start_time": "2024-06-26T13:58:02.348Z"
   },
   {
    "duration": 20,
    "start_time": "2024-06-26T14:08:42.047Z"
   },
   {
    "duration": 37,
    "start_time": "2024-06-26T14:10:32.997Z"
   },
   {
    "duration": 35,
    "start_time": "2024-06-26T14:11:00.484Z"
   },
   {
    "duration": 35,
    "start_time": "2024-06-26T14:11:16.488Z"
   },
   {
    "duration": 35,
    "start_time": "2024-06-26T14:11:27.645Z"
   },
   {
    "duration": 25,
    "start_time": "2024-06-26T14:18:15.713Z"
   },
   {
    "duration": 34,
    "start_time": "2024-06-26T14:18:21.492Z"
   },
   {
    "duration": 186,
    "start_time": "2024-06-26T14:18:24.484Z"
   },
   {
    "duration": 183,
    "start_time": "2024-06-26T14:18:51.061Z"
   },
   {
    "duration": 188,
    "start_time": "2024-06-26T14:23:13.658Z"
   },
   {
    "duration": 273,
    "start_time": "2024-06-26T14:23:37.232Z"
   },
   {
    "duration": 1195,
    "start_time": "2024-06-26T14:24:52.778Z"
   },
   {
    "duration": 274,
    "start_time": "2024-06-26T14:25:07.964Z"
   },
   {
    "duration": 267,
    "start_time": "2024-06-26T14:25:19.172Z"
   },
   {
    "duration": 273,
    "start_time": "2024-06-26T14:25:42.504Z"
   },
   {
    "duration": 406,
    "start_time": "2024-06-26T14:28:26.163Z"
   },
   {
    "duration": 480,
    "start_time": "2024-06-26T14:31:31.928Z"
   },
   {
    "duration": 347,
    "start_time": "2024-06-26T14:32:48.947Z"
   },
   {
    "duration": 393,
    "start_time": "2024-06-26T14:32:56.836Z"
   },
   {
    "duration": 350,
    "start_time": "2024-06-26T14:33:02.818Z"
   },
   {
    "duration": 364,
    "start_time": "2024-06-26T14:33:07.530Z"
   },
   {
    "duration": 356,
    "start_time": "2024-06-26T14:33:12.317Z"
   },
   {
    "duration": 355,
    "start_time": "2024-06-26T14:33:18.226Z"
   },
   {
    "duration": 348,
    "start_time": "2024-06-26T14:33:28.123Z"
   },
   {
    "duration": 9,
    "start_time": "2024-06-26T14:36:38.290Z"
   },
   {
    "duration": 5,
    "start_time": "2024-06-26T14:36:48.998Z"
   },
   {
    "duration": 48,
    "start_time": "2024-06-26T14:37:14.281Z"
   },
   {
    "duration": 8,
    "start_time": "2024-06-26T14:42:19.324Z"
   },
   {
    "duration": 254,
    "start_time": "2024-06-26T14:42:32.901Z"
   },
   {
    "duration": 6,
    "start_time": "2024-06-26T14:45:00.784Z"
   },
   {
    "duration": 5,
    "start_time": "2024-06-26T14:45:35.284Z"
   },
   {
    "duration": 993,
    "start_time": "2024-06-26T14:45:55.180Z"
   },
   {
    "duration": 37,
    "start_time": "2024-06-26T14:46:10.434Z"
   },
   {
    "duration": 30,
    "start_time": "2024-06-26T14:47:59.403Z"
   },
   {
    "duration": 19,
    "start_time": "2024-06-26T14:48:41.380Z"
   },
   {
    "duration": 23,
    "start_time": "2024-06-26T14:50:28.133Z"
   },
   {
    "duration": 18,
    "start_time": "2024-06-26T14:50:52.060Z"
   },
   {
    "duration": 6,
    "start_time": "2024-06-26T14:51:20.351Z"
   },
   {
    "duration": 52,
    "start_time": "2024-06-26T14:53:13.346Z"
   },
   {
    "duration": 54,
    "start_time": "2024-06-26T14:55:04.477Z"
   },
   {
    "duration": 48,
    "start_time": "2024-06-26T14:55:08.261Z"
   },
   {
    "duration": 51,
    "start_time": "2024-06-26T14:55:44.533Z"
   },
   {
    "duration": 55,
    "start_time": "2024-06-26T14:56:57.088Z"
   },
   {
    "duration": 56,
    "start_time": "2024-06-26T14:56:59.624Z"
   },
   {
    "duration": 6079,
    "start_time": "2024-06-26T15:01:14.547Z"
   },
   {
    "duration": 378,
    "start_time": "2024-06-26T15:03:00.285Z"
   },
   {
    "duration": 383,
    "start_time": "2024-06-26T15:03:49.761Z"
   },
   {
    "duration": 84,
    "start_time": "2024-06-26T16:19:09.118Z"
   },
   {
    "duration": 29,
    "start_time": "2024-06-26T16:19:22.485Z"
   },
   {
    "duration": 32,
    "start_time": "2024-06-26T16:24:49.421Z"
   },
   {
    "duration": 22248,
    "start_time": "2024-06-26T16:25:29.337Z"
   },
   {
    "duration": 23708,
    "start_time": "2024-06-26T16:30:54.728Z"
   },
   {
    "duration": 511,
    "start_time": "2024-06-26T16:36:06.394Z"
   },
   {
    "duration": 318,
    "start_time": "2024-06-26T16:36:27.676Z"
   },
   {
    "duration": 9,
    "start_time": "2024-06-26T16:37:17.140Z"
   },
   {
    "duration": 23840,
    "start_time": "2024-06-26T16:37:31.110Z"
   },
   {
    "duration": 23948,
    "start_time": "2024-06-26T16:38:20.135Z"
   },
   {
    "duration": 24674,
    "start_time": "2024-06-26T16:47:13.217Z"
   },
   {
    "duration": 24331,
    "start_time": "2024-06-26T16:48:01.207Z"
   },
   {
    "duration": 25039,
    "start_time": "2024-06-26T16:50:22.328Z"
   },
   {
    "duration": 24822,
    "start_time": "2024-06-26T16:51:22.389Z"
   },
   {
    "duration": 21,
    "start_time": "2024-06-26T17:00:13.752Z"
   },
   {
    "duration": 23,
    "start_time": "2024-06-26T17:00:21.617Z"
   },
   {
    "duration": 28,
    "start_time": "2024-06-26T17:03:13.054Z"
   },
   {
    "duration": 18,
    "start_time": "2024-06-26T17:03:31.384Z"
   },
   {
    "duration": 15,
    "start_time": "2024-06-26T17:03:47.606Z"
   },
   {
    "duration": 26,
    "start_time": "2024-06-26T17:05:33.630Z"
   },
   {
    "duration": 24,
    "start_time": "2024-06-26T17:05:53.908Z"
   },
   {
    "duration": 26,
    "start_time": "2024-06-26T17:06:23.403Z"
   },
   {
    "duration": 94,
    "start_time": "2024-06-26T17:12:12.604Z"
   },
   {
    "duration": 261,
    "start_time": "2024-06-26T17:13:03.537Z"
   },
   {
    "duration": 269,
    "start_time": "2024-06-26T17:14:07.655Z"
   },
   {
    "duration": 276,
    "start_time": "2024-06-26T17:22:24.976Z"
   },
   {
    "duration": 25,
    "start_time": "2024-06-26T17:27:11.135Z"
   },
   {
    "duration": 251,
    "start_time": "2024-06-26T17:28:45.275Z"
   },
   {
    "duration": 249,
    "start_time": "2024-06-26T17:29:29.002Z"
   },
   {
    "duration": 254,
    "start_time": "2024-06-26T17:29:51.498Z"
   },
   {
    "duration": 267,
    "start_time": "2024-06-26T17:30:00.846Z"
   },
   {
    "duration": 410,
    "start_time": "2024-06-26T17:30:36.080Z"
   },
   {
    "duration": 382,
    "start_time": "2024-06-26T17:32:45.753Z"
   },
   {
    "duration": 409,
    "start_time": "2024-06-26T17:32:55.687Z"
   },
   {
    "duration": 399,
    "start_time": "2024-06-26T17:33:18.781Z"
   },
   {
    "duration": 354,
    "start_time": "2024-06-26T17:33:28.119Z"
   },
   {
    "duration": 24,
    "start_time": "2024-06-26T17:40:10.373Z"
   },
   {
    "duration": 23,
    "start_time": "2024-06-26T17:41:09.030Z"
   },
   {
    "duration": 23,
    "start_time": "2024-06-26T17:41:19.599Z"
   },
   {
    "duration": 261,
    "start_time": "2024-06-26T17:42:24.691Z"
   },
   {
    "duration": 274,
    "start_time": "2024-06-26T17:46:35.365Z"
   },
   {
    "duration": 3334,
    "start_time": "2024-06-26T17:48:00.701Z"
   },
   {
    "duration": 290,
    "start_time": "2024-06-26T17:48:23.323Z"
   },
   {
    "duration": 194,
    "start_time": "2024-06-26T17:48:41.366Z"
   },
   {
    "duration": 245,
    "start_time": "2024-06-26T17:49:27.630Z"
   },
   {
    "duration": 41,
    "start_time": "2024-06-26T18:15:41.362Z"
   },
   {
    "duration": 17,
    "start_time": "2024-06-26T18:17:35.216Z"
   },
   {
    "duration": 16,
    "start_time": "2024-06-26T18:18:11.905Z"
   },
   {
    "duration": 5,
    "start_time": "2024-06-26T18:18:55.500Z"
   },
   {
    "duration": 30,
    "start_time": "2024-06-26T18:18:58.905Z"
   },
   {
    "duration": 13,
    "start_time": "2024-06-26T18:19:52.599Z"
   },
   {
    "duration": 8,
    "start_time": "2024-06-26T18:20:17.820Z"
   },
   {
    "duration": 11,
    "start_time": "2024-06-26T18:20:30.587Z"
   },
   {
    "duration": 11,
    "start_time": "2024-06-26T18:21:02.872Z"
   },
   {
    "duration": 7,
    "start_time": "2024-06-26T18:23:48.802Z"
   },
   {
    "duration": 18,
    "start_time": "2024-06-26T18:26:10.470Z"
   },
   {
    "duration": 15,
    "start_time": "2024-06-26T18:26:29.562Z"
   },
   {
    "duration": 6,
    "start_time": "2024-06-26T18:26:40.522Z"
   },
   {
    "duration": 317,
    "start_time": "2024-06-26T19:43:21.360Z"
   },
   {
    "duration": 5481,
    "start_time": "2024-06-26T19:43:31.987Z"
   },
   {
    "duration": 69,
    "start_time": "2024-06-26T19:43:37.472Z"
   },
   {
    "duration": 21,
    "start_time": "2024-06-26T19:43:37.544Z"
   },
   {
    "duration": 27,
    "start_time": "2024-06-26T19:43:37.568Z"
   },
   {
    "duration": 7,
    "start_time": "2024-06-26T19:43:37.599Z"
   },
   {
    "duration": 32,
    "start_time": "2024-06-26T19:43:37.609Z"
   },
   {
    "duration": 5,
    "start_time": "2024-06-26T19:43:37.644Z"
   },
   {
    "duration": 49,
    "start_time": "2024-06-26T19:43:37.653Z"
   },
   {
    "duration": 11,
    "start_time": "2024-06-26T19:43:37.705Z"
   },
   {
    "duration": 27,
    "start_time": "2024-06-26T19:43:37.719Z"
   },
   {
    "duration": 42,
    "start_time": "2024-06-26T19:43:37.750Z"
   },
   {
    "duration": 37,
    "start_time": "2024-06-26T19:43:37.797Z"
   },
   {
    "duration": 21,
    "start_time": "2024-06-26T19:43:37.837Z"
   },
   {
    "duration": 476,
    "start_time": "2024-06-26T19:43:37.865Z"
   },
   {
    "duration": 25,
    "start_time": "2024-06-26T19:43:38.344Z"
   },
   {
    "duration": 8,
    "start_time": "2024-06-26T19:43:38.392Z"
   },
   {
    "duration": 25,
    "start_time": "2024-06-26T19:43:38.415Z"
   },
   {
    "duration": 402,
    "start_time": "2024-06-26T19:43:38.443Z"
   },
   {
    "duration": 450,
    "start_time": "2024-06-26T19:43:38.848Z"
   },
   {
    "duration": 398,
    "start_time": "2024-06-26T19:43:39.311Z"
   },
   {
    "duration": 30,
    "start_time": "2024-06-26T19:43:39.712Z"
   },
   {
    "duration": 383,
    "start_time": "2024-06-26T19:43:39.746Z"
   },
   {
    "duration": 373,
    "start_time": "2024-06-26T19:43:40.133Z"
   },
   {
    "duration": 229,
    "start_time": "2024-06-26T19:43:40.508Z"
   },
   {
    "duration": 75,
    "start_time": "2024-06-26T19:43:40.741Z"
   },
   {
    "duration": 332,
    "start_time": "2024-06-26T19:43:40.820Z"
   },
   {
    "duration": 8,
    "start_time": "2024-06-26T19:43:41.155Z"
   },
   {
    "duration": 52,
    "start_time": "2024-06-26T19:43:41.166Z"
   },
   {
    "duration": 407,
    "start_time": "2024-06-26T19:43:41.220Z"
   },
   {
    "duration": 34,
    "start_time": "2024-06-26T19:43:41.630Z"
   },
   {
    "duration": 22259,
    "start_time": "2024-06-26T19:43:41.668Z"
   },
   {
    "duration": 25,
    "start_time": "2024-06-26T19:44:03.930Z"
   },
   {
    "duration": 274,
    "start_time": "2024-06-26T19:44:03.958Z"
   },
   {
    "duration": 24,
    "start_time": "2024-06-26T19:44:04.235Z"
   },
   {
    "duration": 323,
    "start_time": "2024-06-26T19:44:04.263Z"
   },
   {
    "duration": 25,
    "start_time": "2024-06-26T19:44:04.590Z"
   },
   {
    "duration": 290,
    "start_time": "2024-06-26T19:44:04.617Z"
   },
   {
    "duration": 36,
    "start_time": "2024-06-26T19:44:04.913Z"
   },
   {
    "duration": 16,
    "start_time": "2024-06-26T19:44:04.952Z"
   },
   {
    "duration": 138,
    "start_time": "2024-06-26T19:44:05.002Z"
   },
   {
    "duration": 29,
    "start_time": "2024-06-26T19:44:17.405Z"
   },
   {
    "duration": 27,
    "start_time": "2024-06-26T19:44:23.930Z"
   },
   {
    "duration": 10,
    "start_time": "2024-06-26T19:44:51.407Z"
   },
   {
    "duration": 9,
    "start_time": "2024-06-26T19:45:01.524Z"
   },
   {
    "duration": 11,
    "start_time": "2024-06-26T19:47:39.515Z"
   },
   {
    "duration": 28,
    "start_time": "2024-06-26T19:47:43.976Z"
   },
   {
    "duration": 14,
    "start_time": "2024-06-26T19:47:49.922Z"
   },
   {
    "duration": 16,
    "start_time": "2024-06-26T19:48:01.184Z"
   },
   {
    "duration": 49,
    "start_time": "2024-06-26T19:48:44.880Z"
   },
   {
    "duration": 1868,
    "start_time": "2024-06-26T19:49:14.501Z"
   },
   {
    "duration": 10,
    "start_time": "2024-06-26T19:50:02.674Z"
   },
   {
    "duration": 19,
    "start_time": "2024-06-26T19:50:11.495Z"
   },
   {
    "duration": 29,
    "start_time": "2024-06-26T19:51:07.623Z"
   },
   {
    "duration": 28,
    "start_time": "2024-06-26T19:52:19.441Z"
   },
   {
    "duration": 8,
    "start_time": "2024-06-26T19:52:31.805Z"
   },
   {
    "duration": 18,
    "start_time": "2024-06-26T19:52:47.526Z"
   },
   {
    "duration": 16,
    "start_time": "2024-06-26T19:52:49.966Z"
   },
   {
    "duration": 7,
    "start_time": "2024-06-26T19:52:53.256Z"
   },
   {
    "duration": 22,
    "start_time": "2024-06-26T19:53:03.338Z"
   },
   {
    "duration": 21,
    "start_time": "2024-06-26T19:53:05.395Z"
   },
   {
    "duration": 6,
    "start_time": "2024-06-26T19:53:07.783Z"
   },
   {
    "duration": 5083,
    "start_time": "2024-06-26T21:09:57.730Z"
   },
   {
    "duration": 61,
    "start_time": "2024-06-26T21:10:02.816Z"
   },
   {
    "duration": 20,
    "start_time": "2024-06-26T21:10:02.880Z"
   },
   {
    "duration": 30,
    "start_time": "2024-06-26T21:10:02.904Z"
   },
   {
    "duration": 7,
    "start_time": "2024-06-26T21:10:02.939Z"
   },
   {
    "duration": 28,
    "start_time": "2024-06-26T21:10:02.949Z"
   },
   {
    "duration": 5,
    "start_time": "2024-06-26T21:10:02.980Z"
   },
   {
    "duration": 49,
    "start_time": "2024-06-26T21:10:02.988Z"
   },
   {
    "duration": 10,
    "start_time": "2024-06-26T21:10:03.040Z"
   },
   {
    "duration": 23,
    "start_time": "2024-06-26T21:10:03.057Z"
   },
   {
    "duration": 47,
    "start_time": "2024-06-26T21:10:03.083Z"
   },
   {
    "duration": 20,
    "start_time": "2024-06-26T21:10:03.133Z"
   },
   {
    "duration": 18,
    "start_time": "2024-06-26T21:10:03.156Z"
   },
   {
    "duration": 512,
    "start_time": "2024-06-26T21:10:03.176Z"
   },
   {
    "duration": 19,
    "start_time": "2024-06-26T21:10:03.691Z"
   },
   {
    "duration": 7,
    "start_time": "2024-06-26T21:10:03.730Z"
   },
   {
    "duration": 22,
    "start_time": "2024-06-26T21:10:03.740Z"
   },
   {
    "duration": 377,
    "start_time": "2024-06-26T21:10:03.767Z"
   },
   {
    "duration": 473,
    "start_time": "2024-06-26T21:10:04.148Z"
   },
   {
    "duration": 362,
    "start_time": "2024-06-26T21:10:04.631Z"
   },
   {
    "duration": 37,
    "start_time": "2024-06-26T21:10:04.996Z"
   },
   {
    "duration": 280,
    "start_time": "2024-06-26T21:10:05.036Z"
   },
   {
    "duration": 412,
    "start_time": "2024-06-26T21:10:05.320Z"
   },
   {
    "duration": 233,
    "start_time": "2024-06-26T21:10:05.735Z"
   },
   {
    "duration": 33,
    "start_time": "2024-06-26T21:10:05.971Z"
   },
   {
    "duration": 353,
    "start_time": "2024-06-26T21:10:06.007Z"
   },
   {
    "duration": 7,
    "start_time": "2024-06-26T21:10:06.363Z"
   },
   {
    "duration": 61,
    "start_time": "2024-06-26T21:10:06.380Z"
   },
   {
    "duration": 395,
    "start_time": "2024-06-26T21:10:06.444Z"
   },
   {
    "duration": 33,
    "start_time": "2024-06-26T21:10:06.843Z"
   },
   {
    "duration": 21660,
    "start_time": "2024-06-26T21:10:06.878Z"
   },
   {
    "duration": 25,
    "start_time": "2024-06-26T21:10:28.543Z"
   },
   {
    "duration": 280,
    "start_time": "2024-06-26T21:10:28.572Z"
   },
   {
    "duration": 24,
    "start_time": "2024-06-26T21:10:28.855Z"
   },
   {
    "duration": 283,
    "start_time": "2024-06-26T21:10:28.882Z"
   },
   {
    "duration": 28,
    "start_time": "2024-06-26T21:10:29.169Z"
   },
   {
    "duration": 271,
    "start_time": "2024-06-26T21:10:29.201Z"
   },
   {
    "duration": 32,
    "start_time": "2024-06-26T21:10:29.475Z"
   },
   {
    "duration": 32,
    "start_time": "2024-06-26T21:10:29.510Z"
   },
   {
    "duration": 16,
    "start_time": "2024-06-26T21:10:29.545Z"
   },
   {
    "duration": 17,
    "start_time": "2024-06-26T21:10:29.566Z"
   },
   {
    "duration": 6,
    "start_time": "2024-06-26T21:10:29.586Z"
   },
   {
    "duration": 13,
    "start_time": "2024-06-26T21:12:30.334Z"
   },
   {
    "duration": 18,
    "start_time": "2024-06-26T21:12:46.027Z"
   },
   {
    "duration": 22,
    "start_time": "2024-06-26T21:13:33.751Z"
   },
   {
    "duration": 7,
    "start_time": "2024-06-26T21:14:31.236Z"
   },
   {
    "duration": 5203,
    "start_time": "2024-06-27T20:37:46.201Z"
   },
   {
    "duration": 58,
    "start_time": "2024-06-27T20:37:51.408Z"
   },
   {
    "duration": 20,
    "start_time": "2024-06-27T20:37:51.469Z"
   },
   {
    "duration": 38,
    "start_time": "2024-06-27T20:37:51.493Z"
   },
   {
    "duration": 6,
    "start_time": "2024-06-27T20:37:51.536Z"
   },
   {
    "duration": 35,
    "start_time": "2024-06-27T20:37:51.546Z"
   },
   {
    "duration": 31,
    "start_time": "2024-06-27T20:37:51.584Z"
   },
   {
    "duration": 18,
    "start_time": "2024-06-27T20:37:57.898Z"
   },
   {
    "duration": 20,
    "start_time": "2024-06-27T20:38:23.192Z"
   },
   {
    "duration": 5,
    "start_time": "2024-06-27T20:42:38.348Z"
   },
   {
    "duration": 51,
    "start_time": "2024-06-27T20:42:38.358Z"
   },
   {
    "duration": 20,
    "start_time": "2024-06-27T20:42:38.411Z"
   },
   {
    "duration": 20,
    "start_time": "2024-06-27T20:42:38.434Z"
   },
   {
    "duration": 6,
    "start_time": "2024-06-27T20:42:38.459Z"
   },
   {
    "duration": 68,
    "start_time": "2024-06-27T20:42:38.468Z"
   },
   {
    "duration": 5,
    "start_time": "2024-06-27T20:42:38.540Z"
   },
   {
    "duration": 23,
    "start_time": "2024-06-27T20:42:38.549Z"
   },
   {
    "duration": 50,
    "start_time": "2024-06-27T20:42:38.575Z"
   },
   {
    "duration": 9,
    "start_time": "2024-06-27T20:42:38.629Z"
   },
   {
    "duration": 34,
    "start_time": "2024-06-27T20:42:38.641Z"
   },
   {
    "duration": 37,
    "start_time": "2024-06-27T20:42:38.678Z"
   },
   {
    "duration": 21,
    "start_time": "2024-06-27T20:42:38.719Z"
   },
   {
    "duration": 19,
    "start_time": "2024-06-27T20:42:38.747Z"
   },
   {
    "duration": 581,
    "start_time": "2024-06-27T20:42:38.770Z"
   },
   {
    "duration": 37,
    "start_time": "2024-06-27T20:42:39.354Z"
   },
   {
    "duration": 19,
    "start_time": "2024-06-27T20:42:39.394Z"
   },
   {
    "duration": 25,
    "start_time": "2024-06-27T20:42:39.416Z"
   },
   {
    "duration": 436,
    "start_time": "2024-06-27T20:42:39.445Z"
   },
   {
    "duration": 2247,
    "start_time": "2024-06-27T20:42:48.697Z"
   },
   {
    "duration": 440,
    "start_time": "2024-06-27T20:43:41.465Z"
   },
   {
    "duration": 26,
    "start_time": "2024-06-27T20:44:22.326Z"
   },
   {
    "duration": 29,
    "start_time": "2024-06-27T20:44:34.772Z"
   },
   {
    "duration": 34,
    "start_time": "2024-06-27T20:44:46.928Z"
   },
   {
    "duration": 5,
    "start_time": "2024-06-27T20:44:59.113Z"
   },
   {
    "duration": 38,
    "start_time": "2024-06-27T20:44:59.122Z"
   },
   {
    "duration": 49,
    "start_time": "2024-06-27T20:44:59.163Z"
   },
   {
    "duration": 19,
    "start_time": "2024-06-27T20:44:59.215Z"
   },
   {
    "duration": 5,
    "start_time": "2024-06-27T20:44:59.240Z"
   },
   {
    "duration": 28,
    "start_time": "2024-06-27T20:44:59.248Z"
   },
   {
    "duration": 6,
    "start_time": "2024-06-27T20:44:59.313Z"
   },
   {
    "duration": 19,
    "start_time": "2024-06-27T20:44:59.322Z"
   },
   {
    "duration": 9,
    "start_time": "2024-06-27T20:44:59.344Z"
   },
   {
    "duration": 10,
    "start_time": "2024-06-27T20:44:59.358Z"
   },
   {
    "duration": 21,
    "start_time": "2024-06-27T20:44:59.414Z"
   },
   {
    "duration": 6,
    "start_time": "2024-06-27T20:44:59.438Z"
   },
   {
    "duration": 20,
    "start_time": "2024-06-27T20:44:59.447Z"
   },
   {
    "duration": 51,
    "start_time": "2024-06-27T20:44:59.472Z"
   },
   {
    "duration": 468,
    "start_time": "2024-06-27T20:44:59.527Z"
   },
   {
    "duration": 26,
    "start_time": "2024-06-27T20:44:59.999Z"
   },
   {
    "duration": 7,
    "start_time": "2024-06-27T20:45:00.028Z"
   },
   {
    "duration": 33,
    "start_time": "2024-06-27T20:45:00.039Z"
   },
   {
    "duration": 383,
    "start_time": "2024-06-27T20:45:00.075Z"
   },
   {
    "duration": 316,
    "start_time": "2024-06-27T20:45:00.462Z"
   },
   {
    "duration": 362,
    "start_time": "2024-06-27T20:51:10.780Z"
   },
   {
    "duration": 339,
    "start_time": "2024-06-27T20:51:46.396Z"
   },
   {
    "duration": 321,
    "start_time": "2024-06-27T20:52:11.434Z"
   },
   {
    "duration": 6,
    "start_time": "2024-06-27T20:53:16.627Z"
   },
   {
    "duration": 22,
    "start_time": "2024-06-27T20:53:32.078Z"
   },
   {
    "duration": 6,
    "start_time": "2024-06-27T20:53:42.289Z"
   },
   {
    "duration": 30,
    "start_time": "2024-06-27T20:54:05.151Z"
   },
   {
    "duration": 352,
    "start_time": "2024-06-27T20:54:11.115Z"
   },
   {
    "duration": 321,
    "start_time": "2024-06-27T20:54:23.958Z"
   },
   {
    "duration": 389,
    "start_time": "2024-06-27T20:57:00.266Z"
   },
   {
    "duration": 22,
    "start_time": "2024-06-27T20:57:16.104Z"
   },
   {
    "duration": 392,
    "start_time": "2024-06-27T20:57:21.540Z"
   },
   {
    "duration": 24,
    "start_time": "2024-06-27T20:57:58.687Z"
   },
   {
    "duration": 275,
    "start_time": "2024-06-27T20:58:03.320Z"
   },
   {
    "duration": 330,
    "start_time": "2024-06-27T20:58:23.657Z"
   },
   {
    "duration": 271,
    "start_time": "2024-06-27T21:02:07.401Z"
   },
   {
    "duration": 5,
    "start_time": "2024-06-27T21:02:34.858Z"
   },
   {
    "duration": 39,
    "start_time": "2024-06-27T21:02:34.869Z"
   },
   {
    "duration": 20,
    "start_time": "2024-06-27T21:02:34.912Z"
   },
   {
    "duration": 23,
    "start_time": "2024-06-27T21:02:34.936Z"
   },
   {
    "duration": 6,
    "start_time": "2024-06-27T21:02:34.965Z"
   },
   {
    "duration": 27,
    "start_time": "2024-06-27T21:02:35.267Z"
   },
   {
    "duration": 5,
    "start_time": "2024-06-27T21:02:35.298Z"
   },
   {
    "duration": 20,
    "start_time": "2024-06-27T21:02:35.307Z"
   },
   {
    "duration": 9,
    "start_time": "2024-06-27T21:02:35.330Z"
   },
   {
    "duration": 8,
    "start_time": "2024-06-27T21:02:35.344Z"
   },
   {
    "duration": 21,
    "start_time": "2024-06-27T21:02:35.764Z"
   },
   {
    "duration": 6,
    "start_time": "2024-06-27T21:02:35.789Z"
   },
   {
    "duration": 20,
    "start_time": "2024-06-27T21:02:35.798Z"
   },
   {
    "duration": 18,
    "start_time": "2024-06-27T21:02:35.822Z"
   },
   {
    "duration": 490,
    "start_time": "2024-06-27T21:02:35.843Z"
   },
   {
    "duration": 7,
    "start_time": "2024-06-27T21:02:36.337Z"
   },
   {
    "duration": 18,
    "start_time": "2024-06-27T21:02:36.349Z"
   },
   {
    "duration": 42,
    "start_time": "2024-06-27T21:02:36.370Z"
   },
   {
    "duration": 30,
    "start_time": "2024-06-27T21:02:36.415Z"
   },
   {
    "duration": 375,
    "start_time": "2024-06-27T21:02:36.448Z"
   },
   {
    "duration": 356,
    "start_time": "2024-06-27T21:02:36.829Z"
   },
   {
    "duration": 413,
    "start_time": "2024-06-27T21:02:37.189Z"
   },
   {
    "duration": 21,
    "start_time": "2024-06-27T21:02:37.612Z"
   },
   {
    "duration": 290,
    "start_time": "2024-06-27T21:02:37.639Z"
   },
   {
    "duration": 365,
    "start_time": "2024-06-27T21:02:37.932Z"
   },
   {
    "duration": 301,
    "start_time": "2024-06-27T21:02:38.300Z"
   },
   {
    "duration": 37,
    "start_time": "2024-06-27T21:02:38.604Z"
   },
   {
    "duration": 348,
    "start_time": "2024-06-27T21:02:38.644Z"
   },
   {
    "duration": 19,
    "start_time": "2024-06-27T21:02:38.996Z"
   },
   {
    "duration": 35,
    "start_time": "2024-06-27T21:02:39.017Z"
   },
   {
    "duration": 411,
    "start_time": "2024-06-27T21:02:39.054Z"
   },
   {
    "duration": 31,
    "start_time": "2024-06-27T21:02:39.471Z"
   },
   {
    "duration": 22054,
    "start_time": "2024-06-27T21:02:39.505Z"
   },
   {
    "duration": 24,
    "start_time": "2024-06-27T21:03:01.563Z"
   },
   {
    "duration": 275,
    "start_time": "2024-06-27T21:03:01.589Z"
   },
   {
    "duration": 23,
    "start_time": "2024-06-27T21:03:01.868Z"
   },
   {
    "duration": 267,
    "start_time": "2024-06-27T21:03:01.912Z"
   },
   {
    "duration": 39,
    "start_time": "2024-06-27T21:03:02.182Z"
   },
   {
    "duration": 271,
    "start_time": "2024-06-27T21:03:02.224Z"
   },
   {
    "duration": 41,
    "start_time": "2024-06-27T21:03:02.498Z"
   },
   {
    "duration": 18,
    "start_time": "2024-06-27T21:03:02.543Z"
   },
   {
    "duration": 51,
    "start_time": "2024-06-27T21:03:02.564Z"
   },
   {
    "duration": 8,
    "start_time": "2024-06-27T21:03:02.617Z"
   },
   {
    "duration": 18,
    "start_time": "2024-06-27T21:03:02.628Z"
   },
   {
    "duration": 17,
    "start_time": "2024-06-27T21:03:02.650Z"
   },
   {
    "duration": 8,
    "start_time": "2024-06-27T21:03:13.949Z"
   },
   {
    "duration": 30,
    "start_time": "2024-06-27T21:12:30.334Z"
   },
   {
    "duration": 9,
    "start_time": "2024-06-27T21:13:31.464Z"
   },
   {
    "duration": 37,
    "start_time": "2024-06-27T21:13:40.949Z"
   },
   {
    "duration": 275,
    "start_time": "2024-06-27T21:14:43.610Z"
   },
   {
    "duration": 8,
    "start_time": "2024-06-27T21:16:04.841Z"
   },
   {
    "duration": 27,
    "start_time": "2024-06-27T21:17:00.007Z"
   },
   {
    "duration": 7,
    "start_time": "2024-06-27T21:18:29.000Z"
   }
  ],
  "kernelspec": {
   "display_name": "Python 3 (ipykernel)",
   "language": "python",
   "name": "python3"
  },
  "language_info": {
   "codemirror_mode": {
    "name": "ipython",
    "version": 3
   },
   "file_extension": ".py",
   "mimetype": "text/x-python",
   "name": "python",
   "nbconvert_exporter": "python",
   "pygments_lexer": "ipython3",
   "version": "3.11.7"
  },
  "toc": {
   "base_numbering": 1,
   "nav_menu": {},
   "number_sections": true,
   "sideBar": true,
   "skip_h1_title": true,
   "title_cell": "Table of Contents",
   "title_sidebar": "Contents",
   "toc_cell": false,
   "toc_position": {
    "height": "calc(100% - 180px)",
    "left": "10px",
    "top": "150px",
    "width": "165px"
   },
   "toc_section_display": true,
   "toc_window_display": true
  }
 },
 "nbformat": 4,
 "nbformat_minor": 2
}
